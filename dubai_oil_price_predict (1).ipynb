{
 "cells": [
  {
   "cell_type": "code",
   "execution_count": 1,
   "metadata": {},
   "outputs": [],
   "source": [
    "from IPython.display import clear_output\n",
    "!pip install requests\n",
    "!pip install --upgrade pandas\n",
    "!pip install konlpy\n",
    "!pip install gensim\n",
    "!cp -R /home/work/deep/jdk1.8.0_201 /usr/lib/jvm\n",
    "clear_output()"
   ]
  },
  {
   "cell_type": "code",
   "execution_count": 2,
   "metadata": {},
   "outputs": [],
   "source": [
    "!pip install plotly\n",
    "import plotly.plotly as py\n",
    "import plotly.graph_objs as go\n",
    "py.sign_in('kyoh', 'xLxYyOTECJ48ofwzrn2j')\n",
    "from plotly.offline import download_plotlyjs, init_notebook_mode, plot, iplot\n",
    "init_notebook_mode(connected=True)\n",
    "clear_output()"
   ]
  },
  {
   "cell_type": "code",
   "execution_count": 3,
   "metadata": {},
   "outputs": [],
   "source": [
    "import pandas as pd\n",
    "import numpy as np\n",
    "import requests\n",
    "features = []"
   ]
  },
  {
   "cell_type": "markdown",
   "metadata": {},
   "source": [
    "### 1) 국제 원유가격 데이터에서 예측할 두바이유 데이터 로드 및 추세 확인\n",
    "### 2) 피쳐로 사용할 데이터 탐색 \n",
    "### - 국제 유가 관련 뉴스 데이터(제외)\n",
    "### - 다우 존스 데이터\n",
    "### - 환율 데이터\n",
    "### - 코스피 데이터\n",
    "### - Brent 데이터\n",
    "### - WTI 데이터\n",
    "### - 국제 유가에 주가 상승 영향을 받는 국내 주식 종목\n",
    "###   (SK이노베이션,S-OIL,한화케미칼)\n",
    "### - 국제 유가에 주가 하락 영향을 받는 국내 주식 종목\n",
    "###   (아시아나항공,대한항공,현대상선)\n",
    "### 3) 모델링"
   ]
  },
  {
   "cell_type": "markdown",
   "metadata": {},
   "source": [
    "#### 1) 국제 원유가격 데이터에서 예측할 두바이유 데이터 로드 및 추세 확인\n",
    "#### 국제 원유가격(Brent, WTI, 두바이) 데이터 로드 및 전처리\n",
    "#### df_oil_price"
   ]
  },
  {
   "cell_type": "code",
   "execution_count": 4,
   "metadata": {},
   "outputs": [],
   "source": [
    "df_oil_price = pd.read_csv('국제_원유가격20080607_20190610.csv', encoding='UTF-8')\n",
    "df_oil_price.columns = ['time','dubai','brent','WIT']\n",
    "\n",
    "df_oil_price['time'] = '20'+df_oil_price.time\n",
    "df_oil_price['time'] = pd.to_datetime(df_oil_price['time'], format='%Y년%m월%d일')\n",
    "#df_oil_price = df_oil_price.drop(df.index[list(df_WTI[df_WTI.price=='.'].index)])\n",
    "#df_WTI['price']= df_WTI.price.astype('float')\n",
    "#df=df.merge(df_oil,how='outer',on=\"time\")"
   ]
  },
  {
   "cell_type": "markdown",
   "metadata": {},
   "source": [
    "#### 데이터 중 이상치가 있으면 전일 값, 전전일 값으로 대체"
   ]
  },
  {
   "cell_type": "code",
   "execution_count": 5,
   "metadata": {},
   "outputs": [],
   "source": [
    "df_oil_price.dubai = np.where(df_oil_price.dubai == '-', df_oil_price.dubai.shift(-1) , df_oil_price.dubai)\n",
    "df_oil_price.dubai = np.where(df_oil_price.dubai == '-', df_oil_price.dubai.shift(-2) , df_oil_price.dubai)\n",
    "df_oil_price.brent = np.where(df_oil_price.brent == '-', df_oil_price.brent.shift(-1) , df_oil_price.brent)\n",
    "df_oil_price.brent = np.where(df_oil_price.brent == '-', df_oil_price.brent.shift(-2) , df_oil_price.brent)\n",
    "df_oil_price.WIT = np.where(df_oil_price.WIT == '-', df_oil_price.WIT.shift(-1) , df_oil_price.WIT)\n",
    "df_oil_price.WIT = np.where(df_oil_price.WIT == '-', df_oil_price.WIT.shift(-2) , df_oil_price.WIT)"
   ]
  },
  {
   "cell_type": "code",
   "execution_count": 6,
   "metadata": {},
   "outputs": [],
   "source": [
    "df_oil_price.dubai = df_oil_price.dubai.astype(float)\n",
    "df_oil_price.brent = df_oil_price.brent.astype(float)\n",
    "df_oil_price.WIT = df_oil_price.WIT.astype(float)"
   ]
  },
  {
   "cell_type": "code",
   "execution_count": 7,
   "metadata": {},
   "outputs": [],
   "source": [
    "features.append(df_oil_price)"
   ]
  },
  {
   "cell_type": "code",
   "execution_count": 8,
   "metadata": {},
   "outputs": [
    {
     "data": {
      "text/html": [
       "<div>\n",
       "<style scoped>\n",
       "    .dataframe tbody tr th:only-of-type {\n",
       "        vertical-align: middle;\n",
       "    }\n",
       "\n",
       "    .dataframe tbody tr th {\n",
       "        vertical-align: top;\n",
       "    }\n",
       "\n",
       "    .dataframe thead th {\n",
       "        text-align: right;\n",
       "    }\n",
       "</style>\n",
       "<table border=\"1\" class=\"dataframe\">\n",
       "  <thead>\n",
       "    <tr style=\"text-align: right;\">\n",
       "      <th></th>\n",
       "      <th>dubai</th>\n",
       "      <th>brent</th>\n",
       "      <th>WIT</th>\n",
       "    </tr>\n",
       "  </thead>\n",
       "  <tbody>\n",
       "    <tr>\n",
       "      <th>count</th>\n",
       "      <td>2840.000000</td>\n",
       "      <td>2840.000000</td>\n",
       "      <td>2840.000000</td>\n",
       "    </tr>\n",
       "    <tr>\n",
       "      <th>mean</th>\n",
       "      <td>77.314197</td>\n",
       "      <td>80.033173</td>\n",
       "      <td>73.468486</td>\n",
       "    </tr>\n",
       "    <tr>\n",
       "      <th>std</th>\n",
       "      <td>25.929948</td>\n",
       "      <td>26.372873</td>\n",
       "      <td>23.115252</td>\n",
       "    </tr>\n",
       "    <tr>\n",
       "      <th>min</th>\n",
       "      <td>22.830000</td>\n",
       "      <td>27.880000</td>\n",
       "      <td>26.210000</td>\n",
       "    </tr>\n",
       "    <tr>\n",
       "      <th>25%</th>\n",
       "      <td>54.167500</td>\n",
       "      <td>56.007500</td>\n",
       "      <td>51.697500</td>\n",
       "    </tr>\n",
       "    <tr>\n",
       "      <th>50%</th>\n",
       "      <td>73.750000</td>\n",
       "      <td>75.585000</td>\n",
       "      <td>72.480000</td>\n",
       "    </tr>\n",
       "    <tr>\n",
       "      <th>75%</th>\n",
       "      <td>104.472500</td>\n",
       "      <td>107.737500</td>\n",
       "      <td>93.825000</td>\n",
       "    </tr>\n",
       "    <tr>\n",
       "      <th>max</th>\n",
       "      <td>140.700000</td>\n",
       "      <td>146.080000</td>\n",
       "      <td>145.290000</td>\n",
       "    </tr>\n",
       "  </tbody>\n",
       "</table>\n",
       "</div>"
      ],
      "text/plain": [
       "             dubai        brent          WIT\n",
       "count  2840.000000  2840.000000  2840.000000\n",
       "mean     77.314197    80.033173    73.468486\n",
       "std      25.929948    26.372873    23.115252\n",
       "min      22.830000    27.880000    26.210000\n",
       "25%      54.167500    56.007500    51.697500\n",
       "50%      73.750000    75.585000    72.480000\n",
       "75%     104.472500   107.737500    93.825000\n",
       "max     140.700000   146.080000   145.290000"
      ]
     },
     "execution_count": 8,
     "metadata": {},
     "output_type": "execute_result"
    }
   ],
   "source": [
    "#기술 통계\n",
    "df_oil_price.describe()"
   ]
  },
  {
   "cell_type": "code",
   "execution_count": 9,
   "metadata": {},
   "outputs": [
    {
     "name": "stderr",
     "output_type": "stream",
     "text": [
      "/usr/local/lib/python3.5/dist-packages/IPython/core/display.py:689: UserWarning:\n",
      "\n",
      "Consider using IPython.display.IFrame instead\n",
      "\n"
     ]
    },
    {
     "data": {
      "text/html": [
       "<iframe id=\"igraph\" scrolling=\"no\" style=\"border:none;\" seamless=\"seamless\" src=\"https://plot.ly/~kyoh/25.embed\" height=\"525px\" width=\"100%\"></iframe>"
      ],
      "text/plain": [
       "<chart_studio.tools.PlotlyDisplay object>"
      ]
     },
     "execution_count": 9,
     "metadata": {},
     "output_type": "execute_result"
    }
   ],
   "source": [
    "trace_brent = go.Scatter(\n",
    "                x=df_oil_price.time,\n",
    "                y=df_oil_price['brent'],\n",
    "                name = \"brent\",\n",
    "                line = dict(color = '#89d5c9'),\n",
    "                opacity = 0.8)\n",
    "\n",
    "trace_dubai = go.Scatter(\n",
    "                x=df_oil_price.time,\n",
    "                y=df_oil_price['dubai'],\n",
    "                name = \"dubai\",\n",
    "                line = dict(color = '#e25b45'),\n",
    "                opacity = 0.8)\n",
    "\n",
    "trace_WIT = go.Scatter(\n",
    "                x=df_oil_price.time,\n",
    "                y=df_oil_price['WIT'],\n",
    "                name = \"WIT\",\n",
    "                line = dict(color = '#adc965'),\n",
    "                opacity = 0.8)\n",
    "data = [trace_brent,trace_dubai,trace_WIT]\n",
    "layout = dict(\n",
    "    title = \"국제 유가 추이\",)\n",
    "fig = dict(data=data, layout=layout)\n",
    "py.iplot(fig, filename = \"국제 유가 추이\")"
   ]
  },
  {
   "cell_type": "markdown",
   "metadata": {},
   "source": [
    "## News Data Load(국제유가 관련 뉴스)\n",
    "## 서울신문 데이터 2008.06.09 ~ 2019.06.10"
   ]
  },
  {
   "cell_type": "code",
   "execution_count": 4,
   "metadata": {},
   "outputs": [],
   "source": [
    "df = pd.read_csv('NewsMainOutput.csv', encoding='UTF-8',sep='|')"
   ]
  },
  {
   "cell_type": "code",
   "execution_count": 5,
   "metadata": {},
   "outputs": [],
   "source": [
    "df['main']= df.main.str.replace(\"\\t\",\"\")\n",
    "df['main']= df['main'].str.replace('[','')\n",
    "df['main']= df['main'].str.replace(']','')\n",
    "df['main']= df['main'].str.replace('서울신문','')\n",
    "df.dropna(how='any',inplace=True) \n",
    "#df['main']= df['main'].astype('str')\n",
    "data = {'time': df.time.unique(),'main' : df.groupby(['time'])['main'].apply(lambda x: \"%s\" % ', '.join(x)).values}\n",
    "df = pd.DataFrame(data=data)"
   ]
  },
  {
   "cell_type": "code",
   "execution_count": 6,
   "metadata": {},
   "outputs": [
    {
     "name": "stderr",
     "output_type": "stream",
     "text": [
      "/usr/local/lib/python3.5/dist-packages/konlpy/tag/_okt.py:16: UserWarning:\n",
      "\n",
      "\"Twitter\" has changed to \"Okt\" since KoNLPy v0.4.5.\n",
      "\n"
     ]
    }
   ],
   "source": [
    "from konlpy.tag import Twitter\n",
    "tagger = Twitter()\n",
    "\n",
    "def kor_noun(text):\n",
    "    words = []\n",
    "    for w in tagger.nouns(text):\n",
    "        if len(w) > 1:\n",
    "            words.append(w)\n",
    "    return words"
   ]
  },
  {
   "cell_type": "code",
   "execution_count": 103,
   "metadata": {},
   "outputs": [],
   "source": [
    "from sklearn.feature_extraction.text import CountVectorizer\n",
    "from gensim.matutils import Sparse2Corpus\n",
    "from gensim.models.ldamodel import LdaModel\n",
    "topic_lists = []\n",
    "for i in range(len(df)):\n",
    "    cv = CountVectorizer(tokenizer=kor_noun, max_features=1000)\n",
    "    articles = df['main'][i:i+1]\n",
    "    tdm = cv.fit_transform(articles)\n",
    "    words = cv.get_feature_names()\n",
    "    corpus = Sparse2Corpus(tdm.T)\n",
    "    lda = LdaModel(corpus=corpus, id2word=dict(enumerate(words)),\n",
    "               num_topics=1, passes=10, iterations=50,\n",
    "               random_state=1234)\n",
    "    word_lists = []\n",
    "    for cnt in range(10):\n",
    "        word_lists.append(lda.show_topic(0)[cnt][0])\n",
    "    topic_lists.append(word_lists)"
   ]
  },
  {
   "cell_type": "code",
   "execution_count": 11,
   "metadata": {},
   "outputs": [],
   "source": [
    "from sklearn.feature_extraction.text import CountVectorizer\n",
    "from gensim.matutils import Sparse2Corpus\n",
    "from gensim.models.ldamodel import LdaModel\n",
    "cv = CountVectorizer(tokenizer=kor_noun, max_features=1000)\n",
    "articles = df['main']\n",
    "tdm = cv.fit_transform(articles)\n"
   ]
  },
  {
   "cell_type": "markdown",
   "metadata": {},
   "source": [
    "#### 기사 당 주제어 10개"
   ]
  },
  {
   "cell_type": "code",
   "execution_count": 104,
   "metadata": {
    "scrolled": true
   },
   "outputs": [
    {
     "data": {
      "text/plain": [
       "[['유가', '두바이', '가격', '최고', '상승세', '오른', '미국', '연간', '배럴', '업계'],\n",
       " ['생산자', '물가', '가격', '제품', '상승', '전월', '안정', '국제', '크게', '한파'],\n",
       " ['물가', '생활', '정책', '재정경제부', '경제', '경제정책', '유가', '약화', '요금', '최근'],\n",
       " ['유가', '가격', '회원', '이란', '증산', '입장', '산유', '생산', '센트', '베네수엘라'],\n",
       " ['심리', '회복', '소비', '지난해', '전망', '환율', '경기', '지표', '경제', '소득'],\n",
       " ['석유', '유가', '불안', '생산', '중국', '증산', '투기', '국제', '요소', '하루'],\n",
       " ['배럴', '하루', '증산', '결정', '회원', '유가', '쿼터', '석유', '직후', '현재'],\n",
       " ['유가', '국제', '외국인', '하락', '상승', '미국', '주가', '증시', '지난해', '도세'],\n",
       " ['유가', '에너지', '정부', '부총리', '회복', '석유', '국제', '소비', '자금', '은행'],\n",
       " ['가격', '배럴', '미국', '오른', '때문', '최고', '사상', '기록', '거래소', '국제']]"
      ]
     },
     "execution_count": 104,
     "metadata": {},
     "output_type": "execute_result"
    }
   ],
   "source": [
    "topic_lists[:10]"
   ]
  },
  {
   "cell_type": "code",
   "execution_count": 105,
   "metadata": {},
   "outputs": [],
   "source": [
    "df = pd.concat([df,pd.DataFrame(np.array(topic_lists),columns=['top1','top2','top3','top4','top5','top6','top7','top8','top9','top10'])],axis=1)\n",
    "df = pd.concat([df[['time']],pd.concat([pd.get_dummies(df.top1),pd.get_dummies(df.top2),pd.get_dummies(df.top3)\n",
    "          ,pd.get_dummies(df.top4),pd.get_dummies(df.top5),pd.get_dummies(df.top6)\n",
    "          ,pd.get_dummies(df.top7),pd.get_dummies(df.top8),pd.get_dummies(df.top9)\n",
    "          ,pd.get_dummies(df.top10)], axis=1, sort=False).fillna(0)],axis=1)\n",
    "df = df.sum(axis=1, level=0)\n",
    "df['time'] = pd.to_datetime(data['time'], format='%Y.%m.%d.')"
   ]
  },
  {
   "cell_type": "code",
   "execution_count": 106,
   "metadata": {},
   "outputs": [
    {
     "data": {
      "text/html": [
       "<div>\n",
       "<style scoped>\n",
       "    .dataframe tbody tr th:only-of-type {\n",
       "        vertical-align: middle;\n",
       "    }\n",
       "\n",
       "    .dataframe tbody tr th {\n",
       "        vertical-align: top;\n",
       "    }\n",
       "\n",
       "    .dataframe thead th {\n",
       "        text-align: right;\n",
       "    }\n",
       "</style>\n",
       "<table border=\"1\" class=\"dataframe\">\n",
       "  <thead>\n",
       "    <tr style=\"text-align: right;\">\n",
       "      <th></th>\n",
       "      <th>time</th>\n",
       "      <th>가격</th>\n",
       "      <th>가동</th>\n",
       "      <th>가치</th>\n",
       "      <th>감사</th>\n",
       "      <th>감산</th>\n",
       "      <th>감소</th>\n",
       "      <th>개발</th>\n",
       "      <th>개월</th>\n",
       "      <th>개입</th>\n",
       "      <th>...</th>\n",
       "      <th>하나투어</th>\n",
       "      <th>화교</th>\n",
       "      <th>화물차</th>\n",
       "      <th>화석</th>\n",
       "      <th>화폐</th>\n",
       "      <th>환경세</th>\n",
       "      <th>환급금</th>\n",
       "      <th>환수</th>\n",
       "      <th>후반</th>\n",
       "      <th>휴무</th>\n",
       "    </tr>\n",
       "  </thead>\n",
       "  <tbody>\n",
       "    <tr>\n",
       "      <th>0</th>\n",
       "      <td>2019-06-08</td>\n",
       "      <td>1</td>\n",
       "      <td>0</td>\n",
       "      <td>0</td>\n",
       "      <td>0</td>\n",
       "      <td>0</td>\n",
       "      <td>0</td>\n",
       "      <td>0</td>\n",
       "      <td>0</td>\n",
       "      <td>0</td>\n",
       "      <td>...</td>\n",
       "      <td>0</td>\n",
       "      <td>0</td>\n",
       "      <td>0</td>\n",
       "      <td>0</td>\n",
       "      <td>0</td>\n",
       "      <td>0</td>\n",
       "      <td>0</td>\n",
       "      <td>0</td>\n",
       "      <td>0</td>\n",
       "      <td>0</td>\n",
       "    </tr>\n",
       "    <tr>\n",
       "      <th>1</th>\n",
       "      <td>2019-05-15</td>\n",
       "      <td>1</td>\n",
       "      <td>0</td>\n",
       "      <td>0</td>\n",
       "      <td>0</td>\n",
       "      <td>0</td>\n",
       "      <td>0</td>\n",
       "      <td>0</td>\n",
       "      <td>0</td>\n",
       "      <td>0</td>\n",
       "      <td>...</td>\n",
       "      <td>0</td>\n",
       "      <td>0</td>\n",
       "      <td>0</td>\n",
       "      <td>0</td>\n",
       "      <td>0</td>\n",
       "      <td>0</td>\n",
       "      <td>0</td>\n",
       "      <td>0</td>\n",
       "      <td>0</td>\n",
       "      <td>0</td>\n",
       "    </tr>\n",
       "    <tr>\n",
       "      <th>2</th>\n",
       "      <td>2019-05-14</td>\n",
       "      <td>0</td>\n",
       "      <td>0</td>\n",
       "      <td>0</td>\n",
       "      <td>0</td>\n",
       "      <td>0</td>\n",
       "      <td>0</td>\n",
       "      <td>0</td>\n",
       "      <td>0</td>\n",
       "      <td>0</td>\n",
       "      <td>...</td>\n",
       "      <td>0</td>\n",
       "      <td>0</td>\n",
       "      <td>0</td>\n",
       "      <td>0</td>\n",
       "      <td>0</td>\n",
       "      <td>0</td>\n",
       "      <td>0</td>\n",
       "      <td>0</td>\n",
       "      <td>0</td>\n",
       "      <td>0</td>\n",
       "    </tr>\n",
       "    <tr>\n",
       "      <th>3</th>\n",
       "      <td>2019-05-08</td>\n",
       "      <td>1</td>\n",
       "      <td>0</td>\n",
       "      <td>0</td>\n",
       "      <td>0</td>\n",
       "      <td>0</td>\n",
       "      <td>0</td>\n",
       "      <td>0</td>\n",
       "      <td>0</td>\n",
       "      <td>0</td>\n",
       "      <td>...</td>\n",
       "      <td>0</td>\n",
       "      <td>0</td>\n",
       "      <td>0</td>\n",
       "      <td>0</td>\n",
       "      <td>0</td>\n",
       "      <td>0</td>\n",
       "      <td>0</td>\n",
       "      <td>0</td>\n",
       "      <td>0</td>\n",
       "      <td>0</td>\n",
       "    </tr>\n",
       "    <tr>\n",
       "      <th>4</th>\n",
       "      <td>2019-05-07</td>\n",
       "      <td>0</td>\n",
       "      <td>0</td>\n",
       "      <td>0</td>\n",
       "      <td>0</td>\n",
       "      <td>0</td>\n",
       "      <td>0</td>\n",
       "      <td>0</td>\n",
       "      <td>0</td>\n",
       "      <td>0</td>\n",
       "      <td>...</td>\n",
       "      <td>0</td>\n",
       "      <td>0</td>\n",
       "      <td>0</td>\n",
       "      <td>0</td>\n",
       "      <td>0</td>\n",
       "      <td>0</td>\n",
       "      <td>0</td>\n",
       "      <td>0</td>\n",
       "      <td>0</td>\n",
       "      <td>0</td>\n",
       "    </tr>\n",
       "  </tbody>\n",
       "</table>\n",
       "<p>5 rows × 1813 columns</p>\n",
       "</div>"
      ],
      "text/plain": [
       "        time  가격  가동  가치  감사  감산  감소  개발  개월  개입  ...  하나투어  화교  화물차  화석  화폐  \\\n",
       "0 2019-06-08   1   0   0   0   0   0   0   0   0  ...     0   0    0   0   0   \n",
       "1 2019-05-15   1   0   0   0   0   0   0   0   0  ...     0   0    0   0   0   \n",
       "2 2019-05-14   0   0   0   0   0   0   0   0   0  ...     0   0    0   0   0   \n",
       "3 2019-05-08   1   0   0   0   0   0   0   0   0  ...     0   0    0   0   0   \n",
       "4 2019-05-07   0   0   0   0   0   0   0   0   0  ...     0   0    0   0   0   \n",
       "\n",
       "   환경세  환급금  환수  후반  휴무  \n",
       "0    0    0   0   0   0  \n",
       "1    0    0   0   0   0  \n",
       "2    0    0   0   0   0  \n",
       "3    0    0   0   0   0  \n",
       "4    0    0   0   0   0  \n",
       "\n",
       "[5 rows x 1813 columns]"
      ]
     },
     "execution_count": 106,
     "metadata": {},
     "output_type": "execute_result"
    }
   ],
   "source": [
    "df.head()"
   ]
  },
  {
   "cell_type": "markdown",
   "metadata": {},
   "source": [
    "## Load 주유소 기름 Data"
   ]
  },
  {
   "cell_type": "code",
   "execution_count": 10,
   "metadata": {},
   "outputs": [],
   "source": [
    "df_oil = pd.read_csv('주유소_평균판매가격_제품별.csv',encoding='UTF-8')\n",
    "df_oil['time'] = pd.to_datetime(df_oil['구분'], format='%Y년%m월%d일')\n",
    "df_oil.drop('구분',axis=1,inplace=True)\n",
    "#df = df_oil[['time','고급휘발유','보통휘발유','자동차용경유']].merge(df,on='time',how='outer').fillna(0)\n",
    "#oil_dubai_df =pd.merge(df_oil, df_oil_price[['time','dubai']], how='right',on='time').dropna(how='any').set_index('time')"
   ]
  },
  {
   "cell_type": "code",
   "execution_count": 11,
   "metadata": {},
   "outputs": [],
   "source": [
    "features.append(df_oil)"
   ]
  },
  {
   "cell_type": "code",
   "execution_count": 34,
   "metadata": {},
   "outputs": [
    {
     "data": {
      "text/html": [
       "<iframe id=\"igraph\" scrolling=\"no\" style=\"border:none;\" seamless=\"seamless\" src=\"https://plot.ly/~kyoh/35.embed\" height=\"525px\" width=\"100%\"></iframe>"
      ],
      "text/plain": [
       "<chart_studio.tools.PlotlyDisplay object>"
      ]
     },
     "execution_count": 34,
     "metadata": {},
     "output_type": "execute_result"
    }
   ],
   "source": [
    "trace_1 = go.Scatter(\n",
    "                x=df_all.index,\n",
    "                y=x[:,3],\n",
    "                name = \"고급휘발유\",\n",
    "                line = dict(color = '#89d5c9'),\n",
    "                opacity = 0.8)\n",
    "\n",
    "trace_2 = go.Scatter(\n",
    "                x=df_all.index,\n",
    "                y=x[:,4],\n",
    "                name = \"보통휘발유\",\n",
    "                line = dict(color = '#e25b45'),\n",
    "                opacity = 0.8)\n",
    "\n",
    "trace_3 = go.Scatter(\n",
    "                x=df_all.index,\n",
    "                y=x[:,5],\n",
    "                name = \"자동차용경유\",\n",
    "                line = dict(color = '#adc965'),\n",
    "                opacity = 0.8)\n",
    "trace_4 = go.Scatter(\n",
    "                x=df_all.index,\n",
    "                y=x[:,0],\n",
    "                name = \"두바이유\",\n",
    "                line = dict(color = 'red'),\n",
    "                opacity = 1)\n",
    "data = [trace_1,trace_2,trace_3,trace_4]\n",
    "layout = dict(\n",
    "    title = \"국제유가와 국내 기름값 추이\",)\n",
    "fig = dict(data=data, layout=layout)\n",
    "py.iplot(fig, filename = \"국제유가와 국내 기름값 추이\")"
   ]
  },
  {
   "cell_type": "markdown",
   "metadata": {},
   "source": [
    "## 다우존스 / 코스피 Data"
   ]
  },
  {
   "cell_type": "code",
   "execution_count": 13,
   "metadata": {},
   "outputs": [],
   "source": [
    "df_dji = pd.read_csv('다우존스 내역.csv', encoding='UTF-8')\n",
    "kospi = pd.read_csv('코스피지수 내역.csv', encoding='UTF-8')\n",
    "df_dji['날짜'] = pd.to_datetime(df_dji['날짜'], format='%Y년 %m월 %d일')\n",
    "kospi['날짜'] = pd.to_datetime(kospi['날짜'], format='%Y년 %m월 %d일')\n",
    "df_dji['현재가'] = df_dji['현재가'].str.replace(',','').astype('float')\n",
    "kospi['현재가'] = kospi['현재가'].str.replace(',','').astype('float')\n",
    "df_stock = df_dji[['날짜','현재가']].merge(kospi[['날짜','현재가']],on='날짜',how='outer')\n",
    "df_stock.columns = ['time','다우존스','코스피']\n",
    "#df_stock['현재가_x'] = df_stock['현재가_x'].fillna(df_stock.현재가_x.astype('float32').mean())\n",
    "#df_stock['현재가_y'] = df_stock['현재가_y'].fillna(df_stock.현재가_y.astype('float32').mean())\n",
    "#df_stock['time'] = df_stock['날짜'].dt.strftime('%Y-%m-%d')\n",
    "#df_stock['time'] = pd.to_datetime(df_stock['날짜'], format='%Y-%m-%d')\n",
    "#df_stock.drop('날짜',axis=1,inplace=True)\n",
    "#df_stock.columns = ['다우존스','코스피','time']\n",
    "#stock_df=pd.merge(df_stock, df_oil_price[['time','dubai']], how='right',on='time').dropna(how='any').set_index('time')"
   ]
  },
  {
   "cell_type": "code",
   "execution_count": 14,
   "metadata": {},
   "outputs": [],
   "source": [
    "features.append(df_stock)"
   ]
  },
  {
   "cell_type": "code",
   "execution_count": 35,
   "metadata": {},
   "outputs": [
    {
     "data": {
      "text/html": [
       "<iframe id=\"igraph\" scrolling=\"no\" style=\"border:none;\" seamless=\"seamless\" src=\"https://plot.ly/~kyoh/35.embed\" height=\"525px\" width=\"100%\"></iframe>"
      ],
      "text/plain": [
       "<chart_studio.tools.PlotlyDisplay object>"
      ]
     },
     "execution_count": 35,
     "metadata": {},
     "output_type": "execute_result"
    }
   ],
   "source": [
    "trace_1 = go.Scatter(\n",
    "                x=df_all.index,\n",
    "                y=x[:,6],\n",
    "                name = \"다우존스\",\n",
    "                line = dict(color = '#89d5c9'),\n",
    "                opacity = 0.8)\n",
    "trace_2 = go.Scatter(\n",
    "                x=df_all.index,\n",
    "                y=x[:,7],\n",
    "                name = \"코스피\",\n",
    "                line = dict(color = '#e25b45'),\n",
    "                opacity = 0.8)\n",
    "trace_3 = go.Scatter(\n",
    "                x=df_all.index,\n",
    "                y=x[:,0],\n",
    "                name = \"두바이유\",\n",
    "                line = dict(color = 'red'),\n",
    "                opacity = 1)\n",
    "data = [trace_1,trace_2,trace_3]\n",
    "layout = dict(\n",
    "    title = \"국제유가와 국내 기름값 추이\",)\n",
    "fig = dict(data=data, layout=layout)\n",
    "py.iplot(fig, filename = \"국제유가와 국내 기름값 추이\")"
   ]
  },
  {
   "cell_type": "markdown",
   "metadata": {},
   "source": [
    "## 환율 Data(USD)\n",
    "## df_er"
   ]
  },
  {
   "cell_type": "markdown",
   "metadata": {},
   "source": [
    "usd_list = []\n",
    "for date in list(df.time.unique()):\n",
    "    url = 'https://www.koreaexim.go.kr/site/program/financial/exchangeJSON?authkey=E24WPCtlRO2NyplVreVjosPe4XmFFtmb&searchdate={}&data=AP01'.format(date)\n",
    "    print('{} search start'.format(date))\n",
    "    try:\n",
    "        response = requests.get(url)\n",
    "    except:\n",
    "        print('retry')\n",
    "        response = requests.get(url)\n",
    "    if len(response.json()) == 0:\n",
    "        usd_list.append(None)\n",
    "        print('Null')\n",
    "    else:\n",
    "        for i in response.json():m\n",
    "            if i['cur_unit'] == 'USD':\n",
    "                usd_list.append(i['ttb'])\n",
    "                print(i['ttb'])\n",
    "    print('{} search end'.format(date))"
   ]
  },
  {
   "cell_type": "markdown",
   "metadata": {},
   "source": [
    "pd.DataFrame(data={'er':usd_list,'time':df.time.unique()}).to_csv('er.csv',encoding='UTF-8')"
   ]
  },
  {
   "cell_type": "code",
   "execution_count": 15,
   "metadata": {},
   "outputs": [],
   "source": [
    "df_er = pd.read_csv('er.csv',encoding='UTF-8')\n",
    "df_er['er'] = df_er['er'].str.replace(',','').astype('float')\n",
    "#df_er['er'] = df_er['er'].fillna(df_er['er'].mean())\n",
    "df_er['time'] = pd.to_datetime(df_er['time'], format='%Y-%m-%d')\n",
    "df_er = df_er[(df_er.time <= '2019-06-10')&(df_er.time >= '2008-06-09')]"
   ]
  },
  {
   "cell_type": "code",
   "execution_count": 16,
   "metadata": {},
   "outputs": [
    {
     "data": {
      "text/plain": [
       "0"
      ]
     },
     "execution_count": 16,
     "metadata": {},
     "output_type": "execute_result"
    }
   ],
   "source": [
    "for i in range(5):\n",
    "    df_er.er = np.where(df_er.er.isnull(), df_er.er.shift(-i) , df_er.er)\n",
    "df_er.er.isnull().sum().sum()"
   ]
  },
  {
   "cell_type": "code",
   "execution_count": 17,
   "metadata": {},
   "outputs": [],
   "source": [
    "features.append(df_er)"
   ]
  },
  {
   "cell_type": "code",
   "execution_count": 36,
   "metadata": {},
   "outputs": [
    {
     "data": {
      "text/html": [
       "<iframe id=\"igraph\" scrolling=\"no\" style=\"border:none;\" seamless=\"seamless\" src=\"https://plot.ly/~kyoh/37.embed\" height=\"525px\" width=\"100%\"></iframe>"
      ],
      "text/plain": [
       "<chart_studio.tools.PlotlyDisplay object>"
      ]
     },
     "execution_count": 36,
     "metadata": {},
     "output_type": "execute_result"
    }
   ],
   "source": [
    "trace_1 = go.Scatter(\n",
    "                x=df_all.index,\n",
    "                y=x[:,8],\n",
    "                name = \"환율\",\n",
    "                line = dict(color = '#89d5c9'),\n",
    "                opacity = 0.8)\n",
    "trace_2 = go.Scatter(\n",
    "                x=df_all.index,\n",
    "                y=x[:,0],\n",
    "                name = \"두바이유\",\n",
    "                line = dict(color = 'red'),\n",
    "                opacity = 1)\n",
    "data = [trace_1,trace_2]\n",
    "layout = dict(\n",
    "    title = \"국제유가와 환율가격 추이\",)\n",
    "fig = dict(data=data, layout=layout)\n",
    "py.iplot(fig, filename = \"국제유가와 환율가격 추이\")"
   ]
  },
  {
   "cell_type": "markdown",
   "metadata": {},
   "source": [
    "### 국제 유가에 주가 상승과 하락에 영향을 받는 국내 주식 종목 데이터 로드\n",
    "### (SK이노베이션,S-OIL,한화케미칼,아시아나항공,대한항공,현대상선)\n",
    "### 로드 방법"
   ]
  },
  {
   "cell_type": "markdown",
   "metadata": {},
   "source": [
    "!pip install bs4\n",
    "import urllib\n",
    "import time\n",
    " \n",
    "from urllib.request import urlopen\n",
    "from bs4 import BeautifulSoup\n",
    "\n",
    "total_lists =[]\n",
    "\n",
    "stockItems = ['096770','010950','009830','020560','003490','004870']\n",
    "\n",
    "for stockItem in stockItems:\n",
    "    timestamp = []\n",
    "    data = []\n",
    "    print('{} start'.format(stockItem))\n",
    "    url = 'http://finance.naver.com/item/sise_day.nhn?code='+ stockItem\n",
    "    html = urlopen(url) \n",
    "    source = BeautifulSoup(html.read(), \"html.parser\")\n",
    "    maxPage=source.find_all(\"table\",align=\"center\")\n",
    "    mp = maxPage[0].find_all(\"td\",class_=\"pgRR\")\n",
    "    #mpNum = int(mp[0].a.get('href')[-3:])\n",
    "    mpNum = 283\n",
    "    print(mpNum)\n",
    "                                         \n",
    "    for page in range(1, mpNum+1):\n",
    "        url = 'http://finance.naver.com/item/sise_day.nhn?code=' + stockItem +'&page='+ str(page)\n",
    "        html = urlopen(url)\n",
    "        source = BeautifulSoup(html.read(), \"html.parser\")\n",
    "        srlists=source.find_all(\"tr\")\n",
    "        isCheckNone = None\n",
    "        if((page % 1) == 0):\n",
    "            time.sleep(1.50)\n",
    "        for i in range(1,len(srlists)-1):\n",
    "            if(srlists[i].span != isCheckNone):\n",
    "                srlists[i].td.text\n",
    "                timestamp.append(srlists[i].find_all(\"td\",align=\"center\")[0].text)\n",
    "                data.append(srlists[i].find_all(\"td\",class_=\"num\")[0].text )\n",
    "    df = pd.DataFrame(data={'time':timestamp,'{}'.format(stockItem):data})\n",
    "    total_lists.append(df)"
   ]
  },
  {
   "cell_type": "markdown",
   "metadata": {},
   "source": [
    "df_stock = pd.DataFrame({'time': total_lists[0].time})\n",
    "for f in total_lists :\n",
    "    df_stock = pd.merge(df_stock, f, how='left',on='time')\n",
    "display(df_stock.shape)"
   ]
  },
  {
   "cell_type": "markdown",
   "metadata": {},
   "source": [
    "df_stock.to_csv('stock_price.csv',encoding='UTF-8')"
   ]
  },
  {
   "cell_type": "code",
   "execution_count": 18,
   "metadata": {},
   "outputs": [
    {
     "data": {
      "text/plain": [
       "(2723, 7)"
      ]
     },
     "execution_count": 18,
     "metadata": {},
     "output_type": "execute_result"
    }
   ],
   "source": [
    "df_stock_price = pd.read_csv('stock_price.csv',encoding='UTF-8',index_col=0)\n",
    "df_stock_price.fillna('6,580',inplace=True)\n",
    "df_stock_price['time'] = pd.to_datetime(df_stock_price['time'], format='%Y.%m.%d')\n",
    "df_stock_price = df_stock_price[(df_stock_price.time <= '2019-06-10')&(df_stock_price.time >= '2008-06-09')]\n",
    "df_stock_price.describe()\n",
    "df_stock_price.shape"
   ]
  },
  {
   "cell_type": "code",
   "execution_count": 19,
   "metadata": {},
   "outputs": [],
   "source": [
    "features.append(df_stock_price)"
   ]
  },
  {
   "cell_type": "code",
   "execution_count": 37,
   "metadata": {},
   "outputs": [
    {
     "data": {
      "text/html": [
       "<iframe id=\"igraph\" scrolling=\"no\" style=\"border:none;\" seamless=\"seamless\" src=\"https://plot.ly/~kyoh/31.embed\" height=\"525px\" width=\"100%\"></iframe>"
      ],
      "text/plain": [
       "<chart_studio.tools.PlotlyDisplay object>"
      ]
     },
     "execution_count": 37,
     "metadata": {},
     "output_type": "execute_result"
    }
   ],
   "source": [
    "trace_1 = go.Scatter(\n",
    "                x=df_all.index,\n",
    "                y=x[:,9],\n",
    "                name = \"SK이노베이션\",\n",
    "                line = dict(color = '#89d5c9'),\n",
    "                opacity = 0.8)\n",
    "\n",
    "trace_2 = go.Scatter(\n",
    "                x=df_all.index,\n",
    "                y=x[:,10],\n",
    "                name = \"S-OIL\",\n",
    "                line = dict(color = '#e25b45'),\n",
    "                opacity = 0.8)\n",
    "\n",
    "trace_3 = go.Scatter(\n",
    "                x=df_all.index,\n",
    "                y=x[:,11],\n",
    "                name = \"한화케미칼\",\n",
    "                line = dict(color = '#adc965'),\n",
    "                opacity = 0.8)\n",
    "trace_4 = go.Scatter(\n",
    "                x=df_all.index,\n",
    "                y=x[:,0],\n",
    "                name = \"두바이유\",\n",
    "                line = dict(color = 'red'),\n",
    "                opacity = 1)\n",
    "data = [trace_1,trace_2,trace_3,trace_4]\n",
    "layout = dict(\n",
    "    title = \"국제 유가에 주가 상승 영향을 받는 국내 주식 종목\",)\n",
    "fig = dict(data=data, layout=layout)\n",
    "py.iplot(fig, filename = \"국제 유가에 주가 상승 영향을 받는 국내 주식 종목\")"
   ]
  },
  {
   "cell_type": "code",
   "execution_count": 38,
   "metadata": {},
   "outputs": [
    {
     "data": {
      "text/html": [
       "<iframe id=\"igraph\" scrolling=\"no\" style=\"border:none;\" seamless=\"seamless\" src=\"https://plot.ly/~kyoh/33.embed\" height=\"525px\" width=\"100%\"></iframe>"
      ],
      "text/plain": [
       "<chart_studio.tools.PlotlyDisplay object>"
      ]
     },
     "execution_count": 38,
     "metadata": {},
     "output_type": "execute_result"
    }
   ],
   "source": [
    "trace_1 = go.Scatter(\n",
    "                x=df_all.index,\n",
    "                y=x[:,12],\n",
    "                name = \"아시아나항공\",\n",
    "                line = dict(color = '#89d5c9'),\n",
    "                opacity = 0.8)\n",
    "\n",
    "trace_2 = go.Scatter(\n",
    "                x=df_all.index,\n",
    "                y=x[:,13],\n",
    "                name = \"대한항공\",\n",
    "                line = dict(color = '#e25b45'),\n",
    "                opacity = 0.8)\n",
    "\n",
    "trace_3 = go.Scatter(\n",
    "                x=df_all.index,\n",
    "                y=x[:,14],\n",
    "                name = \"현대상선\",\n",
    "                line = dict(color = '#adc965'),\n",
    "                opacity = 0.8)\n",
    "trace_4 = go.Scatter(\n",
    "                x=df_all.index,\n",
    "                y=x[:,0],\n",
    "                name = \"두바이유\",\n",
    "                line = dict(color = 'red'),\n",
    "                opacity = 1)\n",
    "data = [trace_1,trace_2,trace_3,trace_4]\n",
    "layout = dict(\n",
    "    title = \"국제 유가에 주가 하락 영향을 받는 국내 주식 종목\",)\n",
    "fig = dict(data=data, layout=layout)\n",
    "py.iplot(fig, filename = \"국제 유가에 주가 하락 영향을 받는 국내 주식 종목\")"
   ]
  },
  {
   "cell_type": "markdown",
   "metadata": {},
   "source": [
    "### -  데이터 머징"
   ]
  },
  {
   "cell_type": "code",
   "execution_count": 26,
   "metadata": {},
   "outputs": [
    {
     "data": {
      "text/plain": [
       "5"
      ]
     },
     "execution_count": 26,
     "metadata": {},
     "output_type": "execute_result"
    }
   ],
   "source": [
    "len(features)"
   ]
  },
  {
   "cell_type": "code",
   "execution_count": 27,
   "metadata": {},
   "outputs": [],
   "source": [
    "df_all = pd.DataFrame({'time': df_oil_price.time.unique()})"
   ]
  },
  {
   "cell_type": "code",
   "execution_count": 28,
   "metadata": {},
   "outputs": [],
   "source": [
    "for f in features :\n",
    "    df_all = pd.merge(df_all, f, how='left',on='time').dropna(how='any').set_index('time')"
   ]
  },
  {
   "cell_type": "code",
   "execution_count": 23,
   "metadata": {},
   "outputs": [],
   "source": [
    "#df_all = pd.merge(df_1, df, how='left',on='time').fillna(0).set_index('time')"
   ]
  },
  {
   "cell_type": "code",
   "execution_count": 29,
   "metadata": {},
   "outputs": [
    {
     "data": {
      "text/plain": [
       "Index(['dubai', 'brent', 'WIT', '고급휘발유', '보통휘발유', '자동차용경유', '다우존스', '코스피',\n",
       "       'er', '096770', '010950', '009830', '020560', '003490', '004870'],\n",
       "      dtype='object')"
      ]
     },
     "execution_count": 29,
     "metadata": {},
     "output_type": "execute_result"
    }
   ],
   "source": [
    "df_all.columns"
   ]
  },
  {
   "cell_type": "markdown",
   "metadata": {},
   "source": [
    "#### 모델링"
   ]
  },
  {
   "cell_type": "code",
   "execution_count": 30,
   "metadata": {},
   "outputs": [
    {
     "name": "stderr",
     "output_type": "stream",
     "text": [
      "Using TensorFlow backend.\n"
     ]
    }
   ],
   "source": [
    "from keras.models import Sequential, load_model\n",
    "from keras import layers\n",
    "from keras import backend as K\n",
    "from keras import optimizers\n",
    "from keras.utils import plot_model\n",
    "from keras.callbacks import EarlyStopping, TensorBoard, ModelCheckpoint\n",
    "from keras.preprocessing import image\n",
    "\n",
    "import pandas as pd\n",
    "import numpy as np\n",
    "import matplotlib.pyplot as plt\n",
    "from IPython.display import Image\n",
    "import time\n",
    "from sklearn.preprocessing import MinMaxScaler\n",
    "from sklearn.metrics import mean_absolute_error\n",
    "from datetime import datetime"
   ]
  },
  {
   "cell_type": "code",
   "execution_count": 31,
   "metadata": {},
   "outputs": [],
   "source": [
    "from sklearn.preprocessing import MinMaxScaler\n",
    "scalerX = MinMaxScaler()\n",
    "x = scalerX.fit_transform(df_all)\n",
    "scalery = MinMaxScaler()\n",
    "y = scalery.fit_transform(df_all.iloc[:,[0]])"
   ]
  },
  {
   "cell_type": "code",
   "execution_count": 32,
   "metadata": {},
   "outputs": [
    {
     "data": {
      "text/plain": [
       "Text(0, 0.5, 'Close')"
      ]
     },
     "execution_count": 32,
     "metadata": {},
     "output_type": "execute_result"
    },
    {
     "data": {
      "image/png": "[encoded data removed]",
      "text/plain": [
       "<Figure size 432x288 with 1 Axes>"
      ]
     },
     "metadata": {
      "needs_background": "light"
     },
     "output_type": "display_data"
    }
   ],
   "source": [
    "plt.plot(y)\n",
    "plt.xlabel(\"Time Period\")\n",
    "plt.ylabel(\"Close\")"
   ]
  },
  {
   "cell_type": "code",
   "execution_count": 39,
   "metadata": {},
   "outputs": [],
   "source": [
    "# Your answer comes here.\n",
    "SEQ_LEN = 5\n",
    "\n",
    "# build a dataset\n",
    "dataX = []\n",
    "dataY = []\n",
    "\n",
    "for i in range(0, len(y) - SEQ_LEN):\n",
    "    _x = x[i:i + SEQ_LEN]\n",
    "    _y = y[i + SEQ_LEN]\n",
    "    dataX.append(_x)\n",
    "    dataY.append(_y)\n",
    "\n",
    "dataX = np.array(dataX)\n",
    "dataY = np.array(dataY)"
   ]
  },
  {
   "cell_type": "code",
   "execution_count": 40,
   "metadata": {},
   "outputs": [
    {
     "data": {
      "text/plain": [
       "(2532, 1)"
      ]
     },
     "execution_count": 40,
     "metadata": {},
     "output_type": "execute_result"
    }
   ],
   "source": [
    "dataY.shape"
   ]
  },
  {
   "cell_type": "code",
   "execution_count": 41,
   "metadata": {},
   "outputs": [],
   "source": [
    "train_size = int(len(dataY) * 0.8)\n",
    "test_size = len(dataY) - train_size\n",
    "Xtrain, Xtest = np.array(dataX[0:train_size]), np.array(dataX[train_size:len(dataX)])\n",
    "ytrain, ytest = np.array(dataY[0:train_size]), np.array(dataY[train_size:len(dataY)])"
   ]
  },
  {
   "cell_type": "code",
   "execution_count": 42,
   "metadata": {},
   "outputs": [
    {
     "data": {
      "text/plain": [
       "((2025, 5, 15), (507, 5, 15))"
      ]
     },
     "execution_count": 42,
     "metadata": {},
     "output_type": "execute_result"
    }
   ],
   "source": [
    "np.shape(Xtrain), np.shape(Xtest)"
   ]
  },
  {
   "cell_type": "code",
   "execution_count": 50,
   "metadata": {},
   "outputs": [
    {
     "name": "stdout",
     "output_type": "stream",
     "text": [
      "_________________________________________________________________\n",
      "Layer (type)                 Output Shape              Param #   \n",
      "=================================================================\n",
      "lstm_1 (LSTM)                (None, 5, 128)            73728     \n",
      "_________________________________________________________________\n",
      "lstm_2 (LSTM)                (None, 64)                49408     \n",
      "_________________________________________________________________\n",
      "dense_1 (Dense)              (None, 1)                 65        \n",
      "=================================================================\n",
      "Total params: 123,201\n",
      "Trainable params: 123,201\n",
      "Non-trainable params: 0\n",
      "_________________________________________________________________\n"
     ]
    }
   ],
   "source": [
    "# Your answer comes here.\n",
    "from keras.models import Sequential\n",
    "from keras.layers import LSTM, Dense\n",
    "from keras import backend as K\n",
    "K.clear_session()\n",
    "model = Sequential()\n",
    "model.add(LSTM(128, input_shape=(5, 15),return_sequences=True))\n",
    "model.add(LSTM(64, return_sequences=False))\n",
    "model.add(Dense(1))\n",
    "model.compile(loss = 'mse', optimizer = 'adam', metrics = ['mae'])\n",
    "model.summary()"
   ]
  },
  {
   "cell_type": "code",
   "execution_count": 59,
   "metadata": {},
   "outputs": [
    {
     "name": "stdout",
     "output_type": "stream",
     "text": [
      "_________________________________________________________________\n",
      "Layer (type)                 Output Shape              Param #   \n",
      "=================================================================\n",
      "lstm_1 (LSTM)                (None, 5, 128)            73728     \n",
      "_________________________________________________________________\n",
      "dropout_1 (Dropout)          (None, 5, 128)            0         \n",
      "_________________________________________________________________\n",
      "lstm_2 (LSTM)                (None, 5, 64)             49408     \n",
      "_________________________________________________________________\n",
      "dropout_2 (Dropout)          (None, 5, 64)             0         \n",
      "_________________________________________________________________\n",
      "lstm_3 (LSTM)                (None, 32)                12416     \n",
      "_________________________________________________________________\n",
      "dense_1 (Dense)              (None, 1)                 33        \n",
      "=================================================================\n",
      "Total params: 135,585\n",
      "Trainable params: 135,585\n",
      "Non-trainable params: 0\n",
      "_________________________________________________________________\n"
     ]
    }
   ],
   "source": [
    "# Your answer comes here.\n",
    "from keras.models import Sequential\n",
    "from keras.layers import LSTM, Dense\n",
    "from keras import backend as K\n",
    "K.clear_session()\n",
    "model = Sequential()\n",
    "model.add(LSTM(128, input_shape=(5, 15),return_sequences=True))\n",
    "model.add(layers.Dropout(0.2))\n",
    "model.add(LSTM(64, return_sequences=True))\n",
    "model.add(layers.Dropout(0.2))\n",
    "model.add(LSTM(32, return_sequences=False))\n",
    "model.add(Dense(1))\n",
    "model.compile(loss = 'mse', optimizer = 'adam', metrics = ['mae'])\n",
    "model.summary()"
   ]
  },
  {
   "cell_type": "code",
   "execution_count": null,
   "metadata": {},
   "outputs": [
    {
     "name": "stdout",
     "output_type": "stream",
     "text": [
      "Train on 1620 samples, validate on 405 samples\n",
      "Epoch 1/100\n",
      "1620/1620 [==============================] - 2s 1ms/step - loss: 0.1321 - mean_absolute_error: 0.2967 - val_loss: 0.1248 - val_mean_absolute_error: 0.3517\n",
      "Epoch 2/100\n",
      "1620/1620 [==============================] - 0s 201us/step - loss: 0.0183 - mean_absolute_error: 0.1117 - val_loss: 0.0367 - val_mean_absolute_error: 0.1857\n",
      "Epoch 3/100\n",
      "1620/1620 [==============================] - 0s 209us/step - loss: 0.0092 - mean_absolute_error: 0.0757 - val_loss: 0.0437 - val_mean_absolute_error: 0.2045\n",
      "Epoch 4/100\n",
      "1620/1620 [==============================] - 0s 181us/step - loss: 0.0064 - mean_absolute_error: 0.0617 - val_loss: 0.0386 - val_mean_absolute_error: 0.1920\n",
      "Epoch 5/100\n",
      "1620/1620 [==============================] - 0s 187us/step - loss: 0.0044 - mean_absolute_error: 0.0511 - val_loss: 0.0206 - val_mean_absolute_error: 0.1369\n",
      "Epoch 6/100\n",
      "1620/1620 [==============================] - 0s 204us/step - loss: 0.0034 - mean_absolute_error: 0.0439 - val_loss: 0.0133 - val_mean_absolute_error: 0.1069\n",
      "Epoch 7/100\n",
      "1620/1620 [==============================] - 0s 206us/step - loss: 0.0029 - mean_absolute_error: 0.0409 - val_loss: 0.0090 - val_mean_absolute_error: 0.0849\n",
      "Epoch 8/100\n",
      "1620/1620 [==============================] - 0s 205us/step - loss: 0.0026 - mean_absolute_error: 0.0393 - val_loss: 0.0057 - val_mean_absolute_error: 0.0653\n",
      "Epoch 9/100\n",
      "1620/1620 [==============================] - 0s 218us/step - loss: 0.0024 - mean_absolute_error: 0.0381 - val_loss: 0.0042 - val_mean_absolute_error: 0.0551\n",
      "Epoch 10/100\n",
      "1620/1620 [==============================] - 0s 203us/step - loss: 0.0023 - mean_absolute_error: 0.0372 - val_loss: 0.0034 - val_mean_absolute_error: 0.0492\n",
      "Epoch 11/100\n",
      "1620/1620 [==============================] - 0s 209us/step - loss: 0.0022 - mean_absolute_error: 0.0363 - val_loss: 0.0029 - val_mean_absolute_error: 0.0451\n",
      "Epoch 12/100\n",
      "1620/1620 [==============================] - 0s 208us/step - loss: 0.0020 - mean_absolute_error: 0.0355 - val_loss: 0.0028 - val_mean_absolute_error: 0.0443\n",
      "Epoch 13/100\n",
      "1620/1620 [==============================] - 0s 207us/step - loss: 0.0019 - mean_absolute_error: 0.0349 - val_loss: 0.0029 - val_mean_absolute_error: 0.0453\n",
      "Epoch 14/100\n",
      "1620/1620 [==============================] - 0s 191us/step - loss: 0.0019 - mean_absolute_error: 0.0342 - val_loss: 0.0025 - val_mean_absolute_error: 0.0408\n",
      "Epoch 15/100\n",
      "1620/1620 [==============================] - 0s 202us/step - loss: 0.0017 - mean_absolute_error: 0.0328 - val_loss: 0.0028 - val_mean_absolute_error: 0.0445\n",
      "Epoch 16/100\n",
      "1620/1620 [==============================] - 0s 184us/step - loss: 0.0018 - mean_absolute_error: 0.0328 - val_loss: 0.0031 - val_mean_absolute_error: 0.0471\n",
      "Epoch 17/100\n",
      "1620/1620 [==============================] - 0s 185us/step - loss: 0.0016 - mean_absolute_error: 0.0318 - val_loss: 0.0034 - val_mean_absolute_error: 0.0492\n",
      "Epoch 18/100\n",
      "1620/1620 [==============================] - 0s 194us/step - loss: 0.0016 - mean_absolute_error: 0.0317 - val_loss: 0.0029 - val_mean_absolute_error: 0.0452\n",
      "Epoch 19/100\n",
      "1620/1620 [==============================] - 0s 185us/step - loss: 0.0016 - mean_absolute_error: 0.0315 - val_loss: 0.0031 - val_mean_absolute_error: 0.0471\n",
      "Epoch 20/100\n",
      "1620/1620 [==============================] - 0s 187us/step - loss: 0.0015 - mean_absolute_error: 0.0304 - val_loss: 0.0029 - val_mean_absolute_error: 0.0450\n",
      "Epoch 21/100\n",
      "1620/1620 [==============================] - 0s 189us/step - loss: 0.0015 - mean_absolute_error: 0.0305 - val_loss: 0.0032 - val_mean_absolute_error: 0.0480\n",
      "Epoch 22/100\n",
      "1620/1620 [==============================] - 0s 185us/step - loss: 0.0013 - mean_absolute_error: 0.0284 - val_loss: 0.0027 - val_mean_absolute_error: 0.0431\n",
      "Epoch 23/100\n",
      "1620/1620 [==============================] - 0s 189us/step - loss: 0.0014 - mean_absolute_error: 0.0294 - val_loss: 0.0031 - val_mean_absolute_error: 0.0465\n",
      "Epoch 24/100\n",
      "1620/1620 [==============================] - 0s 192us/step - loss: 0.0014 - mean_absolute_error: 0.0289 - val_loss: 0.0030 - val_mean_absolute_error: 0.0460\n",
      "Epoch 25/100\n",
      "1620/1620 [==============================] - 0s 199us/step - loss: 0.0014 - mean_absolute_error: 0.0291 - val_loss: 0.0029 - val_mean_absolute_error: 0.0456\n",
      "Epoch 26/100\n",
      "1620/1620 [==============================] - 0s 192us/step - loss: 0.0013 - mean_absolute_error: 0.0281 - val_loss: 0.0028 - val_mean_absolute_error: 0.0442\n",
      "Epoch 27/100\n",
      "1620/1620 [==============================] - 0s 181us/step - loss: 0.0013 - mean_absolute_error: 0.0281 - val_loss: 0.0028 - val_mean_absolute_error: 0.0439\n",
      "Epoch 28/100\n",
      "1620/1620 [==============================] - 0s 186us/step - loss: 0.0012 - mean_absolute_error: 0.0267 - val_loss: 0.0029 - val_mean_absolute_error: 0.0451\n",
      "Epoch 29/100\n",
      "1620/1620 [==============================] - 0s 185us/step - loss: 0.0012 - mean_absolute_error: 0.0274 - val_loss: 0.0030 - val_mean_absolute_error: 0.0464\n",
      "Epoch 30/100\n",
      "1620/1620 [==============================] - 0s 185us/step - loss: 0.0012 - mean_absolute_error: 0.0268 - val_loss: 0.0024 - val_mean_absolute_error: 0.0409\n",
      "Epoch 31/100\n",
      "1620/1620 [==============================] - 0s 210us/step - loss: 0.0012 - mean_absolute_error: 0.0267 - val_loss: 0.0026 - val_mean_absolute_error: 0.0421\n",
      "Epoch 32/100\n",
      "1620/1620 [==============================] - 0s 200us/step - loss: 0.0012 - mean_absolute_error: 0.0266 - val_loss: 0.0029 - val_mean_absolute_error: 0.0448\n",
      "Epoch 33/100\n",
      "1620/1620 [==============================] - 0s 189us/step - loss: 0.0011 - mean_absolute_error: 0.0264 - val_loss: 0.0028 - val_mean_absolute_error: 0.0445\n",
      "Epoch 34/100\n",
      "1620/1620 [==============================] - 0s 194us/step - loss: 0.0011 - mean_absolute_error: 0.0255 - val_loss: 0.0022 - val_mean_absolute_error: 0.0393\n",
      "Epoch 35/100\n",
      "1620/1620 [==============================] - 0s 205us/step - loss: 0.0012 - mean_absolute_error: 0.0264 - val_loss: 0.0027 - val_mean_absolute_error: 0.0435\n",
      "Epoch 36/100\n",
      "1620/1620 [==============================] - 0s 188us/step - loss: 0.0011 - mean_absolute_error: 0.0254 - val_loss: 0.0026 - val_mean_absolute_error: 0.0423\n",
      "Epoch 37/100\n",
      "1620/1620 [==============================] - 0s 192us/step - loss: 0.0011 - mean_absolute_error: 0.0265 - val_loss: 0.0023 - val_mean_absolute_error: 0.0400\n",
      "Epoch 38/100\n",
      "1620/1620 [==============================] - 0s 192us/step - loss: 0.0011 - mean_absolute_error: 0.0260 - val_loss: 0.0026 - val_mean_absolute_error: 0.0421\n",
      "Epoch 39/100\n",
      "1620/1620 [==============================] - 0s 193us/step - loss: 9.8574e-04 - mean_absolute_error: 0.0241 - val_loss: 0.0025 - val_mean_absolute_error: 0.0416\n",
      "Epoch 40/100\n",
      "1620/1620 [==============================] - 0s 195us/step - loss: 9.9247e-04 - mean_absolute_error: 0.0247 - val_loss: 0.0024 - val_mean_absolute_error: 0.0408\n",
      "Epoch 41/100\n",
      "1620/1620 [==============================] - 0s 192us/step - loss: 0.0010 - mean_absolute_error: 0.0248 - val_loss: 0.0022 - val_mean_absolute_error: 0.0390\n",
      "Epoch 42/100\n",
      "1620/1620 [==============================] - 0s 207us/step - loss: 0.0010 - mean_absolute_error: 0.0253 - val_loss: 0.0025 - val_mean_absolute_error: 0.0412\n",
      "Epoch 43/100\n",
      "1620/1620 [==============================] - 0s 201us/step - loss: 0.0010 - mean_absolute_error: 0.0250 - val_loss: 0.0028 - val_mean_absolute_error: 0.0444\n",
      "Epoch 44/100\n",
      "1620/1620 [==============================] - 0s 187us/step - loss: 9.3773e-04 - mean_absolute_error: 0.0240 - val_loss: 0.0022 - val_mean_absolute_error: 0.0384\n",
      "Epoch 45/100\n",
      "1620/1620 [==============================] - 0s 207us/step - loss: 8.6839e-04 - mean_absolute_error: 0.0232 - val_loss: 0.0024 - val_mean_absolute_error: 0.0406\n",
      "Epoch 46/100\n",
      "1620/1620 [==============================] - 0s 191us/step - loss: 9.3122e-04 - mean_absolute_error: 0.0236 - val_loss: 0.0024 - val_mean_absolute_error: 0.0407\n",
      "Epoch 47/100\n",
      "1620/1620 [==============================] - 0s 193us/step - loss: 9.4664e-04 - mean_absolute_error: 0.0241 - val_loss: 0.0029 - val_mean_absolute_error: 0.0445\n",
      "Epoch 48/100\n",
      "1620/1620 [==============================] - 0s 189us/step - loss: 9.6177e-04 - mean_absolute_error: 0.0238 - val_loss: 0.0027 - val_mean_absolute_error: 0.0428\n",
      "Epoch 49/100\n",
      "1620/1620 [==============================] - 0s 189us/step - loss: 9.0456e-04 - mean_absolute_error: 0.0235 - val_loss: 0.0025 - val_mean_absolute_error: 0.0415\n",
      "Epoch 50/100\n",
      "1620/1620 [==============================] - 0s 196us/step - loss: 9.3241e-04 - mean_absolute_error: 0.0235 - val_loss: 0.0027 - val_mean_absolute_error: 0.0426\n",
      "Epoch 51/100\n",
      "1620/1620 [==============================] - 0s 201us/step - loss: 9.0822e-04 - mean_absolute_error: 0.0234 - val_loss: 0.0026 - val_mean_absolute_error: 0.0416\n",
      "Epoch 52/100\n",
      "1620/1620 [==============================] - 0s 196us/step - loss: 8.0769e-04 - mean_absolute_error: 0.0223 - val_loss: 0.0025 - val_mean_absolute_error: 0.0411\n",
      "Epoch 53/100\n",
      "1620/1620 [==============================] - 0s 191us/step - loss: 8.8810e-04 - mean_absolute_error: 0.0233 - val_loss: 0.0024 - val_mean_absolute_error: 0.0402\n",
      "Epoch 54/100\n",
      "1620/1620 [==============================] - 0s 192us/step - loss: 8.9895e-04 - mean_absolute_error: 0.0233 - val_loss: 0.0023 - val_mean_absolute_error: 0.0392\n",
      "Epoch 55/100\n",
      "1620/1620 [==============================] - 0s 194us/step - loss: 8.9887e-04 - mean_absolute_error: 0.0237 - val_loss: 0.0028 - val_mean_absolute_error: 0.0437\n",
      "Epoch 56/100\n",
      "1620/1620 [==============================] - 0s 194us/step - loss: 8.5860e-04 - mean_absolute_error: 0.0228 - val_loss: 0.0029 - val_mean_absolute_error: 0.0446\n",
      "Epoch 57/100\n",
      "1620/1620 [==============================] - 0s 196us/step - loss: 8.8819e-04 - mean_absolute_error: 0.0232 - val_loss: 0.0028 - val_mean_absolute_error: 0.0441\n",
      "Epoch 58/100\n",
      "1620/1620 [==============================] - 0s 189us/step - loss: 8.6514e-04 - mean_absolute_error: 0.0228 - val_loss: 0.0032 - val_mean_absolute_error: 0.0473\n",
      "Epoch 59/100\n",
      "1620/1620 [==============================] - 0s 194us/step - loss: 8.7824e-04 - mean_absolute_error: 0.0231 - val_loss: 0.0033 - val_mean_absolute_error: 0.0476\n",
      "Epoch 60/100\n",
      "1620/1620 [==============================] - 0s 186us/step - loss: 8.0813e-04 - mean_absolute_error: 0.0221 - val_loss: 0.0032 - val_mean_absolute_error: 0.0473\n",
      "Epoch 61/100\n",
      "1620/1620 [==============================] - 0s 194us/step - loss: 8.0440e-04 - mean_absolute_error: 0.0221 - val_loss: 0.0030 - val_mean_absolute_error: 0.0453\n",
      "Epoch 62/100\n",
      "1620/1620 [==============================] - 0s 192us/step - loss: 7.9980e-04 - mean_absolute_error: 0.0219 - val_loss: 0.0030 - val_mean_absolute_error: 0.0451\n",
      "Epoch 63/100\n",
      "1620/1620 [==============================] - 0s 190us/step - loss: 8.0116e-04 - mean_absolute_error: 0.0218 - val_loss: 0.0029 - val_mean_absolute_error: 0.0443\n",
      "Epoch 64/100\n",
      "1620/1620 [==============================] - 0s 192us/step - loss: 8.1629e-04 - mean_absolute_error: 0.0222 - val_loss: 0.0036 - val_mean_absolute_error: 0.0507\n",
      "Epoch 65/100\n",
      " 128/1620 [=>............................] - ETA: 0s - loss: 6.5355e-04 - mean_absolute_error: 0.0205"
     ]
    }
   ],
   "source": [
    "# Your answer comes here.\n",
    "from keras.callbacks import TensorBoard\n",
    "import time\n",
    "now = time.strftime(\"%c\")\n",
    "callbacks_list = [\n",
    "    ModelCheckpoint(filepath='stock'+now+'.h5',monitor='val_loss',save_best_only=True)\n",
    "]\n",
    "history=model.fit(Xtrain, ytrain,batch_size = 128,epochs=100,validation_split = 0.2, verbose=1,callbacks=callbacks_list)"
   ]
  },
  {
   "cell_type": "code",
   "execution_count": 52,
   "metadata": {},
   "outputs": [
    {
     "data": {
      "image/png": "[encoded data removed]",
      "text/plain": [
       "<Figure size 432x288 with 1 Axes>"
      ]
     },
     "metadata": {
      "needs_background": "light"
     },
     "output_type": "display_data"
    }
   ],
   "source": [
    "plt.plot(history.history[\"loss\"], label=\"loss\")\n",
    "plt.plot(history.history[\"val_loss\"], label=\"validation loss\")\n",
    "plt.legend()\n",
    "plt.title(\"Loss\")\n",
    "plt.show()"
   ]
  },
  {
   "cell_type": "code",
   "execution_count": 55,
   "metadata": {},
   "outputs": [
    {
     "data": {
      "image/png": "[encoded data removed]",
      "text/plain": [
       "<Figure size 432x288 with 1 Axes>"
      ]
     },
     "metadata": {
      "needs_background": "light"
     },
     "output_type": "display_data"
    }
   ],
   "source": [
    "plt.plot(history.history[\"loss\"], label=\"loss\")\n",
    "plt.plot(history.history[\"val_loss\"], label=\"validation loss\")\n",
    "plt.legend()\n",
    "plt.title(\"Loss\")\n",
    "plt.show()"
   ]
  },
  {
   "cell_type": "code",
   "execution_count": 56,
   "metadata": {},
   "outputs": [],
   "source": [
    "model = load_model('stockThu Jun 13 02:43:04 2019.h5')  # best model 불러오기\n",
    "test_predict = model.predict(Xtest)\n",
    "test_predict_back = scalery.inverse_transform(test_predict)\n",
    "ytest_back = scalery.inverse_transform(ytest)"
   ]
  },
  {
   "cell_type": "code",
   "execution_count": 274,
   "metadata": {},
   "outputs": [
    {
     "data": {
      "image/png": "[encoded data removed]",
      "text/plain": [
       "<Figure size 432x288 with 1 Axes>"
      ]
     },
     "metadata": {
      "needs_background": "light"
     },
     "output_type": "display_data"
    }
   ],
   "source": [
    "# Plot predictions\n",
    "plt.plot(ytest_back, label = 'Y')\n",
    "plt.plot(test_predict_back, label = 'Y_predicted')\n",
    "plt.xlabel(\"Time Period\")\n",
    "plt.ylabel(\"Stock Price\")\n",
    "plt.legend()\n",
    "plt.show()"
   ]
  },
  {
   "cell_type": "code",
   "execution_count": 57,
   "metadata": {},
   "outputs": [
    {
     "data": {
      "image/png": "[encoded data removed]",
      "text/plain": [
       "<Figure size 432x288 with 1 Axes>"
      ]
     },
     "metadata": {
      "needs_background": "light"
     },
     "output_type": "display_data"
    }
   ],
   "source": [
    "# Plot predictions\n",
    "plt.plot(ytest_back, label = 'Y')\n",
    "plt.plot(test_predict_back, label = 'Y_predicted')\n",
    "plt.xlabel(\"Time Period\")\n",
    "plt.ylabel(\"Stock Price\")\n",
    "plt.legend()\n",
    "plt.show()"
   ]
  },
  {
   "cell_type": "code",
   "execution_count": 275,
   "metadata": {},
   "outputs": [
    {
     "data": {
      "text/plain": [
       "(2.5998912590072, -0.006436092888528866)"
      ]
     },
     "execution_count": 275,
     "metadata": {},
     "output_type": "execute_result"
    }
   ],
   "source": [
    "mean_absolute_error(test_predict_back, ytest_back), np.mean(test_predict_back / ytest_back) - 1"
   ]
  },
  {
   "cell_type": "code",
   "execution_count": 58,
   "metadata": {},
   "outputs": [
    {
     "data": {
      "text/plain": [
       "(2.8162882179997606, -0.03295545504027042)"
      ]
     },
     "execution_count": 58,
     "metadata": {},
     "output_type": "execute_result"
    }
   ],
   "source": [
    "mean_absolute_error(test_predict_back, ytest_back), np.mean(test_predict_back / ytest_back) - 1"
   ]
  },
  {
   "cell_type": "code",
   "execution_count": 286,
   "metadata": {},
   "outputs": [
    {
     "name": "stdout",
     "output_type": "stream",
     "text": [
      "[NbConvertApp] Converting notebook WTI_oil_price_predict.ipynb to html\n",
      "[NbConvertApp] Writing 398513 bytes to WTI_oil_price_predict.html\n"
     ]
    }
   ],
   "source": [
    "!jupyter nbconvert --to html --TemplateExporter.exclude_input=True WTI_oil_price_predict.ipynb"
   ]
  },
  {
   "cell_type": "code",
   "execution_count": null,
   "metadata": {},
   "outputs": [],
   "source": []
  }
 ],
 "metadata": {
  "kernelspec": {
   "display_name": "Python 3.5 (NGC/TensorFlow 18.12) on Backend.AI",
   "language": "python",
   "name": "python3"
  },
  "language_info": {
   "codemirror_mode": {
    "name": "ipython",
    "version": 3
   },
   "file_extension": ".py",
   "mimetype": "text/x-python",
   "name": "python",
   "nbconvert_exporter": "python",
   "pygments_lexer": "ipython3",
   "version": "3.5.2"
  }
 },
 "nbformat": 4,
 "nbformat_minor": 2
}
