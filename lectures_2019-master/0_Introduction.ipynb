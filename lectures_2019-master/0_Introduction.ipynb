{
 "cells": [
  {
   "cell_type": "markdown",
   "metadata": {},
   "source": [
    "# 딥러닝 -  2019 봄학기, 국민대학교 빅데이터경영MBA "
   ]
  },
  {
   "cell_type": "markdown",
   "metadata": {},
   "source": [
    " - 담당교수: 정여진 (ychung@kookmin.ac.kr, 02-910-5614)\n",
    " - 강의내용 \n",
    "     - DNN, CNN, RNN의 주요 모형 \n",
    "     - Keras를 사용한 모형 학습 및 튜닝 \n",
    "     - 실습 중심 진행 \n",
    " - 교재 \n",
    "    - [Deep Learning with Python, François Chollet, Manning(2017)](https://www.manning.com/books/deep-learning-with-python) \n",
    "    - [케라스 창시자에게 배우는 딥러닝(Deep Learning with Python), 프랑소와 숄레, 길벗(2018)](http://www.kyobobook.co.kr/product/detailViewKor.laf?ejkGb=KOR&mallGb=KOR&barcode=9791160505979&orderClick=LEA&Kc=)\n",
    " - 과제\n",
    "     - 수업 시간에 공지되는 과제를 ecampus에 제출 \n",
    "     \n",
    " \n",
    " - 기말프로젝트 \n",
    "     - 2인 1조로 진행\n",
    "     - 자유 주제 \n",
    "     - 참고: http://cs229.stanford.edu/proj2018/  http://cs230.stanford.edu/past-projects/\n",
    " \n",
    " - 평가\n",
    "     - 과제: 25% (개인 평가)\n",
    "     - 중간고사: 30% (개인 평가)\n",
    "     - 기말 프로젝트: 35% (팀 평가)\n",
    "     - 출석 및 참여도: 10%\n",
    "     \n",
    " - 강의용 서버접속 \n",
    "     - https://web.kmu-bigdata.onpremise.backend.ai/\n",
    "     - API Key: 학번\n",
    "     - Secret Key: 핸드폰번호 뒷 4자리\n",
    "     - \"Data\" 탭> \"Add new folder\"를 클릭하여 원하는 이름으로 폴더 생성 \n",
    "         - session이 끝나더라도 유지할 파일 저장 \n",
    "     - \"Sessions\" 탭> \"Launch\" > \"Virtual folders\" 클릭하여 위에서 생성한 폴더 지정 \n",
    "     - CPU=2, RAM=4, GPU=0.2로 설정하여 \"LAUNCH\" 클릭 (개인별 session 자원배분 가능) \n",
    "     - 생성된 session의 \"노트북\" 모양 클릭하여 jupyter notebook 실행 \n",
    " \n",
    " - 강의자료 다운로드 \n",
    "     - Jupyter notebook 내에서 terminal 실행 (New>Terminal)\n",
    "     - `cd (폴더명)`  명령어로 위에서 만든 virtual folder로 이동 \n",
    "     - `git clone https://github.com/pia1205/lectures_2019.git` 명령어로 강의자료 다운로드 \n",
    "     - 이후 매일 강의시작 전 `lectures_2019` 폴더로 이동하여 `git pull https://github.com/pia1205/lectures_2019.git` 명령어로 강의자료 업데이트"
   ]
  },
  {
   "cell_type": "markdown",
   "metadata": {
    "slideshow": {
     "slide_type": "slide"
    }
   },
   "source": [
    "<font color=\"darkgreen\">\n",
    "    \n",
    "# Lecture 0. Introduction"
   ]
  },
  {
   "cell_type": "markdown",
   "metadata": {},
   "source": [
    "## 0.1 인공지능 vs. 머신러닝 vs. 딥러닝"
   ]
  },
  {
   "cell_type": "markdown",
   "metadata": {},
   "source": [
    "![image.png](figures/fig0_1.png)"
   ]
  },
  {
   "cell_type": "markdown",
   "metadata": {},
   "source": [
    "- 인공지능 \n",
    "    - 사람이 수행하는 지능적인 작업을 자동화하기 위한 연구활동\n",
    "    - General AI\n",
    "        - 인간의 지능과 유사한 특성을 가진 복잡한 컴퓨터\n",
    "        - 인간의 감각, 사고력을 지닌 채 인간처럼 생각하는 인공지능을 일컬음\n",
    "    - Narrow AI\n",
    "        - 소셜 미디어의 이미지 분류 서비스나 얼굴 인식 기능 등과 같이 특정 작업을 인간 이상의 능력으로 완수 \n",
    "    - 머신러닝과 딥러닝을 포괄 "
   ]
  },
  {
   "cell_type": "markdown",
   "metadata": {},
   "source": [
    "![image.png](figures/fig0_5.png)"
   ]
  },
  {
   "cell_type": "markdown",
   "metadata": {},
   "source": [
    "- 머신러닝\n",
    "    - 인공지능을 구현하는 구체적인 방식 \n",
    "    - 의사결정 기준에 대한 구체적인 지침을 직접 코딩해 넣는 것이 아닌, 대량의 데이터와 알고리즘을 통해 컴퓨터 자체를 학습시켜 수행방법을 익히게 하는 것 \n",
    "    - Feature engineering 단계에서 사람이 초기 입력 데이터를 여러 방식으로 변환해야 함 \n",
    "    \n",
    "- 딥러닝\n",
    "    - 인공신경망에서 발전한 형태의 인공지능 구현 방식\n",
    "    - 병렬 연산에 최적화된 GPU의 등장으로 연산속도가 획기적으로 개선되면서 딥러닝 기반 인공지능이 빠르게 발전하고 있음 \n",
    "    - 한 번에 모든 특성을 학습 (End-to-End model)\n",
    "\n",
    "    \n",
    "    "
   ]
  },
  {
   "cell_type": "markdown",
   "metadata": {},
   "source": [
    "-  머신러닝/딥러닝과 통계적 방법론과의 차이\n",
    "    - 방법론 면에서 수리통계, 베이즈통계 등과 밀접하게 관련이 있으나 근본적인 차이가 있음\n",
    "    - 예측(prediction)에 집중 \n",
    "    - 대량의 데이터를 사용 \n",
    "    - 수학적 이론이 비교적 부족하고 엔지니어링 지향적\n",
    "    - 이론보다는 경험을 바탕으로 아이디어를 증명 "
   ]
  },
  {
   "cell_type": "markdown",
   "metadata": {},
   "source": [
    "## 0.2 \"딥\" 러닝이란?"
   ]
  },
  {
   "cell_type": "markdown",
   "metadata": {},
   "source": [
    "- 연속된 층을 deep하게 쌓아 neural network를 구성 \n",
    "- 수십, 수백 개의 층을 쌓는 경우가 흔함 "
   ]
  },
  {
   "cell_type": "markdown",
   "metadata": {},
   "source": [
    "![image.png](figures/fig0_2.png)"
   ]
  },
  {
   "cell_type": "markdown",
   "metadata": {},
   "source": [
    "- 원본 이미지를 입력하여 최종 출력 값을 나타내는 모형을 구성 "
   ]
  },
  {
   "cell_type": "markdown",
   "metadata": {},
   "source": [
    "![image.png](figures/fig0_3.png)"
   ]
  },
  {
   "cell_type": "markdown",
   "metadata": {},
   "source": [
    "- 층이 깊어질 수록 원본 이미지와 점점 다른 표현으로 숫자 이미지가 변환 \n",
    "- Deep neural net의 연속된 filter를 통과하면서 정보가 정제되는 과정 "
   ]
  },
  {
   "cell_type": "markdown",
   "metadata": {},
   "source": [
    "## 0.3 딥러닝 작동원리\n"
   ]
  },
  {
   "cell_type": "markdown",
   "metadata": {},
   "source": [
    "![image.png](figures/fig0_4.png)"
   ]
  },
  {
   "cell_type": "markdown",
   "metadata": {},
   "source": [
    "- Input과  target를 여러 층을 사용하여 연결하는 모형을 구축 \n",
    "- 각 층에서 입력데이터는 weight를 통해 출력데이터와 연결됨\n",
    "- 딥러닝 모형 학습의 목표: __Weight의 정확한 값을 찾는 것__\n",
    "- Loss function: 신경망을 통해 출력된 output(prediction)이 실제 데이터 target 값과 얼마나 다른지를 측정\n",
    "- Optimizer: loss function으로부터  loss score를 계산하고 이 값이 감소하는 방향으로 weight를 수정해나가는 방식을 구현하는 방식 (backpropagation 방법) \n"
   ]
  },
  {
   "cell_type": "markdown",
   "metadata": {},
   "source": [
    "## 0.4 왜 딥러닝? 왜 지금? \n",
    "- Neural network와 backpropagation 방법은 이미 1989년에 소개되었고 LSTM은 1997에 개발되었음에도 불구하고 왜 2012년 이후 딥러닝이 부상하였는가? \n",
    "\n",
    "-  하드웨어 \n",
    "    - 비디오 게임의 그래픽 성능을 높이기 위해 개발된 GPU에 대한 투자 \n",
    "    - NVIDIA TITAN X는 최신 노트북 성능의 350배 빠른 속도로 병렬계산 가능 \n",
    "    - NVIDIA Tesla K80 처럼 딥러닝을 위해 개발된 GPU 등장 \n",
    "    - 구글의 TPU: GPU보다 10배 이상 빠르고 에너지 소비가 효율적 \n",
    "    \n",
    "- 데이터\n",
    "    - 대량의 데이터셋을 수집하고 배포할 수 있는 인터넷의 성장 \n",
    "    - ImageNet: 1400만개의 이미지를 1000개의 범주로 구분해 놓은 데이터셋 + Kaggle competition\n",
    "    - Flickr 이미지 태그 \n",
    "    - 위키피디아 \n",
    "\n",
    "- 알고리즘\n",
    "    - 새로운 activation function (ReLU)\n",
    "    - weight initialization 방법 (Xavier)\n",
    "    - 더 좋은 optimizer (RMSProp, Adam)\n",
    "    - batch normalization, residual connection 등 \n",
    "- 새로운 투자\n",
    "- Theano, Tensorflow와 같이 사용하기 쉬운 프레임워크의 발전 \n",
    "    "
   ]
  },
  {
   "cell_type": "markdown",
   "metadata": {
    "slideshow": {
     "slide_type": "fragment"
    }
   },
   "source": [
    "\n",
    "__References__\n",
    "\n",
    "- https://blogs.nvidia.co.kr/2016/08/03/difference_ai_learning_machinelearning/\n",
    "- [Deep Learning with Python, François Chollet,](https://www.manning.com/books/deep-learning-with-python)"
   ]
  }
 ],
 "metadata": {
  "anaconda-cloud": {},
  "kernelspec": {
   "display_name": "Python 3",
   "language": "python",
   "name": "python3"
  },
  "language_info": {
   "codemirror_mode": {
    "name": "ipython",
    "version": 3
   },
   "file_extension": ".py",
   "mimetype": "text/x-python",
   "name": "python",
   "nbconvert_exporter": "python",
   "pygments_lexer": "ipython3",
   "version": "3.6.3"
  }
 },
 "nbformat": 4,
 "nbformat_minor": 2
}
