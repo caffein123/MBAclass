{
 "cells": [
  {
   "cell_type": "markdown",
   "metadata": {},
   "source": [
    "# Example 10-2. 한글의 음소 단위 문장 생성 모형 "
   ]
  },
  {
   "cell_type": "markdown",
   "metadata": {},
   "source": [
    "- 한글 텍스트를 음소 단위로 토큰화 하여 문장을 생성하는 모형을 만들어 보는 예제 \n",
    "- 특정 형식과 어투를 가지고 있는 텍스트(e.g. 구약성경)를 사용하여 모형 학습 "
   ]
  },
  {
   "cell_type": "markdown",
   "metadata": {},
   "source": [
    "## 데이터 불러오기 "
   ]
  },
  {
   "cell_type": "markdown",
   "metadata": {},
   "source": [
    "- 한글 데이터를 한 줄씩 읽어와서 음소 단위로 나눔"
   ]
  },
  {
   "cell_type": "code",
   "execution_count": null,
   "metadata": {},
   "outputs": [],
   "source": [
    "!pip install jamotools"
   ]
  },
  {
   "cell_type": "code",
   "execution_count": null,
   "metadata": {},
   "outputs": [],
   "source": [
    "import jamotools"
   ]
  },
  {
   "cell_type": "code",
   "execution_count": null,
   "metadata": {},
   "outputs": [],
   "source": [
    "INPUT_FILE = \"./data/oldTestament.txt\"\n",
    "# extract the input as a stream of characters\n",
    "print(\"Extracting text from input...\")\n",
    "fin = open(INPUT_FILE, 'rb')\n",
    "\n",
    "lines = []\n",
    "i=0\n",
    "for line in fin:\n",
    "    line = line.strip()\n",
    "    line = line.decode(\"utf-8\")\n",
    "    line = jamotools.split_syllables(line) \n",
    "    line = line + '\\n' \n",
    "    if len(line) == 0:\n",
    "        continue\n",
    "    lines.append(line)\n",
    "    i += 1\n",
    "    if i == 2000: # 2000줄만 불러오기 \n",
    "        break\n",
    "fin.close()\n",
    "\n",
    "text = \" \".join(lines)"
   ]
  },
  {
   "cell_type": "code",
   "execution_count": null,
   "metadata": {},
   "outputs": [],
   "source": [
    "len(lines)"
   ]
  },
  {
   "cell_type": "markdown",
   "metadata": {},
   "source": [
    "<font color=blue>\n",
    "\n",
    "TO DO: \n",
    "\n",
    "- 유일한 문자의 집합인  vocabulary를 생성하여 `chars` 이름으로 저장하시오. \n",
    "- vocabulary의 크기를 `nb_chars`에 저장하시오. \n"
   ]
  },
  {
   "cell_type": "code",
   "execution_count": null,
   "metadata": {},
   "outputs": [],
   "source": [
    "chars = \n",
    "nb_chars = \n"
   ]
  },
  {
   "cell_type": "markdown",
   "metadata": {},
   "source": [
    "<font color=blue>\n",
    "    \n",
    "TO DO:\n",
    "\n",
    "- char와 index를 연결하는 lookup table을 만드시오. (`char2index`, `index2char`)"
   ]
  },
  {
   "cell_type": "code",
   "execution_count": null,
   "metadata": {},
   "outputs": [],
   "source": [
    "# Your answer comes here\n",
    "\n",
    "\n",
    "\n"
   ]
  },
  {
   "cell_type": "markdown",
   "metadata": {},
   "source": [
    "## 데이터 준비하기"
   ]
  },
  {
   "cell_type": "markdown",
   "metadata": {},
   "source": [
    "<font color=blue>\n",
    "    \n",
    "TO DO:\n",
    "\n",
    "- 20개의 음소를 입력값으로, 다음에 오는 음소를 출력값으로 하는 텍스트 list를 만드시오. \n",
    "- 참고: Lecture10의 \"Preparing data\" 부분을 활용 \n",
    " \n",
    "         input_chars[:5]\n",
    "         ['ㅊㅏㅇ1:1 <ㅊㅓㄴㅈㅣ ㅊㅏㅇㅈㅗ>',\n",
    "         '1:1 <ㅊㅓㄴㅈㅣ ㅊㅏㅇㅈㅗ> ㅌㅐ',\n",
    "         ' <ㅊㅓㄴㅈㅣ ㅊㅏㅇㅈㅗ> ㅌㅐㅊㅗㅇ',\n",
    "         'ㅓㄴㅈㅣ ㅊㅏㅇㅈㅗ> ㅌㅐㅊㅗㅇㅔ ㅎ',\n",
    "         'ㅣ ㅊㅏㅇㅈㅗ> ㅌㅐㅊㅗㅇㅔ ㅎㅏㄴㅏ']\n",
    "         \n",
    "         label_chars[:5]\n",
    "         [' ', 'ㅊ', 'ㅔ', 'ㅏ', 'ㄴ']\n"
   ]
  },
  {
   "cell_type": "code",
   "execution_count": null,
   "metadata": {},
   "outputs": [],
   "source": [
    "SEQLEN = 20\n",
    "STEP = 3\n",
    "\n",
    "input_chars = []\n",
    "label_chars = []\n",
    " \n",
    "for i in range(0, len(text) - SEQLEN, STEP):\n",
    "    # Your answer comes here\n",
    "\n",
    "\n",
    "\n"
   ]
  },
  {
   "cell_type": "code",
   "execution_count": null,
   "metadata": {},
   "outputs": [],
   "source": [
    "input_chars[:5]"
   ]
  },
  {
   "cell_type": "code",
   "execution_count": null,
   "metadata": {},
   "outputs": [],
   "source": [
    "label_chars[:5]"
   ]
  },
  {
   "cell_type": "markdown",
   "metadata": {},
   "source": [
    "<font color=blue>\n",
    "    \n",
    "TO DO:\n",
    "\n",
    "- 위에서 만든 input/output 문자 셋을 one-hot encoding으로 변환하여 모형에 입력 가능한 형태로 변환\n",
    "\n",
    "        X.shape, y.shape\n",
    "        ((83870, 20, 67), (83870, 67))"
   ]
  },
  {
   "cell_type": "code",
   "execution_count": null,
   "metadata": {},
   "outputs": [],
   "source": [
    "import numpy as np \n",
    "\n",
    "X = np.zeros((len(input_chars), SEQLEN, nb_chars), dtype=np.bool)\n",
    "y = np.zeros((len(input_chars), nb_chars), dtype=np.bool)\n",
    "\n",
    "for i, input_char in enumerate(input_chars):\n",
    "    # Your answer comes here\n",
    "\n",
    "\n",
    "\n"
   ]
  },
  {
   "cell_type": "code",
   "execution_count": null,
   "metadata": {
    "scrolled": true
   },
   "outputs": [],
   "source": [
    "X.shape, y.shape"
   ]
  },
  {
   "cell_type": "markdown",
   "metadata": {},
   "source": [
    "## 모델 학습"
   ]
  },
  {
   "cell_type": "markdown",
   "metadata": {},
   "source": [
    "<font color=blue>\n",
    "    \n",
    "TO DO: \n",
    "\n",
    "- 20개의 음소를 입력하여 그 다음에 나타날 음소를 예측하는 LSTM 모형을 생성하시오. \n",
    "- HIDDEN_SIZE, layer의 수 등 hyperparameter를 바꾸어 가며 최적의 모형을 찾으시오. "
   ]
  },
  {
   "cell_type": "code",
   "execution_count": null,
   "metadata": {},
   "outputs": [],
   "source": [
    "from keras.models import Sequential\n",
    "from keras.layers import LSTM, Dense\n",
    "from keras import optimizers\n",
    "from keras import backend as K\n",
    "HIDDEN_SIZE = 30\n",
    "BATCH_SIZE = 128\n",
    "\n",
    "K.clear_session()\n",
    "# Your answer comes here\n",
    "\n",
    "\n",
    "\n"
   ]
  },
  {
   "cell_type": "markdown",
   "metadata": {},
   "source": [
    "## 문장 생성"
   ]
  },
  {
   "cell_type": "code",
   "execution_count": null,
   "metadata": {},
   "outputs": [],
   "source": [
    "def sample(preds, temperature=1.0):\n",
    "    # helper function to sample an index from a probability array\n",
    "    preds = np.asarray(preds).astype('float64')\n",
    "    preds = np.log(preds) / temperature\n",
    "    exp_preds = np.exp(preds)\n",
    "    preds = exp_preds / np.sum(exp_preds)\n",
    "    probas = np.random.multinomial(1, preds, 1)\n",
    "    return np.argmax(probas)"
   ]
  },
  {
   "cell_type": "markdown",
   "metadata": {},
   "source": [
    "<font color='blue'>\n",
    "\n",
    "TO DO: \n",
    "             \n",
    "- 첫 입력데이터 `창1:1 <천지 창조>`를 seed로 하여 이후의 400개 음소를 생성하고 이 음소를 다시 글자로 조합하여 문장 생성 테스트를 진행하시오. \n",
    "- `sample`함수의 `temeprature`를 조정하여 동일 seed에서 생성되는 문장의 차이를 비교하시오. "
   ]
  },
  {
   "cell_type": "code",
   "execution_count": null,
   "metadata": {},
   "outputs": [],
   "source": [
    "## random seed의 사용 \n",
    "\n",
    "#test_idx = np.random.randint(len(input_chars))\n",
    "#test_chars = input_chars[test_idx]\n",
    "\n",
    "## 첫 번째 seed를 사용 \n",
    "test_chars = input_chars[0]\n",
    "print(\"Generating from seed: %s\" % (jamotools.join_jamos(test_chars)))\n",
    "print(test_chars, end=\"\")\n",
    "ypred_join=test_chars\n",
    "for i in range(400):\n",
    "    Xtest = np.zeros((1, SEQLEN, nb_chars))\n",
    "    for i, ch in enumerate(test_chars):\n",
    "        Xtest[0, i, char2index[ch]] = 1\n",
    "    pred = model.predict(Xtest, verbose=0)[0]\n",
    "    ypred = index2char[sample(pred,0.3)]\n",
    "    ypred_join = ypred_join + ypred \n",
    "    # move forward with test_chars + ypred\n",
    "    test_chars = test_chars[1:] + ypred\n",
    "\n",
    "jamotools.join_jamos(ypred_join)"
   ]
  }
 ],
 "metadata": {
  "anaconda-cloud": {},
  "kernelspec": {
   "display_name": "Python 3.5 (NGC/TensorFlow 18.12) on Backend.AI",
   "language": "python",
   "name": "python3"
  },
  "language_info": {
   "codemirror_mode": {
    "name": "ipython",
    "version": 3
   },
   "file_extension": ".py",
   "mimetype": "text/x-python",
   "name": "python",
   "nbconvert_exporter": "python",
   "pygments_lexer": "ipython3",
   "version": "3.5.2"
  }
 },
 "nbformat": 4,
 "nbformat_minor": 2
}
