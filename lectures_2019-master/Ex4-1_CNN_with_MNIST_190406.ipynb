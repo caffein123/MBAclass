{
 "cells": [
  {
   "cell_type": "markdown",
   "metadata": {
    "collapsed": true
   },
   "source": [
    "<font color=darkred>\n",
    "    \n",
    "# Example 4-1. CNN with MNIST Data"
   ]
  },
  {
   "cell_type": "markdown",
   "metadata": {
    "collapsed": true
   },
   "source": [
    "- Classify grayscale images of handwritten digits (28 pixels by 28 pixels), into their 10 categories (0 to 9)."
   ]
  },
  {
   "cell_type": "code",
   "execution_count": 1,
   "metadata": {
    "ExecuteTime": {
     "end_time": "2019-02-19T14:10:20.019086Z",
     "start_time": "2019-02-19T14:10:19.849043Z"
    }
   },
   "outputs": [
    {
     "name": "stderr",
     "output_type": "stream",
     "text": [
      "Using TensorFlow backend.\n"
     ]
    }
   ],
   "source": [
    "from keras.models import Sequential\n",
    "from keras import layers\n",
    "from keras.utils import plot_model\n",
    "from keras import backend as K\n",
    "from keras.callbacks import EarlyStopping, TensorBoard\n",
    "from keras import optimizers\n",
    "\n",
    "import numpy as np\n",
    "import matplotlib.pyplot as plt\n",
    "from IPython.display import Image"
   ]
  },
  {
   "cell_type": "code",
   "execution_count": 2,
   "metadata": {
    "ExecuteTime": {
     "end_time": "2019-02-19T14:10:22.540094Z",
     "start_time": "2019-02-19T14:10:22.190547Z"
    }
   },
   "outputs": [
    {
     "name": "stdout",
     "output_type": "stream",
     "text": [
      "Downloading data from https://s3.amazonaws.com/img-datasets/mnist.npz\n",
      "11493376/11490434 [==============================] - 2s 0us/step\n",
      "11501568/11490434 [==============================] - 2s 0us/step\n"
     ]
    }
   ],
   "source": [
    "from keras.datasets import mnist\n",
    "from keras.utils import to_categorical\n",
    "\n",
    "(train_images, train_labels), (test_images, test_labels) = mnist.load_data()"
   ]
  },
  {
   "cell_type": "code",
   "execution_count": 4,
   "metadata": {},
   "outputs": [
    {
     "data": {
      "text/plain": [
       "array([7, 2, 1, ..., 4, 5, 6], dtype=uint8)"
      ]
     },
     "execution_count": 4,
     "metadata": {},
     "output_type": "execute_result"
    }
   ],
   "source": [
    "test_labels"
   ]
  },
  {
   "cell_type": "code",
   "execution_count": 5,
   "metadata": {
    "ExecuteTime": {
     "end_time": "2019-02-19T14:10:23.246539Z",
     "start_time": "2019-02-19T14:10:23.243064Z"
    }
   },
   "outputs": [],
   "source": [
    "test_labels_orig = test_labels"
   ]
  },
  {
   "cell_type": "code",
   "execution_count": 6,
   "metadata": {
    "ExecuteTime": {
     "end_time": "2019-02-19T14:10:23.899509Z",
     "start_time": "2019-02-19T14:10:23.892928Z"
    }
   },
   "outputs": [
    {
     "data": {
      "text/plain": [
       "(28, 28)"
      ]
     },
     "execution_count": 6,
     "metadata": {},
     "output_type": "execute_result"
    }
   ],
   "source": [
    "train_images[0].shape"
   ]
  },
  {
   "cell_type": "code",
   "execution_count": 9,
   "metadata": {
    "ExecuteTime": {
     "end_time": "2019-02-19T14:10:25.132613Z",
     "start_time": "2019-02-19T14:10:24.954869Z"
    }
   },
   "outputs": [
    {
     "name": "stdout",
     "output_type": "stream",
     "text": [
      "Label:2\n"
     ]
    },
    {
     "data": {
      "image/png": "[encoded data removed]",
      "text/plain": [
       "<Figure size 432x288 with 1 Axes>"
      ]
     },
     "metadata": {
      "needs_background": "light"
     },
     "output_type": "display_data"
    }
   ],
   "source": [
    "i=5\n",
    "plt.gray()\n",
    "plt.imshow(train_images[i])\n",
    "print('Label:{l}'.format(l=train_labels[i]))"
   ]
  },
  {
   "cell_type": "code",
   "execution_count": 10,
   "metadata": {
    "ExecuteTime": {
     "end_time": "2019-02-19T14:10:26.134258Z",
     "start_time": "2019-02-19T14:10:26.038355Z"
    }
   },
   "outputs": [],
   "source": [
    "train_images = train_images.reshape((60000, 28, 28, 1))\n",
    "train_images = train_images.astype('float32') / 255\n",
    "\n",
    "test_images = test_images.reshape((10000, 28, 28, 1))\n",
    "test_images = test_images.astype('float32') / 255\n",
    "\n",
    "train_labels = to_categorical(train_labels)\n",
    "test_labels = to_categorical(test_labels)"
   ]
  },
  {
   "cell_type": "code",
   "execution_count": 12,
   "metadata": {},
   "outputs": [
    {
     "data": {
      "text/plain": [
       "7"
      ]
     },
     "execution_count": 12,
     "metadata": {},
     "output_type": "execute_result"
    }
   ],
   "source": [
    "test_labels_orig[0]"
   ]
  },
  {
   "cell_type": "code",
   "execution_count": 13,
   "metadata": {},
   "outputs": [
    {
     "data": {
      "text/plain": [
       "array([0., 0., 0., 0., 0., 0., 0., 1., 0., 0.], dtype=float32)"
      ]
     },
     "execution_count": 13,
     "metadata": {},
     "output_type": "execute_result"
    }
   ],
   "source": [
    "test_labels[0]"
   ]
  },
  {
   "cell_type": "markdown",
   "metadata": {},
   "source": [
    "## Classifying MNIST with a DNN model"
   ]
  },
  {
   "cell_type": "code",
   "execution_count": 14,
   "metadata": {
    "ExecuteTime": {
     "end_time": "2019-02-19T14:10:32.665088Z",
     "start_time": "2019-02-19T14:10:32.548633Z"
    }
   },
   "outputs": [
    {
     "name": "stdout",
     "output_type": "stream",
     "text": [
      "WARNING:tensorflow:From /usr/local/lib/python2.7/dist-packages/tensorflow/python/framework/op_def_library.py:263: colocate_with (from tensorflow.python.framework.ops) is deprecated and will be removed in a future version.\n",
      "Instructions for updating:\n",
      "Colocations handled automatically by placer.\n",
      "_________________________________________________________________\n",
      "Layer (type)                 Output Shape              Param #   \n",
      "=================================================================\n",
      "flatten_1 (Flatten)          (None, 784)               0         \n",
      "_________________________________________________________________\n",
      "dense_1 (Dense)              (None, 512)               401920    \n",
      "_________________________________________________________________\n",
      "dense_2 (Dense)              (None, 10)                5130      \n",
      "=================================================================\n",
      "Total params: 407,050\n",
      "Trainable params: 407,050\n",
      "Non-trainable params: 0\n",
      "_________________________________________________________________\n"
     ]
    }
   ],
   "source": [
    "model = Sequential()\n",
    "model.add(layers.Flatten(input_shape=(28,28,1)))\n",
    "model.add(layers.Dense(512, activation='relu'))\n",
    "model.add(layers.Dense(10, activation='softmax'))\n",
    "model.compile(optimizer='rmsprop',\n",
    "                loss='categorical_crossentropy',\n",
    "                metrics=['accuracy'])\n",
    "model.summary()"
   ]
  },
  {
   "cell_type": "code",
   "execution_count": 15,
   "metadata": {
    "ExecuteTime": {
     "end_time": "2019-02-19T14:10:42.133190Z",
     "start_time": "2019-02-19T14:10:33.461418Z"
    }
   },
   "outputs": [
    {
     "name": "stdout",
     "output_type": "stream",
     "text": [
      "WARNING:tensorflow:From /usr/local/lib/python2.7/dist-packages/tensorflow/python/ops/math_ops.py:3066: to_int32 (from tensorflow.python.ops.math_ops) is deprecated and will be removed in a future version.\n",
      "Instructions for updating:\n",
      "Use tf.cast instead.\n",
      "Train on 48000 samples, validate on 12000 samples\n",
      "Epoch 1/5\n",
      "48000/48000 [==============================] - 3s 67us/step - loss: 0.2867 - acc: 0.9179 - val_loss: 0.1506 - val_acc: 0.9551\n",
      "Epoch 2/5\n",
      "48000/48000 [==============================] - 2s 36us/step - loss: 0.1174 - acc: 0.9651 - val_loss: 0.1089 - val_acc: 0.9672\n",
      "Epoch 3/5\n",
      "48000/48000 [==============================] - 2s 37us/step - loss: 0.0774 - acc: 0.9773 - val_loss: 0.0973 - val_acc: 0.9719\n",
      "Epoch 4/5\n",
      "48000/48000 [==============================] - 2s 38us/step - loss: 0.0567 - acc: 0.9837 - val_loss: 0.0859 - val_acc: 0.9742\n",
      "Epoch 5/5\n",
      "48000/48000 [==============================] - 2s 38us/step - loss: 0.0416 - acc: 0.9880 - val_loss: 0.0839 - val_acc: 0.9754\n"
     ]
    },
    {
     "data": {
      "text/plain": [
       "<keras.callbacks.History at 0x7fd0e835e110>"
      ]
     },
     "execution_count": 15,
     "metadata": {},
     "output_type": "execute_result"
    }
   ],
   "source": [
    "model.fit(train_images, train_labels, epochs=5, batch_size=128, validation_split=0.2)"
   ]
  },
  {
   "cell_type": "code",
   "execution_count": 16,
   "metadata": {
    "ExecuteTime": {
     "end_time": "2019-02-19T14:10:42.621947Z",
     "start_time": "2019-02-19T14:10:42.135371Z"
    }
   },
   "outputs": [
    {
     "name": "stdout",
     "output_type": "stream",
     "text": [
      "10000/10000 [==============================] - 1s 57us/step\n"
     ]
    },
    {
     "data": {
      "text/plain": [
       "0.9778"
      ]
     },
     "execution_count": 16,
     "metadata": {},
     "output_type": "execute_result"
    }
   ],
   "source": [
    "test_loss, test_acc = model.evaluate(test_images, test_labels)\n",
    "test_acc"
   ]
  },
  {
   "cell_type": "markdown",
   "metadata": {},
   "source": [
    "## Classifying MNIST with a CNN model"
   ]
  },
  {
   "cell_type": "markdown",
   "metadata": {},
   "source": [
    "<font color=\"blue\">\n",
    "    \n",
    "- TO DO: 아래의 hiddne lahyer를 가진 모형을 구축하고 train set을 사용해 모형을 학습하시오. 위의 DNN 모형과 동일한 epoch, batch_size, optimizer를 사용하여 학습한 뒤 test set에 대한 accuracy를 계산하여 비교하시오.\n",
    "    - Convolutional: (3,3) kernel,  32 filters, ReLU activation\n",
    "    - Maxpooling: (2,2) kernel\n",
    "    - Convolutional: (3,3) kernel,  64 filters, ReLU activation\n",
    "    - Fully(Densely) connected: 64 units\n"
   ]
  },
  {
   "cell_type": "code",
   "execution_count": 17,
   "metadata": {},
   "outputs": [
    {
     "name": "stdout",
     "output_type": "stream",
     "text": [
      "Train on 48000 samples, validate on 12000 samples\n",
      "Epoch 1/5\n",
      "48000/48000 [==============================] - 9s 194us/step - loss: 0.1965 - acc: 0.9399 - val_loss: 0.0652 - val_acc: 0.9815\n",
      "Epoch 2/5\n",
      "48000/48000 [==============================] - 3s 68us/step - loss: 0.0537 - acc: 0.9835 - val_loss: 0.0479 - val_acc: 0.9857\n",
      "Epoch 3/5\n",
      "48000/48000 [==============================] - 3s 67us/step - loss: 0.0345 - acc: 0.9887 - val_loss: 0.0505 - val_acc: 0.9849\n",
      "Epoch 4/5\n",
      "48000/48000 [==============================] - 3s 63us/step - loss: 0.0244 - acc: 0.9921 - val_loss: 0.0409 - val_acc: 0.9882\n",
      "Epoch 5/5\n",
      "48000/48000 [==============================] - 2s 50us/step - loss: 0.0179 - acc: 0.9943 - val_loss: 0.0425 - val_acc: 0.9891\n"
     ]
    },
    {
     "data": {
      "text/plain": [
       "<keras.callbacks.History at 0x7fd0ea58a590>"
      ]
     },
     "execution_count": 17,
     "metadata": {},
     "output_type": "execute_result"
    }
   ],
   "source": [
    "## Your answer comes here.\n",
    "K.clear_session()\n",
    "\n",
    "model = Sequential()\n",
    "model.add(layers.Conv2D(32, (3, 3), activation='relu', input_shape=(28, 28, 1)))\n",
    "model.add(layers.MaxPooling2D((2, 2)))\n",
    "model.add(layers.Conv2D(64, (3, 3), activation='relu'))\n",
    "model.add(layers.Flatten())\n",
    "model.add(layers.Dense(64, activation='relu'))\n",
    "model.add(layers.Dense(10, activation='softmax'))\n",
    "model.compile(optimizer='rmsprop',\n",
    "              loss='categorical_crossentropy',\n",
    "              metrics=['accuracy'])\n",
    "model.fit(train_images, train_labels, epochs=5, batch_size=128, validation_split=0.2)\n",
    "\n"
   ]
  },
  {
   "cell_type": "code",
   "execution_count": 18,
   "metadata": {},
   "outputs": [
    {
     "name": "stdout",
     "output_type": "stream",
     "text": [
      "10000/10000 [==============================] - 1s 83us/step\n"
     ]
    }
   ],
   "source": [
    "test_loss, test_acc = model.evaluate(test_images, test_labels)"
   ]
  },
  {
   "cell_type": "code",
   "execution_count": 22,
   "metadata": {},
   "outputs": [
    {
     "data": {
      "text/plain": [
       "0.9906"
      ]
     },
     "execution_count": 22,
     "metadata": {},
     "output_type": "execute_result"
    }
   ],
   "source": [
    "test_acc"
   ]
  },
  {
   "cell_type": "markdown",
   "metadata": {},
   "source": [
    "<font color=\"blue\">\n",
    "    \n",
    "- TO DO: 위의 모형을 개선하여 (구조, epoch, optimizer 등의 측면에서) 더 높은 test accuracy를 가지는 모형을 만드시오"
   ]
  },
  {
   "cell_type": "code",
   "execution_count": null,
   "metadata": {},
   "outputs": [
    {
     "name": "stdout",
     "output_type": "stream",
     "text": [
      "WARNING:tensorflow:From /usr/local/lib/python2.7/dist-packages/keras/backend/tensorflow_backend.py:3445: calling dropout (from tensorflow.python.ops.nn_ops) with keep_prob is deprecated and will be removed in a future version.\n",
      "Instructions for updating:\n",
      "Please use `rate` instead of `keep_prob`. Rate should be set to `rate = 1 - keep_prob`.\n",
      "Train on 48000 samples, validate on 12000 samples\n",
      "Epoch 1/100\n",
      "48000/48000 [==============================] - 3s 70us/step - loss: 0.3087 - acc: 0.9022 - val_loss: 0.0735 - val_acc: 0.9778\n",
      "Epoch 2/100\n",
      "48000/48000 [==============================] - 3s 62us/step - loss: 0.0764 - acc: 0.9759 - val_loss: 0.0469 - val_acc: 0.9853\n",
      "Epoch 3/100\n",
      "48000/48000 [==============================] - 3s 62us/step - loss: 0.0515 - acc: 0.9830 - val_loss: 0.0362 - val_acc: 0.9893\n",
      "Epoch 4/100\n",
      "48000/48000 [==============================] - 3s 63us/step - loss: 0.0418 - acc: 0.9870 - val_loss: 0.0419 - val_acc: 0.9871\n",
      "Epoch 5/100\n",
      "48000/48000 [==============================] - 3s 62us/step - loss: 0.0349 - acc: 0.9888 - val_loss: 0.0360 - val_acc: 0.9897\n",
      "Epoch 6/100\n",
      "48000/48000 [==============================] - 3s 63us/step - loss: 0.0313 - acc: 0.9901 - val_loss: 0.0328 - val_acc: 0.9902\n",
      "Epoch 7/100\n",
      "48000/48000 [==============================] - 3s 63us/step - loss: 0.0284 - acc: 0.9912 - val_loss: 0.0321 - val_acc: 0.9907\n",
      "Epoch 8/100\n",
      "48000/48000 [==============================] - 3s 62us/step - loss: 0.0253 - acc: 0.9919 - val_loss: 0.0300 - val_acc: 0.9921\n",
      "Epoch 9/100\n",
      "48000/48000 [==============================] - 3s 65us/step - loss: 0.0225 - acc: 0.9923 - val_loss: 0.0307 - val_acc: 0.9922\n",
      "Epoch 10/100\n",
      "48000/48000 [==============================] - 3s 64us/step - loss: 0.0204 - acc: 0.9935 - val_loss: 0.0299 - val_acc: 0.9916\n",
      "Epoch 11/100\n",
      "48000/48000 [==============================] - 3s 64us/step - loss: 0.0189 - acc: 0.9940 - val_loss: 0.0297 - val_acc: 0.9922\n",
      "Epoch 12/100\n",
      "48000/48000 [==============================] - 3s 62us/step - loss: 0.0182 - acc: 0.9944 - val_loss: 0.0335 - val_acc: 0.9907\n",
      "Epoch 13/100\n",
      "48000/48000 [==============================] - 3s 63us/step - loss: 0.0161 - acc: 0.9944 - val_loss: 0.0325 - val_acc: 0.9921\n",
      "Epoch 14/100\n",
      "48000/48000 [==============================] - 4s 74us/step - loss: 0.0156 - acc: 0.9948 - val_loss: 0.0301 - val_acc: 0.9918\n",
      "Epoch 15/100\n",
      "48000/48000 [==============================] - 3s 73us/step - loss: 0.0138 - acc: 0.9953 - val_loss: 0.0281 - val_acc: 0.9934\n",
      "Epoch 16/100\n",
      "48000/48000 [==============================] - 5s 96us/step - loss: 0.0126 - acc: 0.9959 - val_loss: 0.0294 - val_acc: 0.9934\n",
      "Epoch 17/100\n",
      "48000/48000 [==============================] - 4s 81us/step - loss: 0.0131 - acc: 0.9961 - val_loss: 0.0371 - val_acc: 0.9917\n",
      "Epoch 18/100\n",
      "48000/48000 [==============================] - 4s 81us/step - loss: 0.0110 - acc: 0.9961 - val_loss: 0.0412 - val_acc: 0.9911\n",
      "Epoch 19/100\n",
      "48000/48000 [==============================] - 4s 84us/step - loss: 0.0118 - acc: 0.9962 - val_loss: 0.0292 - val_acc: 0.9926\n",
      "Epoch 20/100\n",
      "48000/48000 [==============================] - 4s 81us/step - loss: 0.0126 - acc: 0.9964 - val_loss: 0.0325 - val_acc: 0.9923\n",
      "Epoch 21/100\n",
      "48000/48000 [==============================] - 3s 69us/step - loss: 0.0102 - acc: 0.9965 - val_loss: 0.0312 - val_acc: 0.9928\n",
      "Epoch 22/100\n",
      "48000/48000 [==============================] - 3s 63us/step - loss: 0.0099 - acc: 0.9968 - val_loss: 0.0334 - val_acc: 0.9928\n",
      "Epoch 23/100\n",
      "48000/48000 [==============================] - 3s 67us/step - loss: 0.0107 - acc: 0.9966 - val_loss: 0.0304 - val_acc: 0.9932\n",
      "Epoch 24/100\n",
      "48000/48000 [==============================] - 4s 81us/step - loss: 0.0101 - acc: 0.9966 - val_loss: 0.0330 - val_acc: 0.9931\n",
      "Epoch 25/100\n",
      "48000/48000 [==============================] - 4s 81us/step - loss: 0.0102 - acc: 0.9968 - val_loss: 0.0321 - val_acc: 0.9931\n",
      "Epoch 26/100\n",
      "48000/48000 [==============================] - 4s 81us/step - loss: 0.0095 - acc: 0.9968 - val_loss: 0.0305 - val_acc: 0.9920\n",
      "Epoch 27/100\n",
      "48000/48000 [==============================] - 4s 81us/step - loss: 0.0082 - acc: 0.9972 - val_loss: 0.0315 - val_acc: 0.9928\n",
      "Epoch 28/100\n",
      "48000/48000 [==============================] - 4s 82us/step - loss: 0.0086 - acc: 0.9975 - val_loss: 0.0369 - val_acc: 0.9924\n",
      "Epoch 29/100\n",
      "48000/48000 [==============================] - 4s 82us/step - loss: 0.0100 - acc: 0.9968 - val_loss: 0.0317 - val_acc: 0.9927\n",
      "Epoch 30/100\n",
      "48000/48000 [==============================] - 4s 81us/step - loss: 0.0086 - acc: 0.9972 - val_loss: 0.0321 - val_acc: 0.9937\n",
      "Epoch 31/100\n",
      "48000/48000 [==============================] - 4s 81us/step - loss: 0.0071 - acc: 0.9979 - val_loss: 0.0362 - val_acc: 0.9925\n",
      "Epoch 32/100\n",
      "48000/48000 [==============================] - 4s 81us/step - loss: 0.0080 - acc: 0.9972 - val_loss: 0.0338 - val_acc: 0.9927\n",
      "Epoch 33/100\n",
      "48000/48000 [==============================] - 4s 81us/step - loss: 0.0071 - acc: 0.9979 - val_loss: 0.0319 - val_acc: 0.9932\n",
      "Epoch 34/100\n",
      "48000/48000 [==============================] - 3s 70us/step - loss: 0.0075 - acc: 0.9977 - val_loss: 0.0370 - val_acc: 0.9922\n",
      "Epoch 35/100\n",
      "48000/48000 [==============================] - 3s 63us/step - loss: 0.0079 - acc: 0.9973 - val_loss: 0.0371 - val_acc: 0.9930\n",
      "Epoch 36/100\n",
      "48000/48000 [==============================] - 3s 62us/step - loss: 0.0068 - acc: 0.9978 - val_loss: 0.0349 - val_acc: 0.9934\n",
      "Epoch 37/100\n",
      "48000/48000 [==============================] - 3s 63us/step - loss: 0.0076 - acc: 0.9976 - val_loss: 0.0392 - val_acc: 0.9926\n",
      "Epoch 38/100\n",
      "48000/48000 [==============================] - 3s 62us/step - loss: 0.0067 - acc: 0.9981 - val_loss: 0.0388 - val_acc: 0.9927\n",
      "Epoch 39/100\n",
      "48000/48000 [==============================] - 3s 62us/step - loss: 0.0076 - acc: 0.9978 - val_loss: 0.0383 - val_acc: 0.9928\n",
      "Epoch 40/100\n",
      "48000/48000 [==============================] - 3s 63us/step - loss: 0.0064 - acc: 0.9980 - val_loss: 0.0409 - val_acc: 0.9925\n",
      "Epoch 41/100\n",
      "48000/48000 [==============================] - 3s 62us/step - loss: 0.0070 - acc: 0.9978 - val_loss: 0.0407 - val_acc: 0.9925\n",
      "Epoch 42/100\n",
      "48000/48000 [==============================] - 3s 63us/step - loss: 0.0059 - acc: 0.9983 - val_loss: 0.0470 - val_acc: 0.9922\n",
      "Epoch 43/100\n",
      "48000/48000 [==============================] - 3s 64us/step - loss: 0.0079 - acc: 0.9980 - val_loss: 0.0359 - val_acc: 0.9935\n",
      "Epoch 44/100\n",
      "48000/48000 [==============================] - 3s 61us/step - loss: 0.0062 - acc: 0.9981 - val_loss: 0.0390 - val_acc: 0.9932\n",
      "Epoch 45/100\n",
      "48000/48000 [==============================] - 3s 61us/step - loss: 0.0070 - acc: 0.9980 - val_loss: 0.0348 - val_acc: 0.9931\n",
      "Epoch 46/100\n",
      "48000/48000 [==============================] - 3s 61us/step - loss: 0.0063 - acc: 0.9980 - val_loss: 0.0403 - val_acc: 0.9932\n",
      "Epoch 47/100\n",
      "48000/48000 [==============================] - 3s 62us/step - loss: 0.0049 - acc: 0.9984 - val_loss: 0.0408 - val_acc: 0.9929\n",
      "Epoch 48/100\n",
      "48000/48000 [==============================] - 3s 63us/step - loss: 0.0079 - acc: 0.9978 - val_loss: 0.0400 - val_acc: 0.9937\n",
      "Epoch 49/100\n",
      "48000/48000 [==============================] - 4s 81us/step - loss: 0.0070 - acc: 0.9981 - val_loss: 0.0425 - val_acc: 0.9936\n",
      "Epoch 50/100\n",
      "48000/48000 [==============================] - 3s 65us/step - loss: 0.0051 - acc: 0.9984 - val_loss: 0.0455 - val_acc: 0.9927\n",
      "Epoch 51/100\n",
      "48000/48000 [==============================] - 4s 80us/step - loss: 0.0063 - acc: 0.9983 - val_loss: 0.0425 - val_acc: 0.9921\n",
      "Epoch 52/100\n",
      "48000/48000 [==============================] - 4s 82us/step - loss: 0.0052 - acc: 0.9985 - val_loss: 0.0455 - val_acc: 0.9920\n",
      "Epoch 53/100\n",
      "48000/48000 [==============================] - 4s 81us/step - loss: 0.0064 - acc: 0.9982 - val_loss: 0.0432 - val_acc: 0.9937\n",
      "Epoch 54/100\n",
      "48000/48000 [==============================] - 4s 82us/step - loss: 0.0063 - acc: 0.9983 - val_loss: 0.0544 - val_acc: 0.9927\n",
      "Epoch 55/100\n",
      "48000/48000 [==============================] - 4s 82us/step - loss: 0.0050 - acc: 0.9982 - val_loss: 0.0508 - val_acc: 0.9925\n",
      "Epoch 56/100\n",
      "48000/48000 [==============================] - 4s 81us/step - loss: 0.0061 - acc: 0.9982 - val_loss: 0.0522 - val_acc: 0.9925\n",
      "Epoch 57/100\n",
      "48000/48000 [==============================] - 4s 83us/step - loss: 0.0067 - acc: 0.9982 - val_loss: 0.0432 - val_acc: 0.9931\n",
      "Epoch 58/100\n",
      "48000/48000 [==============================] - 4s 82us/step - loss: 0.0075 - acc: 0.9982 - val_loss: 0.0454 - val_acc: 0.9926\n",
      "Epoch 59/100\n",
      "48000/48000 [==============================] - 4s 83us/step - loss: 0.0064 - acc: 0.9981 - val_loss: 0.0438 - val_acc: 0.9931\n",
      "Epoch 60/100\n",
      "48000/48000 [==============================] - 4s 83us/step - loss: 0.0059 - acc: 0.9984 - val_loss: 0.0507 - val_acc: 0.9926\n",
      "Epoch 61/100\n",
      "48000/48000 [==============================] - 4s 82us/step - loss: 0.0058 - acc: 0.9984 - val_loss: 0.0423 - val_acc: 0.9937\n",
      "Epoch 62/100\n",
      "48000/48000 [==============================] - 3s 64us/step - loss: 0.0067 - acc: 0.9985 - val_loss: 0.0475 - val_acc: 0.9927\n",
      "Epoch 63/100\n",
      "48000/48000 [==============================] - 3s 64us/step - loss: 0.0065 - acc: 0.9982 - val_loss: 0.0520 - val_acc: 0.9920\n",
      "Epoch 64/100\n",
      "48000/48000 [==============================] - 3s 63us/step - loss: 0.0058 - acc: 0.9982 - val_loss: 0.0466 - val_acc: 0.9933\n",
      "Epoch 65/100\n",
      "48000/48000 [==============================] - 3s 63us/step - loss: 0.0070 - acc: 0.9980 - val_loss: 0.0464 - val_acc: 0.9931\n",
      "Epoch 66/100\n",
      "48000/48000 [==============================] - 3s 69us/step - loss: 0.0068 - acc: 0.9982 - val_loss: 0.0487 - val_acc: 0.9934\n",
      "Epoch 67/100\n",
      "48000/48000 [==============================] - 4s 79us/step - loss: 0.0059 - acc: 0.9984 - val_loss: 0.0570 - val_acc: 0.9920\n",
      "Epoch 68/100\n",
      "48000/48000 [==============================] - 4s 79us/step - loss: 0.0063 - acc: 0.9983 - val_loss: 0.0518 - val_acc: 0.9923\n",
      "Epoch 69/100\n",
      "48000/48000 [==============================] - 4s 80us/step - loss: 0.0073 - acc: 0.9985 - val_loss: 0.0435 - val_acc: 0.9930\n",
      "Epoch 70/100\n",
      "48000/48000 [==============================] - 4s 79us/step - loss: 0.0052 - acc: 0.9985 - val_loss: 0.0407 - val_acc: 0.9936\n",
      "Epoch 71/100\n",
      "48000/48000 [==============================] - 4s 79us/step - loss: 0.0067 - acc: 0.9984 - val_loss: 0.0457 - val_acc: 0.9928\n",
      "Epoch 72/100\n",
      "48000/48000 [==============================] - 4s 79us/step - loss: 0.0066 - acc: 0.9983 - val_loss: 0.0397 - val_acc: 0.9926\n",
      "Epoch 73/100\n",
      "48000/48000 [==============================] - 4s 78us/step - loss: 0.0064 - acc: 0.9984 - val_loss: 0.0541 - val_acc: 0.9928\n",
      "Epoch 74/100\n",
      "48000/48000 [==============================] - 4s 78us/step - loss: 0.0067 - acc: 0.9983 - val_loss: 0.0461 - val_acc: 0.9938\n",
      "Epoch 75/100\n",
      "48000/48000 [==============================] - 4s 78us/step - loss: 0.0056 - acc: 0.9986 - val_loss: 0.0507 - val_acc: 0.9926\n",
      "Epoch 76/100\n",
      "48000/48000 [==============================] - 4s 73us/step - loss: 0.0058 - acc: 0.9985 - val_loss: 0.0476 - val_acc: 0.9931\n",
      "Epoch 77/100\n",
      "48000/48000 [==============================] - 3s 64us/step - loss: 0.0062 - acc: 0.9982 - val_loss: 0.0446 - val_acc: 0.9925\n",
      "Epoch 78/100\n",
      "48000/48000 [==============================] - 3s 62us/step - loss: 0.0065 - acc: 0.9983 - val_loss: 0.0486 - val_acc: 0.9930\n",
      "Epoch 79/100\n",
      "48000/48000 [==============================] - 3s 61us/step - loss: 0.0059 - acc: 0.9986 - val_loss: 0.0527 - val_acc: 0.9931\n",
      "Epoch 80/100\n",
      "48000/48000 [==============================] - 3s 65us/step - loss: 0.0070 - acc: 0.9982 - val_loss: 0.0488 - val_acc: 0.9925\n",
      "Epoch 81/100\n",
      "48000/48000 [==============================] - 5s 98us/step - loss: 0.0050 - acc: 0.9987 - val_loss: 0.0485 - val_acc: 0.9932\n",
      "Epoch 82/100\n",
      "48000/48000 [==============================] - 5s 98us/step - loss: 0.0073 - acc: 0.9984 - val_loss: 0.0503 - val_acc: 0.9927\n",
      "Epoch 83/100\n",
      "48000/48000 [==============================] - 5s 99us/step - loss: 0.0053 - acc: 0.9987 - val_loss: 0.0552 - val_acc: 0.9926\n",
      "Epoch 84/100\n",
      "48000/48000 [==============================] - 5s 98us/step - loss: 0.0074 - acc: 0.9981 - val_loss: 0.0560 - val_acc: 0.9912\n",
      "Epoch 85/100\n",
      "48000/48000 [==============================] - 5s 98us/step - loss: 0.0056 - acc: 0.9985 - val_loss: 0.0559 - val_acc: 0.9922\n",
      "Epoch 86/100\n",
      " 2048/48000 [>.............................] - ETA: 4s - loss: 0.0122 - acc: 0.9966"
     ]
    }
   ],
   "source": [
    "## Your answer comes here.\n",
    "from keras.callbacks import ModelCheckpoint\n",
    "import time \n",
    "now = time.strftime(\"%c\")\n",
    "\n",
    "\n",
    "model = Sequential()\n",
    "model.add(layers.Conv2D(32, (3, 3), activation='relu', input_shape=(28, 28, 1)))\n",
    "model.add(layers.MaxPooling2D((2, 2)))\n",
    "model.add(layers.Dropout(0.3))\n",
    "model.add(layers.Conv2D(64, (3, 3), activation='relu'))\n",
    "model.add(layers.MaxPooling2D((2, 2)))\n",
    "model.add(layers.Dropout(0.3))\n",
    "model.add(layers.Conv2D(128, (3, 3), activation='relu'))\n",
    "model.add(layers.Flatten())\n",
    "model.add(layers.Dense(64, activation='relu'))\n",
    "model.add(layers.Dense(10, activation='softmax'))\n",
    "\n",
    "model.compile(optimizer='rmsprop',\n",
    "              loss='categorical_crossentropy',\n",
    "              metrics=['accuracy'])\n",
    "\n",
    "callbacks_list = [\n",
    "    TensorBoard(log_dir='./logs/mnist/'+now),\n",
    "    #EarlyStopping(monitor='val_loss',patience=2),\n",
    "    ModelCheckpoint(filepath='./models/mnist.h5',monitor='val_loss',save_best_only=True)\n",
    "]\n",
    "\n",
    "model.fit(train_images, train_labels, epochs=100, batch_size=128, validation_split=0.2, callbacks=callbacks_list)\n"
   ]
  },
  {
   "cell_type": "code",
   "execution_count": 25,
   "metadata": {},
   "outputs": [
    {
     "name": "stdout",
     "output_type": "stream",
     "text": [
      "10000/10000 [==============================] - 1s 93us/step\n"
     ]
    },
    {
     "data": {
      "text/plain": [
       "0.9937"
      ]
     },
     "execution_count": 25,
     "metadata": {},
     "output_type": "execute_result"
    }
   ],
   "source": [
    "from keras.models import load_model\n",
    "model2 = load_model(\"./models/mnist.h5\")\n",
    "test_loss, test_acc = model2.evaluate(test_images, test_labels)\n",
    "test_acc"
   ]
  },
  {
   "cell_type": "markdown",
   "metadata": {},
   "source": [
    "### prediction error가 발생한 example 확인 "
   ]
  },
  {
   "cell_type": "code",
   "execution_count": 26,
   "metadata": {},
   "outputs": [],
   "source": [
    "\n",
    "test_pred = model2.predict(test_images)\n",
    "label_pred = test_pred.argmax(axis=1)\n",
    "error_idx = np.where(np.not_equal(label_pred, test_labels_orig))[0]"
   ]
  },
  {
   "cell_type": "code",
   "execution_count": 30,
   "metadata": {},
   "outputs": [
    {
     "data": {
      "image/png": "[encoded data removed]",
      "text/plain": [
       "<Figure size 2016x2016 with 10 Axes>"
      ]
     },
     "metadata": {
      "needs_background": "light"
     },
     "output_type": "display_data"
    }
   ],
   "source": [
    "f = plt.figure(figsize=(28,28));\n",
    "count=1\n",
    "for i in range(10):\n",
    "    idx = error_idx[i]\n",
    "    imarray = np.squeeze(test_images[idx])\n",
    "    plt.gray()\n",
    "    plt.subplot(1,10,count)\n",
    "    plt.subplots_adjust(hspace=0.5)\n",
    "    count += 1\n",
    "    plt.title(\"Label: {}, Prediction: {}\".format(np.argmax(test_labels[idx]), label_pred[idx]))\n",
    "    plt.imshow(imarray, cmap='Greys', interpolation='None')\n",
    "    \n",
    "    pass"
   ]
  },
  {
   "cell_type": "code",
   "execution_count": null,
   "metadata": {},
   "outputs": [],
   "source": []
  }
 ],
 "metadata": {
  "kernelspec": {
   "display_name": "Python 2.7 (NGC/DIGITS 18.12-tensorflow) on Backend.AI",
   "language": "python",
   "name": "python2"
  },
  "language_info": {
   "codemirror_mode": {
    "name": "ipython",
    "version": 2
   },
   "file_extension": ".py",
   "mimetype": "text/x-python",
   "name": "python",
   "nbconvert_exporter": "python",
   "pygments_lexer": "ipython2",
   "version": "2.7.12"
  }
 },
 "nbformat": 4,
 "nbformat_minor": 2
}
