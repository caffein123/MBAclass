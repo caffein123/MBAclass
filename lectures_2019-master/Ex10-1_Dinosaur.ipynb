{
 "cells": [
  {
   "cell_type": "markdown",
   "metadata": {},
   "source": [
    "# Example 10-1. Character level language model - Dinosaur\n",
    "\n",
    "공룡 이름 생성기 만들기 \n",
    "\n",
    "- 기존의 공룡 이름 데이터를 사용하여 RNN 모형을 만들고 자동으로 이름 생성 \n",
    "- Sequence-to-sequence 형태의 모형을 사용 \n",
    "\n",
    "<img src=\"figures/dinosour.png\" width=\"70%\">\n",
    "<img src=\"figures/dinosour2.png\" width=\"70%\">\n"
   ]
  },
  {
   "cell_type": "code",
   "execution_count": 1,
   "metadata": {
    "ExecuteTime": {
     "end_time": "2019-03-02T09:23:02.107800Z",
     "start_time": "2019-03-02T09:23:00.690210Z"
    }
   },
   "outputs": [
    {
     "name": "stderr",
     "output_type": "stream",
     "text": [
      "Using TensorFlow backend.\n"
     ]
    }
   ],
   "source": [
    "import numpy as np\n",
    "import random\n",
    "from random import shuffle\n",
    "from keras.preprocessing import sequence\n",
    "from keras.utils import to_categorical"
   ]
  },
  {
   "cell_type": "markdown",
   "metadata": {
    "collapsed": true
   },
   "source": [
    "## 데이터 불러오기\n"
   ]
  },
  {
   "cell_type": "markdown",
   "metadata": {},
   "source": [
    "- 이름 사이는 enter(`\\n`)가 들어가 있음\n",
    "- 이름의 시작을 tab(`\\t`)으로 구분할 것이기 때문에 `\\t`를 `\\chars`에 추가"
   ]
  },
  {
   "cell_type": "code",
   "execution_count": 2,
   "metadata": {
    "ExecuteTime": {
     "end_time": "2019-03-02T09:47:35.620161Z",
     "start_time": "2019-03-02T09:47:35.608773Z"
    }
   },
   "outputs": [],
   "source": [
    "data = open('data/dinos.txt', 'r').read()\n",
    "data= data.lower()\n",
    "chars = list(set(data))\n",
    "data_size, vocab_size = len(data), len(chars)\n",
    "chars.append('\\t') "
   ]
  },
  {
   "cell_type": "markdown",
   "metadata": {},
   "source": [
    "<font color=blue>\n",
    "TO DO:\n",
    "    \n",
    "- 데이터가 전체는 총 몇 개의 문자로 이루어져 있는가?\n",
    "- Vocabulary는 몇 개의 문자로 이루어져 있는가?"
   ]
  },
  {
   "cell_type": "code",
   "execution_count": 3,
   "metadata": {},
   "outputs": [
    {
     "name": "stdout",
     "output_type": "stream",
     "text": [
      "19909\n",
      "28\n"
     ]
    }
   ],
   "source": [
    "# Your answer comes here\n",
    "\n",
    "\n",
    "\n"
   ]
  },
  {
   "cell_type": "markdown",
   "metadata": {},
   "source": [
    "<font color=blue>\n",
    "    \n",
    "TO DO:\n",
    "\n",
    "- char와 index를 연결하는 lookup table을 만드시오. (`char2index`, `index2char`)"
   ]
  },
  {
   "cell_type": "code",
   "execution_count": 4,
   "metadata": {},
   "outputs": [],
   "source": [
    "# Your answer comes here\n",
    "\n",
    "\n",
    "\n"
   ]
  },
  {
   "cell_type": "markdown",
   "metadata": {},
   "source": [
    "## Train data 만들기 "
   ]
  },
  {
   "cell_type": "markdown",
   "metadata": {},
   "source": [
    "<font color=blue>\n",
    "    \n",
    "TO DO: \n",
    "    \n",
    "- `examples`의 이름으로 각 줄을 읽어들임\n",
    "- 공백을 없애고 소문자로 변환하여 이름 list 생성 "
   ]
  },
  {
   "cell_type": "code",
   "execution_count": 5,
   "metadata": {
    "ExecuteTime": {
     "end_time": "2019-03-02T09:48:08.643459Z",
     "start_time": "2019-03-02T09:48:08.638889Z"
    }
   },
   "outputs": [],
   "source": [
    "# Your answer comes here\n",
    "\n",
    "\n",
    "\n"
   ]
  },
  {
   "cell_type": "markdown",
   "metadata": {},
   "source": [
    "<font color=blue>\n",
    "    \n",
    "TO DO: \n",
    "    \n",
    "- 이름의 최대 길이는 몇 인가? 즉, 가장 긴 이름은 몇 개의 문자로 이루어져 있는가?"
   ]
  },
  {
   "cell_type": "code",
   "execution_count": 6,
   "metadata": {},
   "outputs": [
    {
     "data": {
      "text/plain": [
       "26"
      ]
     },
     "execution_count": 6,
     "metadata": {},
     "output_type": "execute_result"
    }
   ],
   "source": [
    "# Your answer comes here\n",
    "\n",
    "\n",
    "\n"
   ]
  },
  {
   "cell_type": "markdown",
   "metadata": {},
   "source": [
    "- 생성할 가장 긴 이름을 `\\n`, `\\t` 포함 30개 문자로 이루어지도록 제한"
   ]
  },
  {
   "cell_type": "code",
   "execution_count": 7,
   "metadata": {
    "ExecuteTime": {
     "end_time": "2019-03-02T09:48:10.993741Z",
     "start_time": "2019-03-02T09:48:10.990820Z"
    }
   },
   "outputs": [],
   "source": [
    "max_len = 30\n",
    "nb_chars = len(char2index)"
   ]
  },
  {
   "cell_type": "markdown",
   "metadata": {},
   "source": [
    "<font color=blue>\n",
    "    \n",
    "TO DO: \n",
    "    \n",
    "아래의 사항을 포함하여 문자로 이루어진 이름을 각 문자를 나타내는 one-hot vector의 시퀀스로 변환하여 sequence-to-sequence 모델의 input(X)와 output(Y)를 만드시오. \n",
    "\n",
    "- 이름의 시작에는 `\\t`붙이기\n",
    "- 이름의 끝에는 `\\n` 붙이기\n",
    "- 총 이름의 길이는 `max_len` (`max_len`보다 짧은 경우 뒤를 `\\n`으로 채움) \n",
    "- Y는 X 입력값의 다음 문자를 지정 \n",
    "\n",
    "- E.g. example[0]: aachenosaurus\n",
    "      input: \\t a a c h e n n o s a u r u s \\n \\n \\n .... (30개 채울 때 까지)\n",
    "      output: a a c h e n n o s a u r u s \\n \\n \\n .... (30개 채울 때 까지)\n",
    "        \n",
    "        X[0]= array([[1, 0, 0, 0, 0, 0, 0, 0, 0, 0, 0, 0, 0, 0, 0, 0, 0, 0, 0, 0, 0, 0,\n",
    "        0, 0, 0, 0, 0, 0],\n",
    "       [0, 0, 1, 0, 0, 0, 0, 0, 0, 0, 0, 0, 0, 0, 0, 0, 0, 0, 0, 0, 0, 0,\n",
    "        0, 0, 0, 0, 0, 0],\n",
    "       [0, 0, 1, 0, 0, 0, 0, 0, 0, 0, 0, 0, 0, 0, 0, 0, 0, 0, 0, 0, 0, 0,\n",
    "        0, 0, 0, 0, 0, 0],\n",
    "        ...\n",
    "        \n",
    "  "
   ]
  },
  {
   "cell_type": "code",
   "execution_count": 8,
   "metadata": {},
   "outputs": [],
   "source": [
    "X = np.zeros((len(examples), max_len, nb_chars), dtype=int)\n",
    "Y = np.zeros((len(examples), max_len, nb_chars), dtype=int)\n",
    "\n",
    "for i, example in enumerate(examples):\n",
    "    # Your answer comes here\n",
    "\n",
    "\n",
    "\n",
    "\n"
   ]
  },
  {
   "cell_type": "code",
   "execution_count": 9,
   "metadata": {
    "ExecuteTime": {
     "end_time": "2019-03-02T09:49:38.507088Z",
     "start_time": "2019-03-02T09:49:38.502373Z"
    }
   },
   "outputs": [
    {
     "data": {
      "text/plain": [
       "((1536, 30, 28), (1536, 30, 28))"
      ]
     },
     "execution_count": 9,
     "metadata": {},
     "output_type": "execute_result"
    }
   ],
   "source": [
    "X.shape, Y.shape"
   ]
  },
  {
   "cell_type": "markdown",
   "metadata": {},
   "source": [
    "## 모델 만들기 "
   ]
  },
  {
   "cell_type": "code",
   "execution_count": 10,
   "metadata": {
    "ExecuteTime": {
     "end_time": "2019-03-02T09:49:50.413360Z",
     "start_time": "2019-03-02T09:49:50.408140Z"
    }
   },
   "outputs": [],
   "source": [
    "from keras.models import Model, Sequential\n",
    "from keras.layers import Dense, LSTM\n",
    "from keras.callbacks import TensorBoard, ModelCheckpoint, EarlyStopping\n",
    "from keras import optimizers"
   ]
  },
  {
   "cell_type": "code",
   "execution_count": 18,
   "metadata": {
    "ExecuteTime": {
     "end_time": "2019-03-02T09:49:51.099686Z",
     "start_time": "2019-03-02T09:49:50.864589Z"
    },
    "scrolled": true
   },
   "outputs": [],
   "source": [
    "# Your answer comes here\n",
    "\n",
    "\n",
    "\n"
   ]
  },
  {
   "cell_type": "markdown",
   "metadata": {},
   "source": [
    "## 공룡 이름 생성하기 "
   ]
  },
  {
   "cell_type": "code",
   "execution_count": null,
   "metadata": {
    "ExecuteTime": {
     "end_time": "2019-03-02T10:09:52.520615Z",
     "start_time": "2019-03-02T10:09:51.006016Z"
    }
   },
   "outputs": [],
   "source": [
    "for i in range(10):\n",
    "    stop = False\n",
    "    ch = \"\\t\"\n",
    "    counter = 1\n",
    "    target_seq = np.zeros((1,max_len, nb_chars))\n",
    "    target_seq[0, 0, char2index[ch]] = 1\n",
    "    while stop == False and counter < max_len:\n",
    "        probs = model.predict_proba(target_seq, verbose=0)[:, counter-1, :]\n",
    "        c = np.random.choice(sorted(list(chars)), replace=False, \n",
    "                             p=probs.reshape(nb_chars))\n",
    "        if c==\"\\n\":\n",
    "            stop=True\n",
    "        else:\n",
    "            ch=ch+c\n",
    "            target_seq[0, counter, char2index[c]] = 1\n",
    "            counter = counter + 1\n",
    "    print(ch) "
   ]
  },
  {
   "cell_type": "code",
   "execution_count": null,
   "metadata": {},
   "outputs": [],
   "source": []
  }
 ],
 "metadata": {
  "kernelspec": {
   "display_name": "Python 3",
   "language": "python",
   "name": "python3"
  },
  "language_info": {
   "codemirror_mode": {
    "name": "ipython",
    "version": 3
   },
   "file_extension": ".py",
   "mimetype": "text/x-python",
   "name": "python",
   "nbconvert_exporter": "python",
   "pygments_lexer": "ipython3",
   "version": "3.6.5"
  }
 },
 "nbformat": 4,
 "nbformat_minor": 2
}
