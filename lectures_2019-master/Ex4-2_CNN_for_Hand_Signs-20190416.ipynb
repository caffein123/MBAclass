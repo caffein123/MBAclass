{
 "cells": [
  {
   "cell_type": "code",
   "execution_count": 1,
   "metadata": {},
   "outputs": [
    {
     "name": "stderr",
     "output_type": "stream",
     "text": [
      "Using TensorFlow backend.\n"
     ]
    }
   ],
   "source": [
    "from keras.models import Sequential\n",
    "from keras import layers\n",
    "from keras.utils import plot_model\n",
    "from keras import backend as K\n",
    "from keras.callbacks import EarlyStopping, TensorBoard, ModelCheckpoint\n",
    "from keras import optimizers\n",
    "import tensorflow as tf"
   ]
  },
  {
   "cell_type": "markdown",
   "metadata": {},
   "source": [
    "# Review: workflow\n",
    "\n",
    "#### (1) 문제 정의와 데이터셋 수집 \n",
    "- 무엇을 예측하려 하는가? 이를 예측하기 위한 training data가 있는가? \n",
    "- 예측하려는 문제의 종류는 무엇인가?\n",
    "    - Binary classification\n",
    "    - Multi-class classification \n",
    "    - Regression\n",
    "- Examples\n",
    "    - __숫자 손글씨의 인식 (0-9)__\n",
    "    - 영화 리뷰의 감성 분류 (positive/negative)\n",
    "    - 얼굴 사진의 감정 인식 (happy/unhappy)\n",
    "    \n",
    "\n",
    "#### (2) 성공 지표의 선택\n",
    "- 최종 모형 비교를 위한 지표 선택 \n",
    "- Binary classification: accuracy, ROC AUC, precision(=TP/(TP+FP)), recall(=TP/(TP+FN)), F1-measure 등\n",
    "- Multi-class classification: average precision 등\n",
    "- Regression: MSE, MAE\n",
    "- Keras에서 학습 과정의 validation set에 대한 metric으로서 AUC, precision, recall 등을 제공하지 않음(왜? mini-batch에 대한 위의 지표는 오히려 방해가 될 수 있음): Test set에서 계산하는 것이 바람직\n",
    "\n",
    "\n",
    "\n",
    "#### (3) 평가 방법 선택\n",
    "- Hold-out validation set 사용\n",
    "    - Train data의 일정 부분을 validation set으로 사용 \n",
    "    - 데이터의 양이 많을 때 사용하는 방법\n",
    "    - `keras.model.fit`의 `validation_data` 또는 `validation_split` option\n",
    "- K-fold cross-validation\n",
    "    - Train set을 K-개의 무작위 set으로 구분한 뒤 하나씩 validation set으로 사용하며 반복\n",
    "    - Hold-out validation set을 구성하기에 데이터가 적을 때 사용  \n",
    "    - Keras 자체의 cv 모듈이 없으므로 scikit-learn의 `KFold`를 사용 (참고: https://3months.tistory.com/321)\n",
    "\n",
    "\n",
    "#### (4) 데이터 준비 \n",
    "- Input data는 일반적으로 [-1,1] 혹은 [0,1] 사이의 데이터로 스케일 조정\n",
    "- 사용하려는 모델에 맞는 input 형태로 조정\n",
    "- 필요시 output data 형태 변환(ex. one-hot encoding)"
   ]
  },
  {
   "cell_type": "code",
   "execution_count": 12,
   "metadata": {},
   "outputs": [
    {
     "name": "stdout",
     "output_type": "stream",
     "text": [
      "Downloading data from https://s3.amazonaws.com/img-datasets/mnist.npz\n",
      "11493376/11490434 [==============================] - 2s 0us/step\n"
     ]
    }
   ],
   "source": [
    "from keras.datasets import mnist\n",
    "from keras.utils import to_categorical\n",
    "\n",
    "(train_images, train_labels), (test_images, test_labels) = mnist.load_data()\n",
    "train_images = train_images.reshape((60000, 28, 28, 1))\n",
    "train_images = train_images.astype('float32') / 255\n",
    "test_images = test_images.reshape((10000, 28, 28, 1))\n",
    "test_images = test_images.astype('float32') / 255\n",
    "train_labels = to_categorical(train_labels)\n",
    "test_labels = to_categorical(test_labels)"
   ]
  },
  {
   "cell_type": "markdown",
   "metadata": {},
   "source": [
    "#### (5) Baseline보다 나은 모델 훈련 \n",
    "- 이진분류 라면 정확도 0.5, MNIST 데이터라면 정확도 0.1보다 높은 모형 만들기 \n",
    "- 적절한 layer 종류의 선택\n",
    "    - Dense\n",
    "    - Convolution\n",
    "    - Dropout\n",
    "    - Pooling\n",
    "    - Recurrent\n",
    "    - Embedding\n",
    "- 마지막 layer의 activation function 선택\n",
    "    - output의 형태에 따라 조정\n",
    "    - Sigmoid, softmax, linear 등\n",
    "- Loss function 선택\n",
    "    - 풀고자 하는 문제의 종류에 따라 선택\n",
    "    - binary_crossentropy, categorical_crossentropy, mse 등\n",
    "    - 미분 가능해야 하고 주어진 mini-batch에서 계산 가능해야 함. (ROC AUC 등은 사용 불가) \n",
    "- Optimizer와 learning rate 선택 \n",
    "    - rmsprop, adam과 default learning rate 사용이 무난 \n",
    "    \n",
    "<img src=\"figures/cheatsheet_loss.PNG\" width=\"80%\">"
   ]
  },
  {
   "cell_type": "code",
   "execution_count": 14,
   "metadata": {},
   "outputs": [
    {
     "name": "stdout",
     "output_type": "stream",
     "text": [
      "Train on 48000 samples, validate on 12000 samples\n",
      "Epoch 1/10\n",
      "48000/48000 [==============================] - 1s 21us/step - loss: 0.6750 - acc: 0.8122 - val_loss: 0.2746 - val_acc: 0.9219\n",
      "Epoch 2/10\n",
      "48000/48000 [==============================] - 1s 16us/step - loss: 0.2316 - acc: 0.9310 - val_loss: 0.1520 - val_acc: 0.9564\n",
      "Epoch 3/10\n",
      "48000/48000 [==============================] - 1s 16us/step - loss: 0.1431 - acc: 0.9570 - val_loss: 0.1135 - val_acc: 0.9656\n",
      "Epoch 4/10\n",
      "48000/48000 [==============================] - 1s 17us/step - loss: 0.1085 - acc: 0.9671 - val_loss: 0.0975 - val_acc: 0.9709\n",
      "Epoch 5/10\n",
      "48000/48000 [==============================] - 1s 17us/step - loss: 0.0903 - acc: 0.9729 - val_loss: 0.0793 - val_acc: 0.9767\n",
      "Epoch 6/10\n",
      "48000/48000 [==============================] - 1s 16us/step - loss: 0.0773 - acc: 0.9763 - val_loss: 0.0801 - val_acc: 0.9759\n",
      "Epoch 7/10\n",
      "48000/48000 [==============================] - 1s 16us/step - loss: 0.0690 - acc: 0.9798 - val_loss: 0.0689 - val_acc: 0.9803\n",
      "Epoch 8/10\n",
      "48000/48000 [==============================] - 1s 17us/step - loss: 0.0622 - acc: 0.9807 - val_loss: 0.0663 - val_acc: 0.9787\n",
      "Epoch 9/10\n",
      "48000/48000 [==============================] - 1s 18us/step - loss: 0.0566 - acc: 0.9827 - val_loss: 0.0708 - val_acc: 0.9796\n",
      "Epoch 10/10\n",
      "48000/48000 [==============================] - 1s 17us/step - loss: 0.0533 - acc: 0.9836 - val_loss: 0.0650 - val_acc: 0.9815\n"
     ]
    },
    {
     "data": {
      "text/plain": [
       "<keras.callbacks.History at 0x7f4fa10f85c0>"
      ]
     },
     "execution_count": 14,
     "metadata": {},
     "output_type": "execute_result"
    }
   ],
   "source": [
    "model = Sequential()\n",
    "model.add(layers.Conv2D(32, (3, 3), activation='relu', input_shape=(28, 28, 1)))\n",
    "model.add(layers.MaxPooling2D((2, 2)))\n",
    "model.add(layers.Conv2D(32, (3, 3), activation='relu', input_shape=(28, 28, 1)))\n",
    "model.add(layers.MaxPooling2D((2, 2)))\n",
    "model.add(layers.Flatten())\n",
    "model.add(layers.Dense(10, activation='softmax'))\n",
    "model.compile(optimizer='rmsprop',\n",
    "              loss='categorical_crossentropy',\n",
    "              metrics=['accuracy'])\n",
    "\n",
    "model.fit(train_images, train_labels, epochs=10, batch_size=512, validation_split=0.2)"
   ]
  },
  {
   "cell_type": "code",
   "execution_count": 17,
   "metadata": {},
   "outputs": [
    {
     "name": "stdout",
     "output_type": "stream",
     "text": [
      "10000/10000 [==============================] - 0s 40us/step\n"
     ]
    },
    {
     "data": {
      "text/plain": [
       "[0.05339451017489191, 0.9825]"
      ]
     },
     "execution_count": 17,
     "metadata": {},
     "output_type": "execute_result"
    }
   ],
   "source": [
    "model.evaluate(test_images, test_labels)"
   ]
  },
  {
   "cell_type": "code",
   "execution_count": 27,
   "metadata": {},
   "outputs": [],
   "source": [
    "test_pred=model.predict(test_images)"
   ]
  },
  {
   "cell_type": "markdown",
   "metadata": {},
   "source": [
    "#### (6) Scaling up: overfitting 모델 구축 \n",
    "- 충분한 성능을 나타내는 모델을 만들기 위해 모형을 크게 확장 \n",
    "    - Layer 추가 \n",
    "    - 각 layer의 unit 추가 \n",
    "    - Epoch 수 증가 \n",
    "- train loss와 validation loss를 모니터 \n",
    "\n",
    "#### (7) Regularization, hyperparameter tuning \n",
    "- 반복적으로 모델 수정, 훈련, 평가하며 모델 튜닝 \n",
    "    - Dropout 추가 \n",
    "    - Layer 추가 혹은 제거 \n",
    "    - L1 또는 L2 penalty 추가 \n",
    "    - Layer의 unit 수나 learning rate의 튜닝 \n",
    "  "
   ]
  },
  {
   "cell_type": "code",
   "execution_count": null,
   "metadata": {},
   "outputs": [],
   "source": [
    "model = Sequential()\n",
    "model.add(layers.Conv2D(32, (3, 3), activation='relu', input_shape=(28, 28, 1)))\n",
    "model.add(layers.MaxPooling2D((2, 2)))\n",
    "model.add(layers.Dropout(0.3))\n",
    "model.add(layers.Conv2D(64, (3, 3), activation='relu'))\n",
    "model.add(layers.MaxPooling2D((2, 2)))\n",
    "model.add(layers.Dropout(0.3))\n",
    "model.add(layers.Conv2D(128, (3, 3), activation='relu'))\n",
    "model.add(layers.Flatten())\n",
    "model.add(layers.Dense(64, activation='relu'))\n",
    "model.add(layers.Dense(10, activation='softmax'))\n",
    "\n",
    "model.compile(optimizer=optimizers.adam(lr=0.01),\n",
    "              loss='categorical_crossentropy',\n",
    "              metrics=['accuracy'])\n",
    "\n",
    "import time \n",
    "now = time.strftime(\"%c\")\n",
    "callbacks_list = [\n",
    "    TensorBoard(log_dir='./logs/mnist/'+now),\n",
    "    ModelCheckpoint(filepath='./models/mnist.h5',monitor='val_loss',save_best_only=True)\n",
    "]\n",
    "\n",
    "model.fit(train_images, train_labels, epochs=100, batch_size=512, validation_split=0.2, callbacks=callbacks_list)"
   ]
  },
  {
   "cell_type": "markdown",
   "metadata": {},
   "source": [
    "<font color=darkred>\n",
    "    \n",
    "#  Example 4-2. CNN for Hand Signs\n"
   ]
  },
  {
   "cell_type": "markdown",
   "metadata": {},
   "source": [
    "손가락으로 숫자를 표현하는 사진들을 학습하여 나타내고 있는 숫자(0-6)를 예측하는 문제를 실습\n",
    "\n",
    "\n",
    "\n",
    "<img src=\"figures/SIGNS.png\" style=\"width:800px;height:300px;\">\n",
    "\n"
   ]
  },
  {
   "cell_type": "code",
   "execution_count": 2,
   "metadata": {
    "ExecuteTime": {
     "end_time": "2019-02-19T14:51:35.297329Z",
     "start_time": "2019-02-19T14:51:32.170637Z"
    }
   },
   "outputs": [
    {
     "name": "stdout",
     "output_type": "stream",
     "text": [
      "Requirement already satisfied: h5py in /usr/local/lib/python3.5/dist-packages (2.8.0)\r\n",
      "Requirement already satisfied: numpy>=1.7 in /usr/local/lib/python3.5/dist-packages (from h5py) (1.14.5)\r\n",
      "Requirement already satisfied: six in /usr/local/lib/python3.5/dist-packages (from h5py) (1.11.0)\r\n"
     ]
    }
   ],
   "source": [
    "!pip install h5py\n",
    "#!pip install pillow"
   ]
  },
  {
   "cell_type": "code",
   "execution_count": 3,
   "metadata": {
    "ExecuteTime": {
     "end_time": "2019-02-12T06:30:24.963786Z",
     "start_time": "2019-02-12T06:30:22.972350Z"
    }
   },
   "outputs": [],
   "source": [
    "from keras.models import Sequential\n",
    "from keras import layers\n",
    "from keras.utils import plot_model, to_categorical\n",
    "from keras import backend as K\n",
    "from keras.callbacks import EarlyStopping, TensorBoard\n",
    "from keras import optimizers\n",
    "\n",
    "import h5py\n",
    "import numpy as np\n",
    "import matplotlib.pyplot as plt\n",
    "#from PIL import Image"
   ]
  },
  {
   "cell_type": "markdown",
   "metadata": {},
   "source": [
    "### Loading data"
   ]
  },
  {
   "cell_type": "code",
   "execution_count": 4,
   "metadata": {
    "ExecuteTime": {
     "end_time": "2019-02-12T06:30:30.980915Z",
     "start_time": "2019-02-12T06:30:30.936294Z"
    }
   },
   "outputs": [],
   "source": [
    "train_dataset = h5py.File('data/train_signs.h5', \"r\")\n",
    "\n",
    "X_train_orig = np.array(train_dataset[\"train_set_x\"][:]) # your train set features\n",
    "Y_train_orig = np.array(train_dataset[\"train_set_y\"][:]) # your train set labels\n",
    "\n",
    "test_dataset = h5py.File('data/test_signs.h5', \"r\")\n",
    "X_test_orig = np.array(test_dataset[\"test_set_x\"][:]) # your test set features\n",
    "Y_test_orig = np.array(test_dataset[\"test_set_y\"][:]) # your test set labels\n",
    "\n",
    "classes = np.array(test_dataset[\"list_classes\"][:]) # the list of classes"
   ]
  },
  {
   "cell_type": "code",
   "execution_count": 5,
   "metadata": {
    "ExecuteTime": {
     "end_time": "2019-02-12T06:30:31.529801Z",
     "start_time": "2019-02-12T06:30:31.519366Z"
    }
   },
   "outputs": [
    {
     "data": {
      "text/plain": [
       "['list_classes', 'train_set_x', 'train_set_y']"
      ]
     },
     "execution_count": 5,
     "metadata": {},
     "output_type": "execute_result"
    }
   ],
   "source": [
    "list(train_dataset.keys())"
   ]
  },
  {
   "cell_type": "code",
   "execution_count": 6,
   "metadata": {
    "ExecuteTime": {
     "end_time": "2019-02-12T06:30:31.717661Z",
     "start_time": "2019-02-12T06:30:31.710385Z"
    }
   },
   "outputs": [
    {
     "data": {
      "text/plain": [
       "(64, 64, 3)"
      ]
     },
     "execution_count": 6,
     "metadata": {},
     "output_type": "execute_result"
    }
   ],
   "source": [
    "train_dataset[\"train_set_x\"][0].shape"
   ]
  },
  {
   "cell_type": "code",
   "execution_count": 7,
   "metadata": {
    "ExecuteTime": {
     "end_time": "2019-02-12T06:30:31.901480Z",
     "start_time": "2019-02-12T06:30:31.894274Z"
    }
   },
   "outputs": [
    {
     "data": {
      "text/plain": [
       "((1080, 64, 64, 3), (1080,))"
      ]
     },
     "execution_count": 7,
     "metadata": {},
     "output_type": "execute_result"
    }
   ],
   "source": [
    "X_train_orig.shape, Y_train_orig.shape"
   ]
  },
  {
   "cell_type": "code",
   "execution_count": 8,
   "metadata": {},
   "outputs": [
    {
     "data": {
      "text/plain": [
       "((120, 64, 64, 3), (120,))"
      ]
     },
     "execution_count": 8,
     "metadata": {},
     "output_type": "execute_result"
    }
   ],
   "source": [
    "X_test_orig.shape, Y_test_orig.shape"
   ]
  },
  {
   "cell_type": "code",
   "execution_count": 9,
   "metadata": {
    "ExecuteTime": {
     "end_time": "2019-02-12T06:30:32.717188Z",
     "start_time": "2019-02-12T06:30:32.478903Z"
    }
   },
   "outputs": [
    {
     "name": "stdout",
     "output_type": "stream",
     "text": [
      "y = 5\n"
     ]
    },
    {
     "data": {
      "image/png": "[encoded data removed]",
      "text/plain": [
       "<Figure size 432x288 with 1 Axes>"
      ]
     },
     "metadata": {
      "needs_background": "light"
     },
     "output_type": "display_data"
    }
   ],
   "source": [
    "# Example of a picture\n",
    "index = 0\n",
    "plt.imshow(X_train_orig[index])\n",
    "print (\"y = \" + str(Y_train_orig[index]))"
   ]
  },
  {
   "cell_type": "markdown",
   "metadata": {},
   "source": [
    "### 데이터 준비"
   ]
  },
  {
   "cell_type": "markdown",
   "metadata": {},
   "source": [
    "<font color=blue> \n",
    "TO DO: 데이터를 모델에 입력하기 적절한 형태로 변환하시오.     "
   ]
  },
  {
   "cell_type": "code",
   "execution_count": 10,
   "metadata": {
    "ExecuteTime": {
     "end_time": "2019-02-12T06:30:33.068788Z",
     "start_time": "2019-02-12T06:30:32.966598Z"
    }
   },
   "outputs": [
    {
     "name": "stdout",
     "output_type": "stream",
     "text": [
      "number of training examples = 1080\n",
      "number of test examples = 120\n",
      "X_train shape: (1080, 64, 64, 3)\n",
      "Y_train shape: (1080, 6)\n",
      "X_test shape: (120, 64, 64, 3)\n",
      "Y_test shape: (120, 6)\n"
     ]
    }
   ],
   "source": [
    "X_train = X_train_orig/255.\n",
    "X_test = X_test_orig/255.\n",
    "Y_train = to_categorical(Y_train_orig)\n",
    "Y_test = to_categorical(Y_test_orig)\n",
    "print (\"number of training examples = \" + str(X_train.shape[0]))\n",
    "print (\"number of test examples = \" + str(X_test.shape[0]))\n",
    "print (\"X_train shape: \" + str(X_train.shape))\n",
    "print (\"Y_train shape: \" + str(Y_train.shape))\n",
    "print (\"X_test shape: \" + str(X_test.shape))\n",
    "print (\"Y_test shape: \" + str(Y_test.shape))\n"
   ]
  },
  {
   "cell_type": "code",
   "execution_count": 11,
   "metadata": {},
   "outputs": [],
   "source": [
    "X_val = X_train[:200]\n",
    "partial_X_train = X_train[200:]\n",
    "\n",
    "Y_val = Y_train[:200]\n",
    "partial_Y_train = Y_train[200:]"
   ]
  },
  {
   "cell_type": "markdown",
   "metadata": {},
   "source": [
    "### Baseline model 구축\n",
    "<font color=\"blue\">\n",
    "TO DO: 상대적으로 간단한 layer, activation, loss, optimizer를 사용하여 모형을 구축하고 test accuracy를 통해 성능 확인"
   ]
  },
  {
   "cell_type": "code",
   "execution_count": 12,
   "metadata": {
    "ExecuteTime": {
     "end_time": "2019-02-12T06:30:33.476860Z",
     "start_time": "2019-02-12T06:30:33.383295Z"
    }
   },
   "outputs": [],
   "source": [
    "K.clear_session()\n",
    "model = Sequential()\n",
    "model.add(layers.Conv2D(64, (3,3), strides = 1, padding = \"same\", input_shape = (64, 64, 3), activation=\"relu\"))\n",
    "model.add(layers.MaxPool2D((8,8), padding = \"same\"))\n",
    "model.add(layers.Conv2D(64, (3,3), strides = 1, padding = \"same\", activation=\"relu\"))\n",
    "model.add(layers.MaxPool2D((4,4), padding = \"same\"))\n",
    "model.add(layers.Flatten())\n",
    "model.add(layers.Dense(6, activation=\"softmax\"))"
   ]
  },
  {
   "cell_type": "code",
   "execution_count": 13,
   "metadata": {
    "ExecuteTime": {
     "end_time": "2019-02-12T06:30:33.819649Z",
     "start_time": "2019-02-12T06:30:33.813370Z"
    },
    "scrolled": true
   },
   "outputs": [
    {
     "name": "stdout",
     "output_type": "stream",
     "text": [
      "_________________________________________________________________\n",
      "Layer (type)                 Output Shape              Param #   \n",
      "=================================================================\n",
      "conv2d_1 (Conv2D)            (None, 64, 64, 64)        1792      \n",
      "_________________________________________________________________\n",
      "max_pooling2d_1 (MaxPooling2 (None, 8, 8, 64)          0         \n",
      "_________________________________________________________________\n",
      "conv2d_2 (Conv2D)            (None, 8, 8, 64)          36928     \n",
      "_________________________________________________________________\n",
      "max_pooling2d_2 (MaxPooling2 (None, 2, 2, 64)          0         \n",
      "_________________________________________________________________\n",
      "flatten_1 (Flatten)          (None, 256)               0         \n",
      "_________________________________________________________________\n",
      "dense_1 (Dense)              (None, 6)                 1542      \n",
      "=================================================================\n",
      "Total params: 40,262\n",
      "Trainable params: 40,262\n",
      "Non-trainable params: 0\n",
      "_________________________________________________________________\n"
     ]
    }
   ],
   "source": [
    "model.summary()"
   ]
  },
  {
   "cell_type": "code",
   "execution_count": 14,
   "metadata": {
    "ExecuteTime": {
     "end_time": "2019-02-12T06:30:36.870789Z",
     "start_time": "2019-02-12T06:30:36.814452Z"
    }
   },
   "outputs": [],
   "source": [
    "model.compile(optimizer = optimizers.adam(lr=0.001), loss = \"categorical_crossentropy\", metrics  = ['acc'])"
   ]
  },
  {
   "cell_type": "code",
   "execution_count": 15,
   "metadata": {
    "ExecuteTime": {
     "end_time": "2019-02-12T06:38:12.854006Z",
     "start_time": "2019-02-12T06:34:34.022830Z"
    }
   },
   "outputs": [
    {
     "name": "stdout",
     "output_type": "stream",
     "text": [
      "Train on 880 samples, validate on 200 samples\n",
      "Epoch 1/100\n",
      "880/880 [==============================] - 2s 2ms/step - loss: 1.7994 - acc: 0.1727 - val_loss: 1.7904 - val_acc: 0.1500\n",
      "Epoch 2/100\n",
      "880/880 [==============================] - 0s 189us/step - loss: 1.7734 - acc: 0.2318 - val_loss: 1.7595 - val_acc: 0.3000\n",
      "Epoch 3/100\n",
      "880/880 [==============================] - 0s 150us/step - loss: 1.7451 - acc: 0.3420 - val_loss: 1.7253 - val_acc: 0.4750\n",
      "Epoch 4/100\n",
      "880/880 [==============================] - 0s 168us/step - loss: 1.6942 - acc: 0.3511 - val_loss: 1.6649 - val_acc: 0.4750\n",
      "Epoch 5/100\n",
      "880/880 [==============================] - 0s 167us/step - loss: 1.6174 - acc: 0.4682 - val_loss: 1.5667 - val_acc: 0.5050\n",
      "Epoch 6/100\n",
      "880/880 [==============================] - 0s 170us/step - loss: 1.4959 - acc: 0.5409 - val_loss: 1.4461 - val_acc: 0.5800\n",
      "Epoch 7/100\n",
      "880/880 [==============================] - 0s 159us/step - loss: 1.3416 - acc: 0.6170 - val_loss: 1.3238 - val_acc: 0.5650\n",
      "Epoch 8/100\n",
      "880/880 [==============================] - 0s 174us/step - loss: 1.2480 - acc: 0.6193 - val_loss: 1.1691 - val_acc: 0.6600\n",
      "Epoch 9/100\n",
      "880/880 [==============================] - 0s 162us/step - loss: 1.0959 - acc: 0.6818 - val_loss: 1.0651 - val_acc: 0.7150\n",
      "Epoch 10/100\n",
      "880/880 [==============================] - 0s 161us/step - loss: 0.9769 - acc: 0.7295 - val_loss: 1.0860 - val_acc: 0.5600\n",
      "Epoch 11/100\n",
      "880/880 [==============================] - 0s 184us/step - loss: 0.9072 - acc: 0.7000 - val_loss: 0.9026 - val_acc: 0.7250\n",
      "Epoch 12/100\n",
      "880/880 [==============================] - 0s 177us/step - loss: 0.8206 - acc: 0.7602 - val_loss: 0.8411 - val_acc: 0.7350\n",
      "Epoch 13/100\n",
      "880/880 [==============================] - 0s 179us/step - loss: 0.7505 - acc: 0.7841 - val_loss: 0.8027 - val_acc: 0.7850\n",
      "Epoch 14/100\n",
      "880/880 [==============================] - 0s 168us/step - loss: 0.7326 - acc: 0.7591 - val_loss: 0.7967 - val_acc: 0.7050\n",
      "Epoch 15/100\n",
      "880/880 [==============================] - 0s 162us/step - loss: 0.6780 - acc: 0.7955 - val_loss: 0.7173 - val_acc: 0.7950\n",
      "Epoch 16/100\n",
      "880/880 [==============================] - 0s 159us/step - loss: 0.6212 - acc: 0.8227 - val_loss: 0.6674 - val_acc: 0.7900\n",
      "Epoch 17/100\n",
      "880/880 [==============================] - 0s 151us/step - loss: 0.6064 - acc: 0.8091 - val_loss: 0.6567 - val_acc: 0.7950\n",
      "Epoch 18/100\n",
      "880/880 [==============================] - 0s 166us/step - loss: 0.5685 - acc: 0.8284 - val_loss: 0.6329 - val_acc: 0.8150\n",
      "Epoch 19/100\n",
      "880/880 [==============================] - 0s 163us/step - loss: 0.5421 - acc: 0.8443 - val_loss: 0.6331 - val_acc: 0.7900\n",
      "Epoch 20/100\n",
      "880/880 [==============================] - 0s 184us/step - loss: 0.5342 - acc: 0.8455 - val_loss: 0.6690 - val_acc: 0.7400\n",
      "Epoch 21/100\n",
      "880/880 [==============================] - 0s 154us/step - loss: 0.4839 - acc: 0.8534 - val_loss: 0.5694 - val_acc: 0.8400\n",
      "Epoch 22/100\n",
      "880/880 [==============================] - 0s 171us/step - loss: 0.4540 - acc: 0.8625 - val_loss: 0.5683 - val_acc: 0.8250\n",
      "Epoch 23/100\n",
      "880/880 [==============================] - 0s 168us/step - loss: 0.4419 - acc: 0.8830 - val_loss: 0.5432 - val_acc: 0.8500\n",
      "Epoch 24/100\n",
      "880/880 [==============================] - 0s 166us/step - loss: 0.4183 - acc: 0.8773 - val_loss: 0.5185 - val_acc: 0.8200\n",
      "Epoch 25/100\n",
      "880/880 [==============================] - 0s 154us/step - loss: 0.3984 - acc: 0.8920 - val_loss: 0.4874 - val_acc: 0.8800\n",
      "Epoch 26/100\n",
      "880/880 [==============================] - 0s 181us/step - loss: 0.3679 - acc: 0.8943 - val_loss: 0.4836 - val_acc: 0.8450\n",
      "Epoch 27/100\n",
      "880/880 [==============================] - 0s 180us/step - loss: 0.3621 - acc: 0.9034 - val_loss: 0.4654 - val_acc: 0.8700\n",
      "Epoch 28/100\n",
      "880/880 [==============================] - 0s 186us/step - loss: 0.3363 - acc: 0.9091 - val_loss: 0.4716 - val_acc: 0.8850\n",
      "Epoch 29/100\n",
      "880/880 [==============================] - 0s 181us/step - loss: 0.3351 - acc: 0.9091 - val_loss: 0.4400 - val_acc: 0.9000\n",
      "Epoch 30/100\n",
      "880/880 [==============================] - 0s 156us/step - loss: 0.3095 - acc: 0.9182 - val_loss: 0.4275 - val_acc: 0.8900\n",
      "Epoch 31/100\n",
      "880/880 [==============================] - 0s 156us/step - loss: 0.3192 - acc: 0.9159 - val_loss: 0.4621 - val_acc: 0.8650\n",
      "Epoch 32/100\n",
      "880/880 [==============================] - 0s 168us/step - loss: 0.3014 - acc: 0.9102 - val_loss: 0.4134 - val_acc: 0.8800\n",
      "Epoch 33/100\n",
      "880/880 [==============================] - 0s 167us/step - loss: 0.2672 - acc: 0.9330 - val_loss: 0.4358 - val_acc: 0.8750\n",
      "Epoch 34/100\n",
      "880/880 [==============================] - 0s 162us/step - loss: 0.2653 - acc: 0.9330 - val_loss: 0.4187 - val_acc: 0.8950\n",
      "Epoch 35/100\n",
      "880/880 [==============================] - 0s 168us/step - loss: 0.2524 - acc: 0.9318 - val_loss: 0.4491 - val_acc: 0.8450\n",
      "Epoch 36/100\n",
      "880/880 [==============================] - 0s 147us/step - loss: 0.2655 - acc: 0.9261 - val_loss: 0.4303 - val_acc: 0.8900\n",
      "Epoch 37/100\n",
      "880/880 [==============================] - 0s 164us/step - loss: 0.2342 - acc: 0.9443 - val_loss: 0.3831 - val_acc: 0.9050\n",
      "Epoch 38/100\n",
      "880/880 [==============================] - 0s 164us/step - loss: 0.2326 - acc: 0.9352 - val_loss: 0.4036 - val_acc: 0.9100\n",
      "Epoch 39/100\n",
      "880/880 [==============================] - 0s 166us/step - loss: 0.2195 - acc: 0.9500 - val_loss: 0.3617 - val_acc: 0.9000\n",
      "Epoch 40/100\n",
      "880/880 [==============================] - 0s 174us/step - loss: 0.2016 - acc: 0.9568 - val_loss: 0.3874 - val_acc: 0.9050\n",
      "Epoch 41/100\n",
      "880/880 [==============================] - 0s 166us/step - loss: 0.2003 - acc: 0.9545 - val_loss: 0.4042 - val_acc: 0.8450\n",
      "Epoch 42/100\n",
      "880/880 [==============================] - 0s 161us/step - loss: 0.2058 - acc: 0.9500 - val_loss: 0.4073 - val_acc: 0.8650\n",
      "Epoch 43/100\n",
      "880/880 [==============================] - 0s 175us/step - loss: 0.2075 - acc: 0.9466 - val_loss: 0.4029 - val_acc: 0.8950\n",
      "Epoch 44/100\n",
      "880/880 [==============================] - 0s 173us/step - loss: 0.1968 - acc: 0.9489 - val_loss: 0.3394 - val_acc: 0.9100\n",
      "Epoch 45/100\n",
      "880/880 [==============================] - 0s 189us/step - loss: 0.1792 - acc: 0.9580 - val_loss: 0.3546 - val_acc: 0.9050\n",
      "Epoch 46/100\n",
      "880/880 [==============================] - 0s 169us/step - loss: 0.1807 - acc: 0.9614 - val_loss: 0.3672 - val_acc: 0.8950\n",
      "Epoch 47/100\n",
      "880/880 [==============================] - 0s 160us/step - loss: 0.1666 - acc: 0.9614 - val_loss: 0.3251 - val_acc: 0.9150\n",
      "Epoch 48/100\n",
      "880/880 [==============================] - 0s 162us/step - loss: 0.1538 - acc: 0.9693 - val_loss: 0.3402 - val_acc: 0.9150\n",
      "Epoch 49/100\n",
      "880/880 [==============================] - 0s 165us/step - loss: 0.1507 - acc: 0.9727 - val_loss: 0.3423 - val_acc: 0.9250\n",
      "Epoch 50/100\n",
      "880/880 [==============================] - 0s 159us/step - loss: 0.1447 - acc: 0.9705 - val_loss: 0.3567 - val_acc: 0.9000\n",
      "Epoch 51/100\n",
      "880/880 [==============================] - 0s 160us/step - loss: 0.1358 - acc: 0.9727 - val_loss: 0.3059 - val_acc: 0.9150\n",
      "Epoch 52/100\n",
      "880/880 [==============================] - 0s 151us/step - loss: 0.1364 - acc: 0.9705 - val_loss: 0.3465 - val_acc: 0.8900\n",
      "Epoch 53/100\n",
      "880/880 [==============================] - 0s 163us/step - loss: 0.1453 - acc: 0.9693 - val_loss: 0.3509 - val_acc: 0.8950\n",
      "Epoch 54/100\n",
      "880/880 [==============================] - 0s 168us/step - loss: 0.1404 - acc: 0.9682 - val_loss: 0.3194 - val_acc: 0.9200\n",
      "Epoch 55/100\n",
      "880/880 [==============================] - 0s 170us/step - loss: 0.1244 - acc: 0.9761 - val_loss: 0.2987 - val_acc: 0.9150\n",
      "Epoch 56/100\n",
      "880/880 [==============================] - 0s 166us/step - loss: 0.1080 - acc: 0.9898 - val_loss: 0.2936 - val_acc: 0.9100\n",
      "Epoch 57/100\n",
      "880/880 [==============================] - 0s 173us/step - loss: 0.1087 - acc: 0.9841 - val_loss: 0.3124 - val_acc: 0.9200\n",
      "Epoch 58/100\n",
      "880/880 [==============================] - 0s 173us/step - loss: 0.1051 - acc: 0.9864 - val_loss: 0.2801 - val_acc: 0.9150\n",
      "Epoch 59/100\n",
      "880/880 [==============================] - 0s 160us/step - loss: 0.1087 - acc: 0.9852 - val_loss: 0.3194 - val_acc: 0.9050\n",
      "Epoch 60/100\n",
      "880/880 [==============================] - 0s 160us/step - loss: 0.1091 - acc: 0.9773 - val_loss: 0.3067 - val_acc: 0.8950\n"
     ]
    },
    {
     "name": "stdout",
     "output_type": "stream",
     "text": [
      "Epoch 61/100\n",
      "880/880 [==============================] - 0s 158us/step - loss: 0.1026 - acc: 0.9795 - val_loss: 0.2945 - val_acc: 0.9150\n",
      "Epoch 62/100\n",
      "880/880 [==============================] - 0s 174us/step - loss: 0.1144 - acc: 0.9750 - val_loss: 0.2938 - val_acc: 0.9000\n",
      "Epoch 63/100\n",
      "880/880 [==============================] - 0s 157us/step - loss: 0.1267 - acc: 0.9705 - val_loss: 0.3332 - val_acc: 0.8900\n",
      "Epoch 64/100\n",
      "880/880 [==============================] - 0s 174us/step - loss: 0.1074 - acc: 0.9727 - val_loss: 0.2833 - val_acc: 0.9150\n",
      "Epoch 65/100\n",
      "880/880 [==============================] - 0s 164us/step - loss: 0.1007 - acc: 0.9807 - val_loss: 0.2629 - val_acc: 0.9300\n",
      "Epoch 66/100\n",
      "880/880 [==============================] - 0s 168us/step - loss: 0.0794 - acc: 0.9898 - val_loss: 0.2806 - val_acc: 0.9250\n",
      "Epoch 67/100\n",
      "880/880 [==============================] - 0s 162us/step - loss: 0.0808 - acc: 0.9898 - val_loss: 0.2577 - val_acc: 0.9200\n",
      "Epoch 68/100\n",
      "880/880 [==============================] - 0s 163us/step - loss: 0.0747 - acc: 0.9932 - val_loss: 0.2691 - val_acc: 0.9200\n",
      "Epoch 69/100\n",
      "880/880 [==============================] - 0s 173us/step - loss: 0.0749 - acc: 0.9932 - val_loss: 0.3040 - val_acc: 0.9000\n",
      "Epoch 70/100\n",
      "880/880 [==============================] - 0s 152us/step - loss: 0.0749 - acc: 0.9920 - val_loss: 0.2679 - val_acc: 0.9150\n",
      "Epoch 71/100\n",
      "880/880 [==============================] - 0s 183us/step - loss: 0.0640 - acc: 0.9977 - val_loss: 0.2515 - val_acc: 0.9250\n",
      "Epoch 72/100\n",
      "880/880 [==============================] - 0s 168us/step - loss: 0.0593 - acc: 0.9955 - val_loss: 0.2758 - val_acc: 0.9100\n",
      "Epoch 73/100\n",
      "880/880 [==============================] - 0s 157us/step - loss: 0.0601 - acc: 0.9977 - val_loss: 0.2587 - val_acc: 0.9200\n",
      "Epoch 74/100\n",
      "880/880 [==============================] - 0s 156us/step - loss: 0.0551 - acc: 0.9966 - val_loss: 0.2738 - val_acc: 0.9050\n",
      "Epoch 75/100\n",
      "880/880 [==============================] - 0s 171us/step - loss: 0.0581 - acc: 0.9977 - val_loss: 0.2673 - val_acc: 0.9050\n",
      "Epoch 76/100\n",
      "880/880 [==============================] - 0s 173us/step - loss: 0.0611 - acc: 0.9943 - val_loss: 0.2483 - val_acc: 0.9300\n",
      "Epoch 77/100\n",
      "880/880 [==============================] - 0s 164us/step - loss: 0.0547 - acc: 0.9932 - val_loss: 0.2520 - val_acc: 0.9250\n",
      "Epoch 78/100\n",
      "880/880 [==============================] - 0s 167us/step - loss: 0.0560 - acc: 0.9943 - val_loss: 0.2836 - val_acc: 0.9100\n",
      "Epoch 79/100\n",
      "880/880 [==============================] - 0s 163us/step - loss: 0.0517 - acc: 0.9977 - val_loss: 0.2632 - val_acc: 0.9050\n",
      "Epoch 80/100\n",
      "880/880 [==============================] - 0s 156us/step - loss: 0.0490 - acc: 0.9989 - val_loss: 0.2542 - val_acc: 0.9200\n",
      "Epoch 81/100\n",
      "880/880 [==============================] - 0s 174us/step - loss: 0.0456 - acc: 0.9977 - val_loss: 0.2343 - val_acc: 0.9300\n",
      "Epoch 82/100\n",
      "880/880 [==============================] - 0s 157us/step - loss: 0.0462 - acc: 0.9955 - val_loss: 0.2539 - val_acc: 0.9300\n",
      "Epoch 83/100\n",
      "880/880 [==============================] - 0s 156us/step - loss: 0.0408 - acc: 0.9989 - val_loss: 0.2411 - val_acc: 0.9300\n",
      "Epoch 84/100\n",
      "880/880 [==============================] - 0s 158us/step - loss: 0.0377 - acc: 0.9989 - val_loss: 0.2300 - val_acc: 0.9400\n",
      "Epoch 85/100\n",
      "880/880 [==============================] - 0s 182us/step - loss: 0.0418 - acc: 0.9977 - val_loss: 0.2387 - val_acc: 0.9400\n",
      "Epoch 86/100\n",
      "880/880 [==============================] - 0s 160us/step - loss: 0.0422 - acc: 0.9989 - val_loss: 0.2368 - val_acc: 0.9300\n",
      "Epoch 87/100\n",
      "880/880 [==============================] - 0s 157us/step - loss: 0.0421 - acc: 0.9977 - val_loss: 0.2345 - val_acc: 0.9150\n",
      "Epoch 88/100\n",
      "880/880 [==============================] - 0s 169us/step - loss: 0.0385 - acc: 0.9989 - val_loss: 0.2422 - val_acc: 0.9350\n",
      "Epoch 89/100\n",
      "880/880 [==============================] - 0s 171us/step - loss: 0.0351 - acc: 0.9989 - val_loss: 0.2463 - val_acc: 0.9250\n",
      "Epoch 90/100\n",
      "880/880 [==============================] - 0s 176us/step - loss: 0.0346 - acc: 0.9989 - val_loss: 0.2375 - val_acc: 0.9250\n",
      "Epoch 91/100\n",
      "880/880 [==============================] - 0s 172us/step - loss: 0.0370 - acc: 0.9977 - val_loss: 0.2486 - val_acc: 0.9250\n",
      "Epoch 92/100\n",
      "880/880 [==============================] - 0s 166us/step - loss: 0.0359 - acc: 1.0000 - val_loss: 0.2439 - val_acc: 0.9100\n",
      "Epoch 93/100\n",
      "880/880 [==============================] - 0s 169us/step - loss: 0.0359 - acc: 0.9966 - val_loss: 0.2485 - val_acc: 0.9200\n",
      "Epoch 94/100\n",
      "880/880 [==============================] - 0s 149us/step - loss: 0.0292 - acc: 1.0000 - val_loss: 0.2850 - val_acc: 0.9250\n",
      "Epoch 95/100\n",
      "880/880 [==============================] - 0s 163us/step - loss: 0.0329 - acc: 1.0000 - val_loss: 0.2481 - val_acc: 0.9100\n",
      "Epoch 96/100\n",
      "880/880 [==============================] - 0s 166us/step - loss: 0.0317 - acc: 1.0000 - val_loss: 0.2179 - val_acc: 0.9300\n",
      "Epoch 97/100\n",
      "880/880 [==============================] - 0s 169us/step - loss: 0.0261 - acc: 1.0000 - val_loss: 0.2287 - val_acc: 0.9400\n",
      "Epoch 98/100\n",
      "880/880 [==============================] - 0s 166us/step - loss: 0.0263 - acc: 0.9989 - val_loss: 0.2236 - val_acc: 0.9300\n",
      "Epoch 99/100\n",
      "880/880 [==============================] - 0s 160us/step - loss: 0.0245 - acc: 1.0000 - val_loss: 0.2507 - val_acc: 0.9200\n",
      "Epoch 100/100\n",
      "880/880 [==============================] - 0s 156us/step - loss: 0.0256 - acc: 1.0000 - val_loss: 0.2378 - val_acc: 0.9350\n"
     ]
    },
    {
     "data": {
      "text/plain": [
       "<keras.callbacks.History at 0x7fb8c0d98780>"
      ]
     },
     "execution_count": 15,
     "metadata": {},
     "output_type": "execute_result"
    }
   ],
   "source": [
    "model.fit(partial_X_train, partial_Y_train, epochs = 100, batch_size= 64, validation_data=(X_val, Y_val))"
   ]
  },
  {
   "cell_type": "code",
   "execution_count": 17,
   "metadata": {},
   "outputs": [
    {
     "name": "stdout",
     "output_type": "stream",
     "text": [
      "120/120 [==============================] - 0s 451us/step\n"
     ]
    },
    {
     "data": {
      "text/plain": [
       "[0.23187093238035839, 0.9166666626930237]"
      ]
     },
     "execution_count": 17,
     "metadata": {},
     "output_type": "execute_result"
    }
   ],
   "source": [
    "model.evaluate(X_test, Y_test)"
   ]
  },
  {
   "cell_type": "markdown",
   "metadata": {},
   "source": [
    "### Hyperparameter tuning을 통한 모형 수정 "
   ]
  },
  {
   "cell_type": "markdown",
   "metadata": {},
   "source": [
    "<font color=\"blue\">\n",
    "TO DO: layer 수, filter 수, learning rate 등을 조정하여 위의 baseline model보다 나은 성능의 model 탐색"
   ]
  },
  {
   "cell_type": "code",
   "execution_count": 18,
   "metadata": {},
   "outputs": [],
   "source": [
    "def build_model(lr=0.001, nodes=[32,64,128,128]):\n",
    "    K.clear_session()\n",
    "    model = Sequential()\n",
    "    model.add(layers.Conv2D(nodes[0], (3,3), strides = 1, padding = \"same\", input_shape = (64, 64, 3), activation=\"relu\"))\n",
    "    model.add(layers.MaxPool2D((8,8), padding = \"same\"))\n",
    "    model.add(layers.Conv2D(nodes[1], (3,3), strides = 1, padding = \"same\", activation=\"relu\"))\n",
    "    model.add(layers.MaxPool2D((4,4), padding = \"same\"))\n",
    "    model.add(layers.Conv2D(nodes[2], (3,3), strides = 1, padding = \"same\", activation=\"relu\"))\n",
    "    model.add(layers.MaxPool2D((4,4), padding = \"same\"))\n",
    "    model.add(layers.Flatten())\n",
    "    model.add(layers.Dense(nodes[3], activation=\"relu\"))\n",
    "    model.add(layers.Dense(6, activation=\"softmax\"))\n",
    "    model.compile(optimizer = optimizers.adam(lr=lr), loss = \"categorical_crossentropy\",\n",
    "                  metrics  = ['acc'])\n",
    "    return model"
   ]
  },
  {
   "cell_type": "code",
   "execution_count": 23,
   "metadata": {},
   "outputs": [
    {
     "data": {
      "text/plain": [
       "array([8.21707833e-04, 8.26023119e-01, 2.92016277e-03, 1.01107756e-03,\n",
       "       1.01384590e-02, 1.26128554e-01, 1.61342410e-01, 9.07563771e-04,\n",
       "       2.10647667e-01, 4.43241834e-01])"
      ]
     },
     "execution_count": 23,
     "metadata": {},
     "output_type": "execute_result"
    }
   ],
   "source": [
    "np.random.seed(10)\n",
    "r=-4*np.random.rand(10)\n",
    "alpha=10**r\n",
    "alpha"
   ]
  },
  {
   "cell_type": "code",
   "execution_count": 24,
   "metadata": {},
   "outputs": [
    {
     "name": "stdout",
     "output_type": "stream",
     "text": [
      "120/120 [==============================] - 0s 570us/step\n",
      "0-th learning rate tested: test accuracy 0.933333\n",
      "120/120 [==============================] - 0s 570us/step\n",
      "1-th learning rate tested: test accuracy 0.166667\n",
      "120/120 [==============================] - 0s 603us/step\n",
      "2-th learning rate tested: test accuracy 0.900000\n",
      "120/120 [==============================] - 0s 525us/step\n",
      "3-th learning rate tested: test accuracy 0.916667\n",
      "120/120 [==============================] - 0s 568us/step\n",
      "4-th learning rate tested: test accuracy 0.166667\n",
      "120/120 [==============================] - 0s 524us/step\n",
      "5-th learning rate tested: test accuracy 0.166667\n",
      "120/120 [==============================] - 0s 618us/step\n",
      "6-th learning rate tested: test accuracy 0.166667\n",
      "120/120 [==============================] - 0s 567us/step\n",
      "7-th learning rate tested: test accuracy 0.950000\n",
      "120/120 [==============================] - 0s 548us/step\n",
      "8-th learning rate tested: test accuracy 0.166667\n",
      "120/120 [==============================] - 0s 577us/step\n",
      "9-th learning rate tested: test accuracy 0.166667\n"
     ]
    }
   ],
   "source": [
    "from keras.models import load_model\n",
    "\n",
    "test_acc_all=[]\n",
    "for i, lr in enumerate(alpha):\n",
    "    model=build_model(lr=lr)\n",
    "    callbacks_list = [\n",
    "        TensorBoard(log_dir='./logs/sign/'+str(lr)),\n",
    "        ModelCheckpoint(filepath='./models/sign'+str(lr)+'.h5',monitor='val_loss',save_best_only=True)\n",
    "    ]\n",
    "\n",
    "    model.fit(partial_X_train, partial_Y_train, epochs = 100, batch_size= 64, validation_data=(X_val, Y_val),\n",
    "             callbacks=callbacks_list, verbose=0)\n",
    "    model_best=load_model('./models/sign'+str(lr)+'.h5')\n",
    "    test_loss, test_acc = model_best.evaluate(X_test, Y_test)\n",
    "    test_acc_all.append(test_acc)\n",
    "    print('%d-th learning rate tested: test accuracy %f'%(i, test_acc))\n",
    "    "
   ]
  },
  {
   "cell_type": "code",
   "execution_count": 39,
   "metadata": {},
   "outputs": [
    {
     "data": {
      "text/plain": [
       "array([8.26023119e-01, 1.01384590e-02, 1.26128554e-01, 1.61342410e-01,\n",
       "       2.10647667e-01, 4.43241834e-01, 2.92016277e-03, 1.01107756e-03,\n",
       "       8.21707833e-04, 9.07563771e-04])"
      ]
     },
     "execution_count": 39,
     "metadata": {},
     "output_type": "execute_result"
    }
   ],
   "source": [
    "alpha[np.argsort(test_acc_all)]  ##  lr의 범위가 적절하지 않은 값을 많이 포함하고 있음. test acc기준 오름차순으로 learning rate를 정렬"
   ]
  },
  {
   "cell_type": "code",
   "execution_count": 48,
   "metadata": {},
   "outputs": [
    {
     "data": {
      "text/plain": [
       "array([0.00016931, 0.00095334, 0.00023246, 0.00017832, 0.00031732,\n",
       "       0.00059594, 0.00063378, 0.00017357, 0.00067747, 0.00081594])"
      ]
     },
     "execution_count": 48,
     "metadata": {},
     "output_type": "execute_result"
    }
   ],
   "source": [
    "## alpha의 범위를 10^(-3)-10^(-4)로 좁혀서 다시 탐색\n",
    "np.random.seed(10)\n",
    "r=-np.random.rand(10)-3\n",
    "alpha=10**r\n",
    "alpha"
   ]
  },
  {
   "cell_type": "code",
   "execution_count": 49,
   "metadata": {},
   "outputs": [
    {
     "name": "stdout",
     "output_type": "stream",
     "text": [
      "120/120 [==============================] - 0s 586us/step\n",
      "0-th learning rate tested: test accuracy 0.891667\n",
      "120/120 [==============================] - 0s 595us/step\n",
      "1-th learning rate tested: test accuracy 0.925000\n",
      "120/120 [==============================] - 0s 574us/step\n",
      "2-th learning rate tested: test accuracy 0.900000\n",
      "120/120 [==============================] - 0s 589us/step\n",
      "3-th learning rate tested: test accuracy 0.875000\n",
      "120/120 [==============================] - 0s 646us/step\n",
      "4-th learning rate tested: test accuracy 0.933333\n",
      "120/120 [==============================] - 0s 572us/step\n",
      "5-th learning rate tested: test accuracy 0.958333\n",
      "120/120 [==============================] - 0s 748us/step\n",
      "6-th learning rate tested: test accuracy 0.958333\n",
      "120/120 [==============================] - 0s 555us/step\n",
      "7-th learning rate tested: test accuracy 0.908333\n",
      "120/120 [==============================] - 0s 571us/step\n",
      "8-th learning rate tested: test accuracy 0.941667\n",
      "120/120 [==============================] - 0s 591us/step\n",
      "9-th learning rate tested: test accuracy 0.916667\n"
     ]
    }
   ],
   "source": [
    "from keras.models import load_model\n",
    "\n",
    "test_acc_all=[]\n",
    "for i, lr in enumerate(alpha):\n",
    "    model=build_model(lr=lr)\n",
    "    callbacks_list = [\n",
    "        TensorBoard(log_dir='./logs/sign/'+str(lr)),\n",
    "        ModelCheckpoint(filepath='./models/sign'+str(lr)+'.h5',monitor='val_loss',save_best_only=True)\n",
    "    ]\n",
    "\n",
    "    model.fit(partial_X_train, partial_Y_train, epochs = 100, batch_size= 64, validation_data=(X_val, Y_val),\n",
    "             callbacks=callbacks_list, verbose=0)\n",
    "    model_best=load_model('./models/sign'+str(lr)+'.h5')\n",
    "    test_loss, test_acc = model_best.evaluate(X_test, Y_test)\n",
    "    test_acc_all.append(test_acc)\n",
    "    print('%d-th learning rate tested: test accuracy %f'%(i, test_acc))\n",
    "    "
   ]
  },
  {
   "cell_type": "code",
   "execution_count": 50,
   "metadata": {},
   "outputs": [
    {
     "data": {
      "text/plain": [
       "5"
      ]
     },
     "execution_count": 50,
     "metadata": {},
     "output_type": "execute_result"
    }
   ],
   "source": [
    "np.argmax(test_acc_all) # 5번째 lr이 최대 test accuracy를 제공 "
   ]
  },
  {
   "cell_type": "markdown",
   "metadata": {},
   "source": [
    "### 나의 사진 테스트"
   ]
  },
  {
   "cell_type": "markdown",
   "metadata": {},
   "source": [
    "<font color=\"blue\">\n",
    "\n",
    "TO DO: \n",
    "    본인의 손가락으로 숫자를 표현하는 사진을 찍어 jpg형태로 저장한 후 figures folder에 업로드하고 아래의 코드를 실행하여 사진을 모형에 입력가능한 형태로 변환하시오. 변환된 사진을 학습된 모형에 입력하여 분류 결과를 확인하시오. "
   ]
  },
  {
   "cell_type": "code",
   "execution_count": 51,
   "metadata": {},
   "outputs": [],
   "source": [
    "final_model=load_model('./models/sign'+str(alpha[5])+'.h5')"
   ]
  },
  {
   "cell_type": "code",
   "execution_count": 56,
   "metadata": {},
   "outputs": [
    {
     "name": "stdout",
     "output_type": "stream",
     "text": [
      "class: 3\n"
     ]
    },
    {
     "data": {
      "image/png": "[encoded data removed]",
      "text/plain": [
       "<Figure size 432x288 with 1 Axes>"
      ]
     },
     "metadata": {
      "needs_background": "light"
     },
     "output_type": "display_data"
    }
   ],
   "source": [
    "from keras.preprocessing import image \n",
    "\n",
    "img_path = 'figures/myhand3.jpg'\n",
    "img = image.load_img(img_path, target_size=(64, 64))\n",
    "plt.imshow(img)\n",
    "\n",
    "x = image.img_to_array(img)\n",
    "x = np.expand_dims(x, axis=0)\n",
    "x = x/255.\n",
    "\n",
    "pred=final_model.predict_classes(x)\n",
    "print('class: %d'%(pred))"
   ]
  },
  {
   "cell_type": "markdown",
   "metadata": {},
   "source": [
    "References\n",
    "- https://www.coursera.org/specializations/deep-learning"
   ]
  }
 ],
 "metadata": {
  "coursera": {
   "course_slug": "convolutional-neural-networks",
   "graded_item_id": "bwbJV",
   "launcher_item_id": "0TkXB"
  },
  "kernelspec": {
   "display_name": "Python 3.5 (NGC/TensorFlow 18.12) on Backend.AI",
   "language": "python",
   "name": "python3"
  },
  "language_info": {
   "codemirror_mode": {
    "name": "ipython",
    "version": 3
   },
   "file_extension": ".py",
   "mimetype": "text/x-python",
   "name": "python",
   "nbconvert_exporter": "python",
   "pygments_lexer": "ipython3",
   "version": "3.5.2"
  }
 },
 "nbformat": 4,
 "nbformat_minor": 1
}
