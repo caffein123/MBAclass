{
 "cells": [
  {
   "cell_type": "code",
   "execution_count": 3,
   "metadata": {
    "ExecuteTime": {
     "end_time": "2019-02-19T14:51:35.297329Z",
     "start_time": "2019-02-19T14:51:32.170637Z"
    }
   },
   "outputs": [
    {
     "name": "stdout",
     "output_type": "stream",
     "text": [
      "Requirement already satisfied: h5py in /usr/local/lib/python3.5/dist-packages (2.8.0)\r\n",
      "Requirement already satisfied: six in /usr/local/lib/python3.5/dist-packages (from h5py) (1.11.0)\r\n",
      "Requirement already satisfied: numpy>=1.7 in /usr/local/lib/python3.5/dist-packages (from h5py) (1.14.5)\r\n"
     ]
    }
   ],
   "source": [
    "!pip install h5py"
   ]
  },
  {
   "cell_type": "code",
   "execution_count": 4,
   "metadata": {},
   "outputs": [],
   "source": [
    "from keras.models import Sequential\n",
    "from keras import layers\n",
    "from keras.utils import plot_model,to_categorical\n",
    "from keras import backend as K\n",
    "from keras.callbacks import EarlyStopping, TensorBoard, ModelCheckpoint\n",
    "from keras import optimizers\n",
    "import tensorflow as tf\n",
    "\n",
    "import h5py\n",
    "import numpy as np\n",
    "import matplotlib.pyplot as plt\n"
   ]
  },
  {
   "cell_type": "markdown",
   "metadata": {},
   "source": [
    "###### <font color=darkred>\n",
    "    \n",
    "#  Example 6-1. CNN for Hand Signs with Data Augmentation\n"
   ]
  },
  {
   "cell_type": "markdown",
   "metadata": {},
   "source": [
    "0-5의 숫자를 나타내는 손가락 모양의 사진을 인식하는 Example 4-2의 문제를 data augmentation을 통해 다시 학습해보자."
   ]
  },
  {
   "cell_type": "markdown",
   "metadata": {},
   "source": [
    "### Loading data"
   ]
  },
  {
   "cell_type": "code",
   "execution_count": 5,
   "metadata": {
    "ExecuteTime": {
     "end_time": "2019-02-12T06:30:30.980915Z",
     "start_time": "2019-02-12T06:30:30.936294Z"
    }
   },
   "outputs": [],
   "source": [
    "train_dataset = h5py.File('data/train_signs.h5', \"r\")\n",
    "\n",
    "X_train_orig = np.array(train_dataset[\"train_set_x\"][:]) # your train set features\n",
    "Y_train_orig = np.array(train_dataset[\"train_set_y\"][:]) # your train set labels\n",
    "\n",
    "test_dataset = h5py.File('data/test_signs.h5', \"r\")\n",
    "X_test_orig = np.array(test_dataset[\"test_set_x\"][:]) # your test set features\n",
    "Y_test_orig = np.array(test_dataset[\"test_set_y\"][:]) # your test set labels\n",
    "\n",
    "classes = np.array(test_dataset[\"list_classes\"][:]) # the list of classes"
   ]
  },
  {
   "cell_type": "code",
   "execution_count": 10,
   "metadata": {
    "ExecuteTime": {
     "end_time": "2019-02-12T06:30:32.717188Z",
     "start_time": "2019-02-12T06:30:32.478903Z"
    }
   },
   "outputs": [
    {
     "name": "stdout",
     "output_type": "stream",
     "text": [
      "y = 5\n"
     ]
    },
    {
     "data": {
      "image/png": "[encoded data removed]",
      "text/plain": [
       "<Figure size 432x288 with 1 Axes>"
      ]
     },
     "metadata": {
      "needs_background": "light"
     },
     "output_type": "display_data"
    }
   ],
   "source": [
    "# Example of a picture\n",
    "index = 0\n",
    "plt.imshow(X_train_orig[index])\n",
    "print (\"y = \" + str(Y_train_orig[index]))"
   ]
  },
  {
   "cell_type": "markdown",
   "metadata": {},
   "source": [
    "### 데이터 준비\n",
    "\n",
    "- 픽셀 값을 [0,1] 사이로 조정\n",
    "- target label을 one-hot encoding으로 변환 \n",
    "- train set을 train/validation set으로 나눔"
   ]
  },
  {
   "cell_type": "code",
   "execution_count": 24,
   "metadata": {
    "ExecuteTime": {
     "end_time": "2019-02-12T06:30:33.068788Z",
     "start_time": "2019-02-12T06:30:32.966598Z"
    }
   },
   "outputs": [],
   "source": [
    "X_train = X_train_orig/255.\n",
    "X_test = X_test_orig/255.\n",
    "Y_train = to_categorical(Y_train_orig)\n",
    "Y_test = to_categorical(Y_test_orig)\n",
    "\n",
    "X_val = X_train[:200]\n",
    "partial_X_train = X_train[200:]\n",
    "Y_val = Y_train[:200]\n",
    "partial_Y_train = Y_train[200:]"
   ]
  },
  {
   "cell_type": "code",
   "execution_count": 25,
   "metadata": {},
   "outputs": [
    {
     "data": {
      "text/plain": [
       "(200, 64, 64, 3)"
      ]
     },
     "execution_count": 25,
     "metadata": {},
     "output_type": "execute_result"
    }
   ],
   "source": [
    "X_val.shape"
   ]
  },
  {
   "cell_type": "code",
   "execution_count": 26,
   "metadata": {},
   "outputs": [
    {
     "data": {
      "text/plain": [
       "(880, 64, 64, 3)"
      ]
     },
     "execution_count": 26,
     "metadata": {},
     "output_type": "execute_result"
    }
   ],
   "source": [
    "partial_X_train.shape"
   ]
  },
  {
   "cell_type": "markdown",
   "metadata": {},
   "source": [
    "### Build a model\n",
    "- 모형을 생성하고 complile하는 함수 만들기"
   ]
  },
  {
   "cell_type": "code",
   "execution_count": 27,
   "metadata": {},
   "outputs": [],
   "source": [
    "def build_model(lr=0.001, nodes=[32,64,128,128]):\n",
    "    K.clear_session()\n",
    "    model = Sequential()\n",
    "    model.add(layers.Conv2D(nodes[0], (3,3), strides = 1, padding = \"same\", input_shape = (64, 64, 3), activation=\"relu\"))\n",
    "    model.add(layers.MaxPool2D((8,8), padding = \"same\"))\n",
    "    model.add(layers.Conv2D(nodes[1], (3,3), strides = 1, padding = \"same\", activation=\"relu\"))\n",
    "    model.add(layers.MaxPool2D((4,4), padding = \"same\"))\n",
    "    model.add(layers.Conv2D(nodes[2], (3,3), strides = 1, padding = \"same\", activation=\"relu\"))\n",
    "    model.add(layers.MaxPool2D((4,4), padding = \"same\"))\n",
    "    model.add(layers.Flatten())\n",
    "    model.add(layers.Dense(nodes[3], activation=\"relu\"))\n",
    "    model.add(layers.Dense(6, activation=\"softmax\"))\n",
    "    model.compile(optimizer = optimizers.adam(lr=lr), loss = \"categorical_crossentropy\",\n",
    "                  metrics  = ['acc'])\n",
    "    return model"
   ]
  },
  {
   "cell_type": "markdown",
   "metadata": {},
   "source": [
    "### Image generator 생성\n"
   ]
  },
  {
   "cell_type": "markdown",
   "metadata": {},
   "source": [
    "<font color=blue>\n",
    "    TO DO: train data와 validation/test data를 증식하는 image generator를 만드시오. \"cats and dogs\"는 이미지가 subfolder에 분류되어 저장되어 있었으나 이 예제에서는 데이터가 np array 형태로 저장되어 있기 때문에 `ImageDataGenerator.flow_from_directory` 대신 `ImageDataGenerator.flow`를 사용해야 함."
   ]
  },
  {
   "cell_type": "code",
   "execution_count": 28,
   "metadata": {},
   "outputs": [],
   "source": [
    "from keras.preprocessing.image import ImageDataGenerator\n",
    "from keras.preprocessing import image\n",
    "\n",
    "train_datagen = ImageDataGenerator(\n",
    "    \n",
    "\n",
    "\n",
    "\n",
    "\n",
    ")\n",
    "\n",
    "test_datagen = ImageDataGenerator(\n",
    "\n",
    ")\n",
    "\n",
    "train_generator = train_datagen.flow(\n",
    "\n",
    "\n",
    ")\n",
    "\n",
    "validation_generator = test_datagen.flow(\n",
    "  \n",
    "    \n",
    "    \n",
    ")"
   ]
  },
  {
   "cell_type": "markdown",
   "metadata": {},
   "source": [
    "<font color=blue>\n",
    "    \n",
    "TO DO: `train_generator`가 생성하는 batch를 이해하기 위해 `next` 함수를 통해 `train_generator`로 하나의 batch를 생성하고 이를  `batch`이름으로 저장한 뒤 아래의 사항을 확인하시오.\n",
    "- `batch`의 type은 무엇인가?\n",
    "- `batch`의 length는 무엇인가?\n",
    "- `batch`의 첫 번째 element는 어떤 shape을 가졌고 어떤 데이터가 포함되어 있는가?\n",
    "- `batch`의 두 번째 element는 어떤 shape을 가졌고 어떤 데이터가 포함되어 있는가?\n",
    "- `plt.imshow`를 사용하여 `batch`의 첫 번째 이미지를 프린트 하고 해당하는 label을 확인하시오."
   ]
  },
  {
   "cell_type": "code",
   "execution_count": null,
   "metadata": {},
   "outputs": [],
   "source": [
    "\n",
    "\n",
    "\n",
    "\n"
   ]
  },
  {
   "cell_type": "markdown",
   "metadata": {},
   "source": [
    "<font color=blue>\n",
    "    \n",
    "TO DO: `train_datagen`이 증식하는 이미지를 아래의 절차를 따라 확인하시오. \n",
    "- X_train의 첫 번째 샘플을 `x`로 저장하고 이를 이미지로 프린트하시오. \n",
    "- `x`의 shape은 무엇인가? \n",
    "- `x`가 4D array가 되도록 변환하고 `train_datagen`을 통해 무작위로 증식되는 이미지를 5개 프린트해서 확인하시오. 증식되는 이미지가 학습데이터로 사용되기에 적절하다고 판단되는가? 그렇지 않다면 `train_datagen`을 수정한 뒤 다시 증식되는 이미지를 확인하시오.\n"
   ]
  },
  {
   "cell_type": "code",
   "execution_count": null,
   "metadata": {},
   "outputs": [],
   "source": [
    "\n",
    "\n",
    "\n",
    "\n",
    "\n"
   ]
  },
  {
   "cell_type": "markdown",
   "metadata": {},
   "source": [
    "## Model fitting"
   ]
  },
  {
   "cell_type": "markdown",
   "metadata": {},
   "source": [
    "<font color=blue>\n",
    "TO DO: `train_generator`와 `validation_generator`를 사용하여 모형을 학습하고 test set에 대해 accuracy를 확인하시오. 증식 전 보다 accuracy가 증가하였는가?"
   ]
  },
  {
   "cell_type": "code",
   "execution_count": null,
   "metadata": {},
   "outputs": [],
   "source": [
    "\n",
    "\n",
    "\n",
    "\n",
    "\n",
    "\n"
   ]
  },
  {
   "cell_type": "markdown",
   "metadata": {},
   "source": [
    "### 나의 사진 테스트"
   ]
  },
  {
   "cell_type": "markdown",
   "metadata": {},
   "source": [
    "<font color=\"blue\">\n",
    "\n",
    "TO DO: \n",
    "    본인의 손가락으로 숫자를 표현하는 사진을 찍어 jpg형태로 저장한 후 figures folder에 업로드하고 아래의 코드를 실행하여 사진을 모형에 입력가능한 형태로 변환하시오. 변환된 사진을 학습된 모형에 입력하여 분류 결과를 확인하시오. "
   ]
  },
  {
   "cell_type": "code",
   "execution_count": 99,
   "metadata": {},
   "outputs": [],
   "source": [
    "#final_model=load_model('./models/sign'+str(alpha[5])+'.h5')\n",
    "final_model=model"
   ]
  },
  {
   "cell_type": "code",
   "execution_count": 105,
   "metadata": {},
   "outputs": [
    {
     "name": "stdout",
     "output_type": "stream",
     "text": [
      "class: 1\n"
     ]
    },
    {
     "data": {
      "image/png": "[encoded data removed]",
      "text/plain": [
       "<Figure size 432x288 with 1 Axes>"
      ]
     },
     "metadata": {
      "needs_background": "light"
     },
     "output_type": "display_data"
    }
   ],
   "source": [
    "from keras.preprocessing import image \n",
    "\n",
    "img_path = 'figures/myhand2.jpg'\n",
    "img = image.load_img(img_path, target_size=(64, 64))\n",
    "plt.imshow(img)\n",
    "\n",
    "x = image.img_to_array(img)\n",
    "x = np.expand_dims(x, axis=0)\n",
    "x = x/255.\n",
    "\n",
    "pred=final_model.predict_classes(x)\n",
    "print('class: %d'%(pred))"
   ]
  },
  {
   "cell_type": "markdown",
   "metadata": {},
   "source": [
    "References\n",
    "- https://www.coursera.org/specializations/deep-learning"
   ]
  }
 ],
 "metadata": {
  "coursera": {
   "course_slug": "convolutional-neural-networks",
   "graded_item_id": "bwbJV",
   "launcher_item_id": "0TkXB"
  },
  "kernelspec": {
   "display_name": "Python 3.5 (NGC/TensorFlow 18.12) on Backend.AI",
   "language": "python",
   "name": "python3"
  },
  "language_info": {
   "codemirror_mode": {
    "name": "ipython",
    "version": 3
   },
   "file_extension": ".py",
   "mimetype": "text/x-python",
   "name": "python",
   "nbconvert_exporter": "python",
   "pygments_lexer": "ipython3",
   "version": "3.5.2"
  }
 },
 "nbformat": 4,
 "nbformat_minor": 1
}
