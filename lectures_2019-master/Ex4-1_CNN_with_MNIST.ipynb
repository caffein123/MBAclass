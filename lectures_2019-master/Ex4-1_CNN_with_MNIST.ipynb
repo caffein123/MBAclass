{
 "cells": [
  {
   "cell_type": "markdown",
   "metadata": {
    "collapsed": true
   },
   "source": [
    "<font color=darkred>\n",
    "    \n",
    "# Example 4-1. CNN with MNIST Data"
   ]
  },
  {
   "cell_type": "markdown",
   "metadata": {
    "collapsed": true
   },
   "source": [
    "- Classify grayscale images of handwritten digits (28 pixels by 28 pixels), into their 10 categories (0 to 9)."
   ]
  },
  {
   "cell_type": "code",
   "execution_count": null,
   "metadata": {
    "ExecuteTime": {
     "end_time": "2019-02-19T14:10:20.019086Z",
     "start_time": "2019-02-19T14:10:19.849043Z"
    }
   },
   "outputs": [],
   "source": [
    "from keras.models import Sequential\n",
    "from keras import layers\n",
    "from keras.utils import plot_model\n",
    "from keras import backend as K\n",
    "from keras.callbacks import EarlyStopping, TensorBoard\n",
    "from keras import optimizers\n",
    "\n",
    "import numpy as np\n",
    "import matplotlib.pyplot as plt\n",
    "from IPython.display import Image"
   ]
  },
  {
   "cell_type": "code",
   "execution_count": null,
   "metadata": {
    "ExecuteTime": {
     "end_time": "2019-02-19T14:10:22.540094Z",
     "start_time": "2019-02-19T14:10:22.190547Z"
    }
   },
   "outputs": [],
   "source": [
    "from keras.datasets import mnist\n",
    "from keras.utils import to_categorical\n",
    "\n",
    "(train_images, train_labels), (test_images, test_labels) = mnist.load_data()"
   ]
  },
  {
   "cell_type": "code",
   "execution_count": null,
   "metadata": {
    "ExecuteTime": {
     "end_time": "2019-02-19T14:10:23.246539Z",
     "start_time": "2019-02-19T14:10:23.243064Z"
    }
   },
   "outputs": [],
   "source": [
    "test_labels_orig = test_labels"
   ]
  },
  {
   "cell_type": "code",
   "execution_count": null,
   "metadata": {
    "ExecuteTime": {
     "end_time": "2019-02-19T14:10:23.899509Z",
     "start_time": "2019-02-19T14:10:23.892928Z"
    }
   },
   "outputs": [],
   "source": [
    "train_images[0].shape"
   ]
  },
  {
   "cell_type": "code",
   "execution_count": null,
   "metadata": {
    "ExecuteTime": {
     "end_time": "2019-02-19T14:10:25.132613Z",
     "start_time": "2019-02-19T14:10:24.954869Z"
    }
   },
   "outputs": [],
   "source": [
    "i=1\n",
    "plt.gray()\n",
    "plt.imshow(train_images[i])\n",
    "print('Label:{l}'.format(l=train_labels[i]))"
   ]
  },
  {
   "cell_type": "code",
   "execution_count": null,
   "metadata": {
    "ExecuteTime": {
     "end_time": "2019-02-19T14:10:26.134258Z",
     "start_time": "2019-02-19T14:10:26.038355Z"
    }
   },
   "outputs": [],
   "source": [
    "train_images = train_images.reshape((60000, 28, 28, 1))\n",
    "train_images = train_images.astype('float32') / 255\n",
    "\n",
    "test_images = test_images.reshape((10000, 28, 28, 1))\n",
    "test_images = test_images.astype('float32') / 255\n",
    "\n",
    "train_labels = to_categorical(train_labels)\n",
    "test_labels = to_categorical(test_labels)"
   ]
  },
  {
   "cell_type": "markdown",
   "metadata": {},
   "source": [
    "## Classifying MNIST with a DNN model"
   ]
  },
  {
   "cell_type": "code",
   "execution_count": null,
   "metadata": {
    "ExecuteTime": {
     "end_time": "2019-02-19T14:10:32.665088Z",
     "start_time": "2019-02-19T14:10:32.548633Z"
    }
   },
   "outputs": [],
   "source": [
    "model = Sequential()\n",
    "model.add(layers.Flatten(input_shape=(28,28,1)))\n",
    "model.add(layers.Dense(512, activation='relu'))\n",
    "model.add(layers.Dense(10, activation='softmax'))\n",
    "model.compile(optimizer='rmsprop',\n",
    "                loss='categorical_crossentropy',\n",
    "                metrics=['accuracy'])\n",
    "model.summary()"
   ]
  },
  {
   "cell_type": "code",
   "execution_count": null,
   "metadata": {
    "ExecuteTime": {
     "end_time": "2019-02-19T14:10:42.133190Z",
     "start_time": "2019-02-19T14:10:33.461418Z"
    }
   },
   "outputs": [],
   "source": [
    "model.fit(train_images, train_labels, epochs=5, batch_size=128, validation_split=0.2)"
   ]
  },
  {
   "cell_type": "code",
   "execution_count": null,
   "metadata": {
    "ExecuteTime": {
     "end_time": "2019-02-19T14:10:42.621947Z",
     "start_time": "2019-02-19T14:10:42.135371Z"
    }
   },
   "outputs": [],
   "source": [
    "test_loss, test_acc = model.evaluate(test_images, test_labels)\n",
    "test_acc"
   ]
  },
  {
   "cell_type": "markdown",
   "metadata": {},
   "source": [
    "## Classifying MNIST with a CNN model"
   ]
  },
  {
   "cell_type": "markdown",
   "metadata": {},
   "source": [
    "<font color=\"blue\">\n",
    "    \n",
    "- TO DO: 아래의 hiddne lahyer를 가진 모형을 구축하고 train set을 사용해 모형을 학습하시오. 위의 DNN 모형과 동일한 epoch, batch_size, optimizer를 사용하여 학습한 뒤 test set에 대한 accuracy를 계산하여 비교하시오.\n",
    "    - Convolutional: (3,3) kernel,  32 filters, ReLU activation\n",
    "    - Maxpooling: (2,2) kernel\n",
    "    - Convolutional: (3,3) kernel,  64 filters, ReLU activation\n",
    "    - Fully(Densely) connected: 64 units\n"
   ]
  },
  {
   "cell_type": "code",
   "execution_count": null,
   "metadata": {},
   "outputs": [],
   "source": [
    "## Your answer comes here.\n",
    "\n",
    "\n",
    "\n",
    "\n",
    "\n",
    "\n",
    "\n",
    "\n",
    "\n",
    "\n",
    "\n"
   ]
  },
  {
   "cell_type": "markdown",
   "metadata": {},
   "source": [
    "<font color=\"blue\">\n",
    "    \n",
    "- TO DO: 위의 모형을 개선하여 (구조, epoch, optimizer 등의 측면에서) 더 높은 test accuracy를 가지는 모형을 만드시오"
   ]
  },
  {
   "cell_type": "code",
   "execution_count": null,
   "metadata": {},
   "outputs": [],
   "source": [
    "## Your answer comes here.\n",
    "\n",
    "\n",
    "\n",
    "\n",
    "\n",
    "\n",
    "\n",
    "\n",
    "\n",
    "\n",
    "\n"
   ]
  },
  {
   "cell_type": "markdown",
   "metadata": {},
   "source": [
    "### prediction error가 발생한 example 확인 "
   ]
  },
  {
   "cell_type": "code",
   "execution_count": null,
   "metadata": {},
   "outputs": [],
   "source": [
    "test_pred = model2.predict(test_images)\n",
    "label_pred = test_pred.argmax(axis=1)\n",
    "error_idx = np.where(np.not_equal(label_pred, test_labels_orig))[0]"
   ]
  },
  {
   "cell_type": "code",
   "execution_count": null,
   "metadata": {},
   "outputs": [],
   "source": [
    "f = plt.figure(figsize=(28,28));\n",
    "count=1\n",
    "for i in range(10):\n",
    "    idx = error_idx[i]\n",
    "    imarray = np.squeeze(test_images[idx])\n",
    "    plt.gray()\n",
    "    plt.subplot(1,10,count)\n",
    "    plt.subplots_adjust(hspace=0.5)\n",
    "    count += 1\n",
    "    plt.title(\"Label: {}, Prediction: {}\".format(np.argmax(test_labels[idx]), label_pred[idx]))\n",
    "    plt.imshow(imarray, cmap='Greys', interpolation='None')\n",
    "    pass"
   ]
  }
 ],
 "metadata": {
  "kernelspec": {
   "display_name": "Python 2.7 (NGC/DIGITS 18.12-tensorflow) on Backend.AI",
   "language": "python",
   "name": "python2"
  },
  "language_info": {
   "codemirror_mode": {
    "name": "ipython",
    "version": 2
   },
   "file_extension": ".py",
   "mimetype": "text/x-python",
   "name": "python",
   "nbconvert_exporter": "python",
   "pygments_lexer": "ipython2",
   "version": "2.7.12"
  }
 },
 "nbformat": 4,
 "nbformat_minor": 2
}
