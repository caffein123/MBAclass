{
  "nbformat": 4,
  "nbformat_minor": 0,
  "metadata": {
    "colab": {
      "name": "colab과 drive의 연동 및 tensorboard 실행",
      "version": "0.3.2",
      "provenance": [],
      "collapsed_sections": []
    },
    "kernelspec": {
      "name": "python3",
      "display_name": "Python 3"
    }
  },
  "cells": [
    {
      "metadata": {
        "id": "K058zsu3OXR-",
        "colab_type": "text"
      },
      "cell_type": "markdown",
      "source": [
        "## Google drive와 Google Colab의 연동\n",
        "-  colab에서 작업 시 google drive에 저장되어 있는 데이터에 접근하기 위해서는 colab을 연동시키는 작업이 필요함."
      ]
    },
    {
      "metadata": {
        "id": "DqQbvI81KiWn",
        "colab_type": "text"
      },
      "cell_type": "markdown",
      "source": [
        "1. 아래의 코드를 실행."
      ]
    },
    {
      "metadata": {
        "id": "7MQt2jRlzYkV",
        "colab_type": "code",
        "colab": {}
      },
      "cell_type": "code",
      "source": [
        "!apt-get install -y -qq software-properties-common python-software-properties module-init-tools\n",
        "!add-apt-repository -y ppa:alessandro-strada/ppa 2>&1 > /dev/null\n",
        "!apt-get update -qq 2>&1 > /dev/null\n",
        "!apt-get -y install -qq google-drive-ocamlfuse fuse\n",
        "\n",
        "from google.colab import auth\n",
        "auth.authenticate_user()\n",
        "\n",
        "from oauth2client.client import GoogleCredentials\n",
        "creds = GoogleCredentials.get_application_default()\n",
        "\n",
        "import getpass\n",
        "!google-drive-ocamlfuse -headless -id={creds.client_id} -secret={creds.client_secret} < /dev/null 2>&1 | grep URL\n",
        "vcode = getpass.getpass()\n",
        "!echo {vcode} | google-drive-ocamlfuse -headless -id={creds.client_id} -secret={creds.client_secret}"
      ],
      "execution_count": 0,
      "outputs": []
    },
    {
      "metadata": {
        "id": "_20hUbQcJ3Uu",
        "colab_type": "text"
      },
      "cell_type": "markdown",
      "source": [
        "2. 코드 실행 중 secret key를 입력하라는 빈 칸이 나오면 링크를 클릭하여 구글 아이디로 로그인 하고 key를 발급받아  복사/붙이기로 칸에 입력하고 엔터를 누름(두번 반복).  \"Access token retrieved correctly.\"라는 결과가 나오는 것을 확인."
      ]
    },
    {
      "metadata": {
        "id": "Wl0sWinZLRMb",
        "colab_type": "text"
      },
      "cell_type": "markdown",
      "source": [
        "3. 아래의 코드를 실행하여 \"drive\" 이름의 폴더를 생성하고 이 폴더를 구글 드라이브와 연동."
      ]
    },
    {
      "metadata": {
        "id": "XESjAXi72WdF",
        "colab_type": "code",
        "colab": {}
      },
      "cell_type": "code",
      "source": [
        "!mkdir -p drive\n",
        "!google-drive-ocamlfuse drive"
      ],
      "execution_count": 0,
      "outputs": []
    },
    {
      "metadata": {
        "id": "jG7UloPhLfTj",
        "colab_type": "text"
      },
      "cell_type": "markdown",
      "source": [
        "4. drive 폴더에서 google drive에 있는 파일이 접근되는지 확인.\n"
      ]
    },
    {
      "metadata": {
        "id": "4zg6UgVDJin0",
        "colab_type": "code",
        "colab": {}
      },
      "cell_type": "code",
      "source": [
        "!cd drive; ls"
      ],
      "execution_count": 0,
      "outputs": []
    },
    {
      "metadata": {
        "id": "-FT84y8wb4E7",
        "colab_type": "text"
      },
      "cell_type": "markdown",
      "source": [
        "- 일정 시간이 지나면 연동이 해제되므로 다시 실행해 주어야 함."
      ]
    },
    {
      "metadata": {
        "id": "ZTFXtEnmP9G3",
        "colab_type": "text"
      },
      "cell_type": "markdown",
      "source": [
        "## Tensorboard 사용하기\n",
        "- 연동된 google drive 상의 폴더에 tensorboard 실행 시의 log 파일을 저장하고 이를 확인하는 예제 "
      ]
    },
    {
      "metadata": {
        "id": "fizVj-jaSixl",
        "colab_type": "text"
      },
      "cell_type": "markdown",
      "source": [
        "#### Import data"
      ]
    },
    {
      "metadata": {
        "id": "Z134YkqNQDv5",
        "colab_type": "code",
        "colab": {}
      },
      "cell_type": "code",
      "source": [
        "from keras.datasets import mnist   \n",
        "from keras.utils import to_categorical\n",
        "\n",
        "(train_images, train_labels), (test_images, test_labels) = mnist.load_data()\n",
        "\n",
        "train_images = train_images.reshape((60000, 28, 28, 1))\n",
        "train_images = train_images.astype('float32') / 255\n",
        "\n",
        "test_images = test_images.reshape((10000, 28, 28, 1))\n",
        "test_images = test_images.astype('float32') / 255\n",
        "\n",
        "train_labels = to_categorical(train_labels)\n",
        "test_labels = to_categorical(test_labels)"
      ],
      "execution_count": 0,
      "outputs": []
    },
    {
      "metadata": {
        "id": "7RejGwHsT8dV",
        "colab_type": "code",
        "colab": {}
      },
      "cell_type": "code",
      "source": [
        "train_images.shape"
      ],
      "execution_count": 0,
      "outputs": []
    },
    {
      "metadata": {
        "id": "BvFeVlk6Snfh",
        "colab_type": "text"
      },
      "cell_type": "markdown",
      "source": [
        "#### `LOG_DIR`에 log를 기록할 위치를 지정하고 tensorboard의 실행 port에 접근할 수 있는 링크 생성\n",
        "- Google drive의 `data/tb_logs` 폴더에 저장하도록 지정함.\n",
        "- Tensorboard를 실행하고 나면 Google drive에서 해당 폴더가 생성되어 있고 그 안에 log 파일이 있는 것이 확인됨."
      ]
    },
    {
      "metadata": {
        "id": "Vafa5h3-SfXS",
        "colab_type": "code",
        "colab": {}
      },
      "cell_type": "code",
      "source": [
        "\n",
        "LOG_DIR = '/content/drive/data/tb_logs'  \n",
        "\n",
        "!wget https://bin.equinox.io/c/4VmDzA7iaHb/ngrok-stable-linux-amd64.zip\n",
        "!unzip ngrok-stable-linux-amd64.zip\n",
        "\n",
        "import os\n",
        "if not os.path.exists(LOG_DIR):\n",
        "  os.makedirs(LOG_DIR)\n",
        "\n",
        "get_ipython().system_raw(\n",
        "    'tensorboard --logdir {} --host 0.0.0.0 --port 6006 &'\n",
        "    .format(LOG_DIR))\n",
        "\n",
        "get_ipython().system_raw('./ngrok http 6006 &')\n",
        "\n",
        "!curl -s http://localhost:4040/api/tunnels | python3 -c \\\n",
        "    \"import sys, json; print(json.load(sys.stdin)['tunnels'][0]['public_url'])\""
      ],
      "execution_count": 0,
      "outputs": []
    },
    {
      "metadata": {
        "id": "iTe1NCdmVT8U",
        "colab_type": "text"
      },
      "cell_type": "markdown",
      "source": [
        "#### Model building 및 fitting 시 TensorBoard 활용\n",
        "- TensorBoard의 `log_dir`를 위에서 지정한 `LOG_DIR` 안에 실행 시간을 이름으로 하는 폴더로 지정. \n",
        "- `model.fit`을 실행한 후 위의 코드 실행 후 출력된 주소를 클릭하면 tensorboard가 실행됨."
      ]
    },
    {
      "metadata": {
        "id": "D3YZk6dtSQ94",
        "colab_type": "code",
        "colab": {}
      },
      "cell_type": "code",
      "source": [
        "## Your answer comes here.\n",
        "from keras.callbacks import TensorBoard\n",
        "from keras.models import Sequential\n",
        "from keras import layers\n",
        "import time \n",
        "now = time.strftime(\"%c\")\n",
        "\n",
        "\n",
        "model = Sequential()\n",
        "model.add(layers.Conv2D(32, (3, 3), activation='relu', input_shape=(28, 28, 1)))\n",
        "model.add(layers.MaxPooling2D((2, 2)))\n",
        "model.add(layers.Conv2D(64, (3, 3), activation='relu'))\n",
        "model.add(layers.MaxPooling2D((2, 2)))\n",
        "model.add(layers.Flatten())\n",
        "model.add(layers.Dense(64, activation='relu'))\n",
        "model.add(layers.Dense(10, activation='softmax'))\n",
        "\n",
        "model.compile(optimizer='rmsprop',\n",
        "              loss='categorical_crossentropy',\n",
        "              metrics=['accuracy'])\n",
        "\n",
        "callbacks_list = [\n",
        "    TensorBoard(log_dir=LOG_DIR+'/'+now),\n",
        "]\n",
        "\n",
        "model.fit(train_images, train_labels, epochs=100, batch_size=128, validation_split=0.2, callbacks=callbacks_list)\n"
      ],
      "execution_count": 0,
      "outputs": []
    },
    {
      "metadata": {
        "id": "FPXR6CHgTd0Y",
        "colab_type": "code",
        "colab": {}
      },
      "cell_type": "code",
      "source": [
        ""
      ],
      "execution_count": 0,
      "outputs": []
    }
  ]
}