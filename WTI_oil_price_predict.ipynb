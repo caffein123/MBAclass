{
 "cells": [
  {
   "cell_type": "code",
   "execution_count": 15,
   "metadata": {},
   "outputs": [],
   "source": [
    "from IPython.display import clear_output\n",
    "!pip install requests\n",
    "!pip install --upgrade pandas\n",
    "!pip install konlpy\n",
    "!pip install gensim\n",
    "!cp -R /home/work/deep/jdk1.8.0_201 /usr/lib/jvm\n",
    "clear_output()"
   ]
  },
  {
   "cell_type": "code",
   "execution_count": 16,
   "metadata": {},
   "outputs": [],
   "source": [
    "import pandas as pd\n",
    "import numpy as np\n",
    "import requests\n",
    "df = pd.read_csv('data/NewsMainOutput.csv', encoding='UTF-8',sep='|')"
   ]
  },
  {
   "cell_type": "markdown",
   "metadata": {},
   "source": [
    "## News Data Load(국제유가 관련 뉴스)"
   ]
  },
  {
   "cell_type": "code",
   "execution_count": 17,
   "metadata": {},
   "outputs": [],
   "source": [
    "df['main']= df.main.str.replace(\"\\t\",\"\")\n",
    "df['main']= df['main'].str.replace('[','')\n",
    "df['main']= df['main'].str.replace(']','')\n",
    "df['main']= df['main'].str.replace('동아일보','')\n",
    "df['main']= df['main'].str.replace('동아닷컴','')\n",
    "df.dropna(how='any',inplace=True) \n",
    "#df['main']= df['main'].astype('str')\n",
    "data = {'time': df.time.unique(),'main' : df.groupby(['time'])['main'].apply(lambda x: \"%s\" % ', '.join(x)).values}\n",
    "df = pd.DataFrame(data=data)"
   ]
  },
  {
   "cell_type": "code",
   "execution_count": 18,
   "metadata": {},
   "outputs": [
    {
     "name": "stderr",
     "output_type": "stream",
     "text": [
      "/usr/local/lib/python3.5/dist-packages/konlpy/tag/_okt.py:16: UserWarning: \"Twitter\" has changed to \"Okt\" since KoNLPy v0.4.5.\n",
      "  warn('\"Twitter\" has changed to \"Okt\" since KoNLPy v0.4.5.')\n"
     ]
    }
   ],
   "source": [
    "from konlpy.tag import Twitter\n",
    "tagger = Twitter()\n",
    "\n",
    "def kor_noun(text):\n",
    "    words = []\n",
    "    for w in tagger.nouns(text):\n",
    "        if len(w) > 1:\n",
    "            words.append(w)\n",
    "    return words"
   ]
  },
  {
   "cell_type": "code",
   "execution_count": 19,
   "metadata": {},
   "outputs": [],
   "source": [
    "from sklearn.feature_extraction.text import CountVectorizer\n",
    "from gensim.matutils import Sparse2Corpus\n",
    "from gensim.models.ldamodel import LdaModel\n",
    "topic_lists = []\n",
    "for i in range(len(df)):\n",
    "    cv = CountVectorizer(tokenizer=kor_noun, max_features=1000)\n",
    "    articles = df['main'][i:i+1]\n",
    "    tdm = cv.fit_transform(articles)\n",
    "    words = cv.get_feature_names()\n",
    "    corpus = Sparse2Corpus(tdm.T)\n",
    "    lda = LdaModel(corpus=corpus, id2word=dict(enumerate(words)),\n",
    "               num_topics=1, passes=10, iterations=50,\n",
    "               random_state=1234)\n",
    "    word_lists = []\n",
    "    for cnt in range(10):\n",
    "        word_lists.append(lda.show_topic(0)[cnt][0])\n",
    "    topic_lists.append(word_lists)"
   ]
  },
  {
   "cell_type": "code",
   "execution_count": 22,
   "metadata": {},
   "outputs": [],
   "source": [
    "df = pd.concat([df,pd.DataFrame(np.array(topic_lists),columns=['top1','top2','top3','top4','top5','top6','top7','top8','top9','top10'])],axis=1)\n",
    "df = pd.concat([df[['time']],pd.concat([pd.get_dummies(df.top1),pd.get_dummies(df.top2),pd.get_dummies(df.top3)\n",
    "          ,pd.get_dummies(df.top4),pd.get_dummies(df.top5),pd.get_dummies(df.top6)\n",
    "          ,pd.get_dummies(df.top7),pd.get_dummies(df.top8),pd.get_dummies(df.top9)\n",
    "          ,pd.get_dummies(df.top10)], axis=1, sort=False).fillna(0)],axis=1)\n",
    "df = df.sum(axis=1, level=0)\n",
    "df['time'] = pd.to_datetime(data['time'], format='%Y.%m.%d.')"
   ]
  },
  {
   "cell_type": "markdown",
   "metadata": {},
   "source": [
    "## Load 주유소 기름 Data"
   ]
  },
  {
   "cell_type": "code",
   "execution_count": 38,
   "metadata": {},
   "outputs": [],
   "source": [
    "df_oil = pd.read_csv('주유소_평균판매가격_제품별.csv',encoding='UTF-8')\n",
    "df_oil['time'] = pd.to_datetime(df_oil['구분'], format='%Y년%m월%d일')\n",
    "df = df_oil[['time','고급휘발유','보통휘발유','자동차용경유']].merge(df,on='time',how='outer').fillna(0)"
   ]
  },
  {
   "cell_type": "markdown",
   "metadata": {},
   "source": [
    "## 다우존스 / 코스피 Data"
   ]
  },
  {
   "cell_type": "code",
   "execution_count": 41,
   "metadata": {},
   "outputs": [],
   "source": [
    "df_dji = pd.read_csv('다우존스 내역.csv', encoding='UTF-8')\n",
    "kospi = pd.read_csv('코스피지수 내역.csv', encoding='UTF-8')\n",
    "df_dji['날짜'] = pd.to_datetime(df_dji['날짜'], format='%Y년 %m월 %d일')\n",
    "kospi['날짜'] = pd.to_datetime(kospi['날짜'], format='%Y년 %m월 %d일')\n",
    "df_dji['현재가'] = df_dji['현재가'].str.replace(',','').astype('float')\n",
    "kospi['현재가'] = kospi['현재가'].str.replace(',','').astype('float')\n",
    "df_stock = df_dji[['날짜','현재가']].merge(kospi[['날짜','현재가']],on='날짜',how='outer')\n",
    "df_stock['현재가_x'] = df_stock['현재가_x'].fillna(df_stock.현재가_x.astype('float32').mean())\n",
    "df_stock['현재가_y'] = df_stock['현재가_y'].fillna(df_stock.현재가_y.astype('float32').mean())\n",
    "df_stock['time'] = df_stock['날짜'].dt.strftime('%Y-%m-%d')\n",
    "df['time'] = df['time'].dt.strftime('%Y-%m-%d')\n",
    "df = df.merge(df_stock[['time','현재가_x','현재가_y']],how='outer',on=\"time\")\n",
    "df['현재가_x'] = df['현재가_x'].fillna(df.현재가_x.astype('float32').mean())\n",
    "df['현재가_y'] = df['현재가_y'].fillna(df.현재가_y.astype('float32').mean())"
   ]
  },
  {
   "cell_type": "markdown",
   "metadata": {},
   "source": [
    "## 환율 Data(USD)"
   ]
  },
  {
   "cell_type": "code",
   "execution_count": null,
   "metadata": {},
   "outputs": [],
   "source": [
    "usd_list = []\n",
    "for date in list(df.time.unique()):\n",
    "    url = 'https://www.koreaexim.go.kr/site/program/financial/exchangeJSON?authkey=E24WPCtlRO2NyplVreVjosPe4XmFFtmb&searchdate={}&data=AP01'.format(date)\n",
    "    print('{} search start'.format(date))\n",
    "    try:\n",
    "        response = requests.get(url)\n",
    "    except:\n",
    "        print('retry')\n",
    "        response = requests.get(url)\n",
    "    if len(response.json()) == 0:\n",
    "        usd_list.append(None)\n",
    "        print('Null')\n",
    "    else:\n",
    "        for i in response.json():\n",
    "            if i['cur_unit'] == 'USD':\n",
    "                usd_list.append(i['ttb'])\n",
    "                print(i['ttb'])\n",
    "    print('{} search end'.format(date))"
   ]
  },
  {
   "cell_type": "code",
   "execution_count": 52,
   "metadata": {},
   "outputs": [],
   "source": [
    "pd.DataFrame(data={'er':usd_list,'time':df.time.unique()}).to_csv('er.csv',encoding='UTF-8')"
   ]
  },
  {
   "cell_type": "code",
   "execution_count": 56,
   "metadata": {},
   "outputs": [],
   "source": [
    "df_er = pd.read_csv('er.csv',encoding='UTF-8',index_col=0)\n",
    "df_er['er'] = df_er['er'].str.replace(',','').astype('float')\n",
    "df_er['er'] = df_er['er'].fillna(df_er['er'].mean())\n",
    "df_er['time'] = pd.to_datetime(df_er['time'], format='%Y-%m-%d').astype('str')\n",
    "df = df.merge(df_er,on='time',how='outer')"
   ]
  },
  {
   "cell_type": "markdown",
   "metadata": {},
   "source": [
    "##  Crude Oil Prices: West Texas Intermediate (WTI) Data (y 값)"
   ]
  },
  {
   "cell_type": "code",
   "execution_count": 62,
   "metadata": {},
   "outputs": [],
   "source": [
    "df_oil = pd.read_csv('DCOILWTICO.csv', encoding='UTF-8')\n",
    "df_oil.columns = ['time','price']\n",
    "df_oil = df_oil.drop(df.index[list(df_oil[df_oil.price=='.'].index)])\n",
    "df_oil['price']= df_oil.price.astype('float')\n",
    "df=df.merge(df_oil,how='outer',on=\"time\")"
   ]
  },
  {
   "cell_type": "code",
   "execution_count": 78,
   "metadata": {},
   "outputs": [],
   "source": [
    "df_copy = df.copy()"
   ]
  },
  {
   "cell_type": "code",
   "execution_count": null,
   "metadata": {},
   "outputs": [],
   "source": [
    "df = df.dropna(how='any').set_index('time')"
   ]
  },
  {
   "cell_type": "code",
   "execution_count": 86,
   "metadata": {},
   "outputs": [],
   "source": [
    "from keras.models import Sequential, load_model\n",
    "from keras import layers\n",
    "from keras import backend as K\n",
    "from keras import optimizers\n",
    "from keras.utils import plot_model\n",
    "from keras.callbacks import EarlyStopping, TensorBoard, ModelCheckpoint\n",
    "from keras.preprocessing import image\n",
    "\n",
    "import pandas as pd\n",
    "import numpy as np\n",
    "import matplotlib.pyplot as plt\n",
    "from IPython.display import Image\n",
    "import time\n",
    "from sklearn.preprocessing import MinMaxScaler\n",
    "from sklearn.metrics import mean_absolute_error\n",
    "from datetime import datetime"
   ]
  },
  {
   "cell_type": "code",
   "execution_count": 88,
   "metadata": {},
   "outputs": [],
   "source": [
    "from sklearn.preprocessing import MinMaxScaler\n",
    "scalerX = MinMaxScaler()\n",
    "x = scalerX.fit_transform(df)\n",
    "scalery = MinMaxScaler()\n",
    "y = scalery.fit_transform(df.iloc[:,[-1]])"
   ]
  },
  {
   "cell_type": "code",
   "execution_count": 89,
   "metadata": {},
   "outputs": [
    {
     "data": {
      "text/plain": [
       "Text(0, 0.5, 'Close')"
      ]
     },
     "execution_count": 89,
     "metadata": {},
     "output_type": "execute_result"
    },
    {
     "data": {
      "image/png": "[encoded data removed]",
      "text/plain": [
       "<Figure size 432x288 with 1 Axes>"
      ]
     },
     "metadata": {
      "needs_background": "light"
     },
     "output_type": "display_data"
    }
   ],
   "source": [
    "plt.plot(y)\n",
    "plt.xlabel(\"Time Period\")\n",
    "plt.ylabel(\"Close\")"
   ]
  },
  {
   "cell_type": "code",
   "execution_count": 90,
   "metadata": {},
   "outputs": [],
   "source": [
    "# Your answer comes here.\n",
    "SEQ_LEN = 3\n",
    "\n",
    "# build a dataset\n",
    "dataX = []\n",
    "dataY = []\n",
    "\n",
    "for i in range(0, len(y) - SEQ_LEN):\n",
    "    _x = x[i:i + SEQ_LEN]\n",
    "    _y = y[i + SEQ_LEN]\n",
    "    dataX.append(_x)\n",
    "    dataY.append(_y)\n",
    "\n",
    "dataX = np.array(dataX)\n",
    "dataY = np.array(dataY)"
   ]
  },
  {
   "cell_type": "code",
   "execution_count": 91,
   "metadata": {},
   "outputs": [
    {
     "data": {
      "text/plain": [
       "(2694, 1)"
      ]
     },
     "execution_count": 91,
     "metadata": {},
     "output_type": "execute_result"
    }
   ],
   "source": [
    "dataY.shape"
   ]
  },
  {
   "cell_type": "code",
   "execution_count": 92,
   "metadata": {},
   "outputs": [],
   "source": [
    "train_size = int(len(dataY) * 0.8)\n",
    "test_size = len(dataY) - train_size\n",
    "Xtrain, Xtest = np.array(dataX[0:train_size]), np.array(dataX[train_size:len(dataX)])\n",
    "ytrain, ytest = np.array(dataY[0:train_size]), np.array(dataY[train_size:len(dataY)])"
   ]
  },
  {
   "cell_type": "code",
   "execution_count": 93,
   "metadata": {},
   "outputs": [
    {
     "data": {
      "text/plain": [
       "((2155, 3, 954), (539, 3, 954))"
      ]
     },
     "execution_count": 93,
     "metadata": {},
     "output_type": "execute_result"
    }
   ],
   "source": [
    "np.shape(Xtrain), np.shape(Xtest)"
   ]
  },
  {
   "cell_type": "code",
   "execution_count": 94,
   "metadata": {},
   "outputs": [
    {
     "name": "stdout",
     "output_type": "stream",
     "text": [
      "WARNING:tensorflow:From /usr/local/lib/python3.5/dist-packages/tensorflow/python/framework/op_def_library.py:263: colocate_with (from tensorflow.python.framework.ops) is deprecated and will be removed in a future version.\n",
      "Instructions for updating:\n",
      "Colocations handled automatically by placer.\n",
      "_________________________________________________________________\n",
      "Layer (type)                 Output Shape              Param #   \n",
      "=================================================================\n",
      "lstm_1 (LSTM)                (None, 3, 32)             126336    \n",
      "_________________________________________________________________\n",
      "lstm_2 (LSTM)                (None, 16)                3136      \n",
      "_________________________________________________________________\n",
      "dense_1 (Dense)              (None, 1)                 17        \n",
      "=================================================================\n",
      "Total params: 129,489\n",
      "Trainable params: 129,489\n",
      "Non-trainable params: 0\n",
      "_________________________________________________________________\n"
     ]
    }
   ],
   "source": [
    "# Your answer comes here.\n",
    "from keras.models import Sequential\n",
    "from keras.layers import LSTM, Dense\n",
    "from keras import backend as K\n",
    "K.clear_session()\n",
    "model = Sequential()\n",
    "model.add(LSTM(32, input_shape=(3, 954), return_sequences=True))\n",
    "model.add(LSTM(16, return_sequences=False))\n",
    "model.add(Dense(1))\n",
    "model.compile(loss = 'mse', optimizer = 'adam', metrics = ['mae'])\n",
    "model.summary()"
   ]
  },
  {
   "cell_type": "code",
   "execution_count": 96,
   "metadata": {},
   "outputs": [
    {
     "name": "stdout",
     "output_type": "stream",
     "text": [
      "Train on 2155 samples, validate on 539 samples\n",
      "Epoch 1/50\n",
      "2155/2155 [==============================] - 1s 387us/step - loss: 2.2460e-04 - mean_absolute_error: 0.0106 - val_loss: 0.0023 - val_mean_absolute_error: 0.0307\n",
      "Epoch 2/50\n",
      "2155/2155 [==============================] - 1s 388us/step - loss: 2.4379e-04 - mean_absolute_error: 0.0110 - val_loss: 0.0028 - val_mean_absolute_error: 0.0345\n",
      "Epoch 3/50\n",
      "2155/2155 [==============================] - 1s 379us/step - loss: 2.3046e-04 - mean_absolute_error: 0.0108 - val_loss: 0.0024 - val_mean_absolute_error: 0.0298\n",
      "Epoch 4/50\n",
      "2155/2155 [==============================] - 1s 377us/step - loss: 2.3507e-04 - mean_absolute_error: 0.0107 - val_loss: 0.0025 - val_mean_absolute_error: 0.0316\n",
      "Epoch 5/50\n",
      "2155/2155 [==============================] - 1s 375us/step - loss: 2.1864e-04 - mean_absolute_error: 0.0103 - val_loss: 0.0027 - val_mean_absolute_error: 0.0358\n",
      "Epoch 6/50\n",
      "2155/2155 [==============================] - 1s 378us/step - loss: 2.4741e-04 - mean_absolute_error: 0.0111 - val_loss: 0.0025 - val_mean_absolute_error: 0.0321\n",
      "Epoch 7/50\n",
      "2155/2155 [==============================] - 1s 362us/step - loss: 2.4038e-04 - mean_absolute_error: 0.0109 - val_loss: 0.0028 - val_mean_absolute_error: 0.0374\n",
      "Epoch 8/50\n",
      "2155/2155 [==============================] - 1s 370us/step - loss: 2.4917e-04 - mean_absolute_error: 0.0113 - val_loss: 0.0025 - val_mean_absolute_error: 0.0325\n",
      "Epoch 9/50\n",
      "2155/2155 [==============================] - 1s 373us/step - loss: 2.2189e-04 - mean_absolute_error: 0.0105 - val_loss: 0.0024 - val_mean_absolute_error: 0.0294\n",
      "Epoch 10/50\n",
      "2155/2155 [==============================] - 1s 356us/step - loss: 2.3643e-04 - mean_absolute_error: 0.0108 - val_loss: 0.0024 - val_mean_absolute_error: 0.0304\n",
      "Epoch 11/50\n",
      "2155/2155 [==============================] - 1s 366us/step - loss: 2.3183e-04 - mean_absolute_error: 0.0107 - val_loss: 0.0025 - val_mean_absolute_error: 0.0320\n",
      "Epoch 12/50\n",
      "2155/2155 [==============================] - 1s 365us/step - loss: 2.4653e-04 - mean_absolute_error: 0.0112 - val_loss: 0.0027 - val_mean_absolute_error: 0.0357\n",
      "Epoch 13/50\n",
      "2155/2155 [==============================] - 1s 375us/step - loss: 2.1288e-04 - mean_absolute_error: 0.0101 - val_loss: 0.0025 - val_mean_absolute_error: 0.0314\n",
      "Epoch 14/50\n",
      "2155/2155 [==============================] - 1s 370us/step - loss: 2.2957e-04 - mean_absolute_error: 0.0107 - val_loss: 0.0026 - val_mean_absolute_error: 0.0342\n",
      "Epoch 15/50\n",
      "2155/2155 [==============================] - 1s 374us/step - loss: 2.3016e-04 - mean_absolute_error: 0.0107 - val_loss: 0.0027 - val_mean_absolute_error: 0.0328\n",
      "Epoch 16/50\n",
      "2155/2155 [==============================] - 1s 360us/step - loss: 2.3548e-04 - mean_absolute_error: 0.0110 - val_loss: 0.0029 - val_mean_absolute_error: 0.0366\n",
      "Epoch 17/50\n",
      "2155/2155 [==============================] - 1s 368us/step - loss: 2.4169e-04 - mean_absolute_error: 0.0110 - val_loss: 0.0028 - val_mean_absolute_error: 0.0352\n",
      "Epoch 18/50\n",
      "2155/2155 [==============================] - 1s 372us/step - loss: 2.3918e-04 - mean_absolute_error: 0.0109 - val_loss: 0.0029 - val_mean_absolute_error: 0.0361\n",
      "Epoch 19/50\n",
      "2155/2155 [==============================] - 1s 368us/step - loss: 2.2988e-04 - mean_absolute_error: 0.0107 - val_loss: 0.0023 - val_mean_absolute_error: 0.0285\n",
      "Epoch 20/50\n",
      "2155/2155 [==============================] - 1s 373us/step - loss: 2.4943e-04 - mean_absolute_error: 0.0114 - val_loss: 0.0024 - val_mean_absolute_error: 0.0310\n",
      "Epoch 21/50\n",
      "2155/2155 [==============================] - 1s 369us/step - loss: 2.2989e-04 - mean_absolute_error: 0.0108 - val_loss: 0.0027 - val_mean_absolute_error: 0.0326\n",
      "Epoch 22/50\n",
      "2155/2155 [==============================] - 1s 381us/step - loss: 2.3140e-04 - mean_absolute_error: 0.0108 - val_loss: 0.0026 - val_mean_absolute_error: 0.0321\n",
      "Epoch 23/50\n",
      "2155/2155 [==============================] - 1s 378us/step - loss: 2.2547e-04 - mean_absolute_error: 0.0105 - val_loss: 0.0026 - val_mean_absolute_error: 0.0313\n",
      "Epoch 24/50\n",
      "2155/2155 [==============================] - 1s 369us/step - loss: 2.2119e-04 - mean_absolute_error: 0.0103 - val_loss: 0.0026 - val_mean_absolute_error: 0.0304\n",
      "Epoch 25/50\n",
      "2155/2155 [==============================] - 1s 369us/step - loss: 2.2082e-04 - mean_absolute_error: 0.0103 - val_loss: 0.0027 - val_mean_absolute_error: 0.0343\n",
      "Epoch 26/50\n",
      "2155/2155 [==============================] - 1s 371us/step - loss: 2.2197e-04 - mean_absolute_error: 0.0102 - val_loss: 0.0027 - val_mean_absolute_error: 0.0338\n",
      "Epoch 27/50\n",
      "2155/2155 [==============================] - 1s 370us/step - loss: 2.1511e-04 - mean_absolute_error: 0.0102 - val_loss: 0.0028 - val_mean_absolute_error: 0.0345\n",
      "Epoch 28/50\n",
      "2155/2155 [==============================] - 1s 363us/step - loss: 2.1291e-04 - mean_absolute_error: 0.0102 - val_loss: 0.0026 - val_mean_absolute_error: 0.0308\n",
      "Epoch 29/50\n",
      "2155/2155 [==============================] - 1s 363us/step - loss: 2.4095e-04 - mean_absolute_error: 0.0109 - val_loss: 0.0026 - val_mean_absolute_error: 0.0299\n",
      "Epoch 30/50\n",
      "2155/2155 [==============================] - 1s 381us/step - loss: 2.2785e-04 - mean_absolute_error: 0.0106 - val_loss: 0.0028 - val_mean_absolute_error: 0.0346\n",
      "Epoch 31/50\n",
      "2155/2155 [==============================] - 1s 366us/step - loss: 2.2759e-04 - mean_absolute_error: 0.0106 - val_loss: 0.0028 - val_mean_absolute_error: 0.0345\n",
      "Epoch 32/50\n",
      "2155/2155 [==============================] - 1s 368us/step - loss: 2.1532e-04 - mean_absolute_error: 0.0102 - val_loss: 0.0027 - val_mean_absolute_error: 0.0318\n",
      "Epoch 33/50\n",
      "2155/2155 [==============================] - 1s 367us/step - loss: 2.2370e-04 - mean_absolute_error: 0.0103 - val_loss: 0.0027 - val_mean_absolute_error: 0.0329\n",
      "Epoch 34/50\n",
      "2155/2155 [==============================] - 1s 363us/step - loss: 2.3704e-04 - mean_absolute_error: 0.0108 - val_loss: 0.0026 - val_mean_absolute_error: 0.0319\n",
      "Epoch 35/50\n",
      "2155/2155 [==============================] - 1s 369us/step - loss: 2.2164e-04 - mean_absolute_error: 0.0103 - val_loss: 0.0027 - val_mean_absolute_error: 0.0329\n",
      "Epoch 36/50\n",
      "2155/2155 [==============================] - 1s 358us/step - loss: 2.3258e-04 - mean_absolute_error: 0.0108 - val_loss: 0.0032 - val_mean_absolute_error: 0.0400\n",
      "Epoch 37/50\n",
      "2155/2155 [==============================] - 1s 377us/step - loss: 2.2831e-04 - mean_absolute_error: 0.0107 - val_loss: 0.0029 - val_mean_absolute_error: 0.0348\n",
      "Epoch 38/50\n",
      "2155/2155 [==============================] - 1s 370us/step - loss: 2.1541e-04 - mean_absolute_error: 0.0103 - val_loss: 0.0030 - val_mean_absolute_error: 0.0356\n",
      "Epoch 39/50\n",
      "2155/2155 [==============================] - 1s 377us/step - loss: 2.1319e-04 - mean_absolute_error: 0.0101 - val_loss: 0.0025 - val_mean_absolute_error: 0.0296\n",
      "Epoch 40/50\n",
      "2155/2155 [==============================] - 1s 368us/step - loss: 2.2964e-04 - mean_absolute_error: 0.0106 - val_loss: 0.0029 - val_mean_absolute_error: 0.0349\n",
      "Epoch 41/50\n",
      "2155/2155 [==============================] - 1s 366us/step - loss: 2.2785e-04 - mean_absolute_error: 0.0105 - val_loss: 0.0028 - val_mean_absolute_error: 0.0345\n",
      "Epoch 42/50\n",
      "2155/2155 [==============================] - 1s 358us/step - loss: 2.2146e-04 - mean_absolute_error: 0.0104 - val_loss: 0.0029 - val_mean_absolute_error: 0.0351\n",
      "Epoch 43/50\n",
      "2155/2155 [==============================] - 1s 384us/step - loss: 2.1511e-04 - mean_absolute_error: 0.0102 - val_loss: 0.0029 - val_mean_absolute_error: 0.0340\n",
      "Epoch 44/50\n",
      "2155/2155 [==============================] - 1s 372us/step - loss: 2.1458e-04 - mean_absolute_error: 0.0101 - val_loss: 0.0027 - val_mean_absolute_error: 0.0323\n",
      "Epoch 45/50\n",
      "2155/2155 [==============================] - 1s 382us/step - loss: 2.3800e-04 - mean_absolute_error: 0.0108 - val_loss: 0.0026 - val_mean_absolute_error: 0.0304\n",
      "Epoch 46/50\n",
      "2155/2155 [==============================] - 1s 375us/step - loss: 2.2111e-04 - mean_absolute_error: 0.0105 - val_loss: 0.0028 - val_mean_absolute_error: 0.0323\n",
      "Epoch 47/50\n",
      "2155/2155 [==============================] - 1s 367us/step - loss: 2.2648e-04 - mean_absolute_error: 0.0105 - val_loss: 0.0028 - val_mean_absolute_error: 0.0334\n",
      "Epoch 48/50\n",
      "2155/2155 [==============================] - 1s 367us/step - loss: 2.2665e-04 - mean_absolute_error: 0.0106 - val_loss: 0.0027 - val_mean_absolute_error: 0.0304\n",
      "Epoch 49/50\n",
      "2155/2155 [==============================] - 1s 372us/step - loss: 2.3025e-04 - mean_absolute_error: 0.0106 - val_loss: 0.0031 - val_mean_absolute_error: 0.0357\n",
      "Epoch 50/50\n",
      "2155/2155 [==============================] - 1s 369us/step - loss: 2.4172e-04 - mean_absolute_error: 0.0111 - val_loss: 0.0028 - val_mean_absolute_error: 0.0332\n"
     ]
    }
   ],
   "source": [
    "# Your answer comes here.\n",
    "from keras.callbacks import TensorBoard\n",
    "import time\n",
    "now = time.strftime(\"%c\")\n",
    "callbacks_list = [\n",
    "    ModelCheckpoint(filepath='stock'+now+'.h5',monitor='val_loss',save_best_only=True)\n",
    "]\n",
    "history=model.fit(Xtrain, ytrain, validation_data=(Xtest,ytest),epochs=50, verbose=1,callbacks=callbacks_list)"
   ]
  },
  {
   "cell_type": "code",
   "execution_count": 97,
   "metadata": {},
   "outputs": [],
   "source": [
    "model = load_model('stockThu May 30 06:00:37 2019.h5')  # best model 불러오기\n",
    "test_predict = model.predict(Xtest)\n",
    "test_predict_back = scalery.inverse_transform(test_predict)\n",
    "ytest_back = scalery.inverse_transform(ytest)"
   ]
  },
  {
   "cell_type": "code",
   "execution_count": 98,
   "metadata": {},
   "outputs": [
    {
     "data": {
      "image/png": "[encoded data removed]",
      "text/plain": [
       "<Figure size 432x288 with 1 Axes>"
      ]
     },
     "metadata": {
      "needs_background": "light"
     },
     "output_type": "display_data"
    }
   ],
   "source": [
    "# Plot predictions\n",
    "plt.plot(ytest_back, label = 'Y')\n",
    "plt.plot(test_predict_back, label = 'Y_predicted')\n",
    "plt.xlabel(\"Time Period\")\n",
    "plt.ylabel(\"Stock Price\")\n",
    "plt.legend()\n",
    "plt.show()"
   ]
  },
  {
   "cell_type": "code",
   "execution_count": null,
   "metadata": {},
   "outputs": [],
   "source": []
  }
 ],
 "metadata": {
  "kernelspec": {
   "display_name": "Python 3.5 (NGC/TensorFlow 18.12) on Backend.AI",
   "language": "python",
   "name": "python3"
  },
  "language_info": {
   "codemirror_mode": {
    "name": "ipython",
    "version": 3
   },
   "file_extension": ".py",
   "mimetype": "text/x-python",
   "name": "python",
   "nbconvert_exporter": "python",
   "pygments_lexer": "ipython3",
   "version": "3.5.2"
  }
 },
 "nbformat": 4,
 "nbformat_minor": 2
}
